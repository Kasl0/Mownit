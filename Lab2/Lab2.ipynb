{
 "cells": [
  {
   "cell_type": "markdown",
   "metadata": {},
   "source": [
    "# MOwNiT\n",
    "## Laboratorium 2 - Arytmetyka komputerowa\n"
   ]
  },
  {
   "cell_type": "markdown",
   "metadata": {},
   "source": [
    "Kalkulatory IEEE-754:\n",
    "* http://babbage.cs.qc.cuny.edu/IEEE-754/\n",
    "* https://www.h-schmidt.net/FloatConverter/IEEE754.html"
   ]
  },
  {
   "cell_type": "code",
   "execution_count": 52,
   "metadata": {},
   "outputs": [
    {
     "data": {
      "text/plain": [
       "decode (generic function with 1 method)"
      ]
     },
     "metadata": {},
     "output_type": "display_data"
    }
   ],
   "source": [
    "# znak, cecha, mantysa\n",
    "# uwaga - w Julii tablice indeksujemy od 1\n",
    "# uwaga: ukryta jedynka nie jest pamiętana\n",
    "# uwaga: cecha jest pamiętana w kodzie z nadmiarem (tutaj BIAS=127)\n",
    "decode(x::Float32) = (b=bitstring(x); (b[1], b[2:9], b[10:32]))"
   ]
  },
  {
   "cell_type": "markdown",
   "metadata": {},
   "source": [
    "## Trochę teorii o IEEE-754"
   ]
  },
  {
   "cell_type": "markdown",
   "metadata": {},
   "source": [
    "Liczby zmienno przecinkowe są zapisywane w standardzie jako:\n",
    "\n",
    "$L = (-1)^{znak} * mantysa * 2^{cecha}$ \n",
    "\n",
    "* znak - 0 oznacza liczbę dodatnią, 1 ujemną\n",
    "* mantysa - wpływa na precyzje\n",
    "* cecha - wpływa na zakres, składająca się z samych 0 albo 1 ma specjalne znaczenie"
   ]
  },
  {
   "cell_type": "markdown",
   "metadata": {},
   "source": [
    "| Nazwa     | Liczba bitów | Bity znaku | Bity cechy | Bity mantysy | Bias  | Dokładność (cyfry znaczące) | Uwagi                                 |\n",
    "|-----------|--------------|------------|------------|--------------|-------|-----------------------------|---------------------------------------|\n",
    "| half      | 16           | 1          | 5          | 10           | 15    | 4                           |                                       |\n",
    "| single    | 32           | 1          | 8          | 23           | 127   | 7                           |                                       |\n",
    "| double    | 64           | 1          | 11         | 52           | 1023  | 16                          |                                       |\n",
    "| quadruple | 128          | 1          | 15         | 112          | 16383 | 34                          | Wprowadzone w 2008, niezbyt popularne |"
   ]
  },
  {
   "cell_type": "markdown",
   "metadata": {},
   "source": [
    "### Liczby znormalizowane"
   ]
  },
  {
   "cell_type": "markdown",
   "metadata": {},
   "source": [
    "Mantysa ma wartość z przedziału [1,2) - pierwszy bit ma zawsze wartość 1, więc nie trzeba go zapisywać (jest on tam \"domyślnie\")\n",
    "$L = (-1)^{znak} * 1.mantysa * 2^{cecha-bias}$"
   ]
  },
  {
   "cell_type": "code",
   "execution_count": 2,
   "metadata": {
    "scrolled": true
   },
   "outputs": [
    {
     "data": {
      "text/plain": [
       "('0', \"10000000\", \"01000000000000000000000\")"
      ]
     },
     "metadata": {},
     "output_type": "display_data"
    }
   ],
   "source": [
    "decode(Float32(2.5))"
   ]
  },
  {
   "cell_type": "markdown",
   "metadata": {},
   "source": [
    "Policzenie wartości na podstawie reprezentacji bitowej."
   ]
  },
  {
   "cell_type": "code",
   "execution_count": 3,
   "metadata": {},
   "outputs": [
    {
     "data": {
      "text/plain": [
       "(1, 1.25)"
      ]
     },
     "metadata": {},
     "output_type": "display_data"
    }
   ],
   "source": [
    "cecha = 2^7-127\n",
    "mantysa = 2^-2 + 1\n",
    "cecha, mantysa"
   ]
  },
  {
   "cell_type": "code",
   "execution_count": 4,
   "metadata": {},
   "outputs": [
    {
     "data": {
      "text/plain": [
       "2.5"
      ]
     },
     "metadata": {},
     "output_type": "display_data"
    }
   ],
   "source": [
    "L = 1 * mantysa * 2^cecha"
   ]
  },
  {
   "cell_type": "markdown",
   "metadata": {},
   "source": [
    "### Liczba 0"
   ]
  },
  {
   "cell_type": "markdown",
   "metadata": {},
   "source": [
    "Wartości 0 nie da się zapisać w postaci znormalizowanej. Jeżeli zarówno mantysa jak i cecha zawierają same 0, to reprezentowana jest wartość 0.\n",
    "\n",
    "Ze względu na bit znaku, istnieją dwie możliwości 0: +0 oraz -0."
   ]
  },
  {
   "cell_type": "code",
   "execution_count": 5,
   "metadata": {},
   "outputs": [
    {
     "data": {
      "text/plain": [
       "('1', \"00000000\", \"00000000000000000000000\")"
      ]
     },
     "metadata": {},
     "output_type": "display_data"
    }
   ],
   "source": [
    "decode(Float32(-0.0))"
   ]
  },
  {
   "cell_type": "code",
   "execution_count": 6,
   "metadata": {},
   "outputs": [
    {
     "data": {
      "text/plain": [
       "('0', \"00000000\", \"00000000000000000000000\")"
      ]
     },
     "metadata": {},
     "output_type": "display_data"
    }
   ],
   "source": [
    "decode(Float32(+0.0))"
   ]
  },
  {
   "cell_type": "code",
   "execution_count": 7,
   "metadata": {},
   "outputs": [
    {
     "data": {
      "text/plain": [
       "true"
      ]
     },
     "metadata": {},
     "output_type": "display_data"
    }
   ],
   "source": [
    "Float32(-0.0) == Float32(+0.0) # Oba zera są równe"
   ]
  },
  {
   "cell_type": "markdown",
   "metadata": {},
   "source": [
    "### Liczby zdenormalizowane\n",
    "\n",
    "Jeżeli cecha składa się z samych 0 to liczba jest *zdenormalizowana* i mantysa nie posiada \"domyślnego\" bitu. Pozwala to na reprezentacje liczb bliskich 0, które bez denormalizacji byłyby 0.\n",
    "\n",
    "$L = (-1)^{znak} * 0.mantysa * 2^{-bias+1}$\n",
    "\n",
    "Uwaga: Liczba 0 nie jest określana jako zdenormalizowana, pomimo, że cecha ma same 0!"
   ]
  },
  {
   "cell_type": "code",
   "execution_count": 8,
   "metadata": {},
   "outputs": [
    {
     "data": {
      "text/plain": [
       "(('0', \"00000000\", \"00000000000001011001010\"), true)"
      ]
     },
     "metadata": {},
     "output_type": "display_data"
    }
   ],
   "source": [
    "L = Float32(1e-42)\n",
    "decode(Float32(L)), issubnormal(L)"
   ]
  },
  {
   "cell_type": "markdown",
   "metadata": {},
   "source": [
    "### Wartości specjalne"
   ]
  },
  {
   "cell_type": "markdown",
   "metadata": {},
   "source": [
    "####  Nieskończoność\n",
    "\n",
    "Reprezentowana jest przez cechę z samych 1 oraz mantysę z samych 0. W zależności od znaku można wyróżnić $-\\infty$ oraz $+\\infty$."
   ]
  },
  {
   "cell_type": "code",
   "execution_count": 9,
   "metadata": {},
   "outputs": [
    {
     "data": {
      "text/plain": [
       "('0', \"11111111\", \"00000000000000000000000\")"
      ]
     },
     "metadata": {},
     "output_type": "display_data"
    }
   ],
   "source": [
    "decode(Inf32)"
   ]
  },
  {
   "cell_type": "code",
   "execution_count": 10,
   "metadata": {},
   "outputs": [
    {
     "data": {
      "text/plain": [
       "('1', \"11111111\", \"00000000000000000000000\")"
      ]
     },
     "metadata": {},
     "output_type": "display_data"
    }
   ],
   "source": [
    "decode(-Inf32)"
   ]
  },
  {
   "cell_type": "markdown",
   "metadata": {},
   "source": [
    "#### NaN\n",
    "\n",
    "Reprezentowana jest przez cechę z samych 1 oraz mantysę różną od 0.\n",
    "\n",
    "`NaN`ami są np. 0/0, $\\infty - \\infty$"
   ]
  },
  {
   "cell_type": "code",
   "execution_count": 11,
   "metadata": {},
   "outputs": [
    {
     "data": {
      "text/plain": [
       "NaN32"
      ]
     },
     "metadata": {},
     "output_type": "display_data"
    }
   ],
   "source": [
    "Float32(0)/Float32(0)"
   ]
  },
  {
   "cell_type": "code",
   "execution_count": 12,
   "metadata": {},
   "outputs": [
    {
     "data": {
      "text/plain": [
       "NaN32"
      ]
     },
     "metadata": {},
     "output_type": "display_data"
    }
   ],
   "source": [
    "Inf32 - Inf32"
   ]
  },
  {
   "cell_type": "code",
   "execution_count": 13,
   "metadata": {},
   "outputs": [
    {
     "data": {
      "text/plain": [
       "('0', \"11111111\", \"10000000000000000000000\")"
      ]
     },
     "metadata": {},
     "output_type": "display_data"
    }
   ],
   "source": [
    "decode(NaN32)"
   ]
  },
  {
   "cell_type": "markdown",
   "metadata": {},
   "source": [
    "### Praktyczne wskazówki"
   ]
  },
  {
   "cell_type": "markdown",
   "metadata": {},
   "source": [
    "Kolejność działań ma znaczenie:"
   ]
  },
  {
   "cell_type": "code",
   "execution_count": 14,
   "metadata": {},
   "outputs": [
    {
     "data": {
      "text/plain": [
       "5.9604645f-8"
      ]
     },
     "metadata": {},
     "output_type": "display_data"
    }
   ],
   "source": [
    "e = eps(Float32)/2"
   ]
  },
  {
   "cell_type": "code",
   "execution_count": 15,
   "metadata": {
    "scrolled": true
   },
   "outputs": [
    {
     "data": {
      "text/plain": [
       "1.0f0"
      ]
     },
     "metadata": {},
     "output_type": "display_data"
    }
   ],
   "source": [
    "(Float32(1.0) + e) + e"
   ]
  },
  {
   "cell_type": "code",
   "execution_count": 16,
   "metadata": {},
   "outputs": [
    {
     "data": {
      "text/plain": [
       "1.0000001f0"
      ]
     },
     "metadata": {},
     "output_type": "display_data"
    }
   ],
   "source": [
    "Float32(1.0) + (e + e)"
   ]
  },
  {
   "cell_type": "markdown",
   "metadata": {},
   "source": [
    "Wniosek: Sumujemy od najmniejszych"
   ]
  },
  {
   "cell_type": "markdown",
   "metadata": {},
   "source": [
    "Nie powinno się porównywać floatów bezpośrednio. Większość języków posiada funkcje do porówywania liczb zmiennoprzecinkowych z tolerancją, np. `isapprox` w Julii, `numpy.isclose` w Pythonie etc."
   ]
  },
  {
   "cell_type": "code",
   "execution_count": 17,
   "metadata": {},
   "outputs": [
    {
     "data": {
      "text/plain": [
       "false"
      ]
     },
     "metadata": {},
     "output_type": "display_data"
    }
   ],
   "source": [
    "0.1 + 0.2 == 0.3"
   ]
  },
  {
   "cell_type": "code",
   "execution_count": 18,
   "metadata": {},
   "outputs": [
    {
     "data": {
      "text/plain": [
       "true"
      ]
     },
     "metadata": {},
     "output_type": "display_data"
    }
   ],
   "source": [
    "isapprox(0.1 + 0.2, 0.3)"
   ]
  },
  {
   "cell_type": "markdown",
   "metadata": {},
   "source": [
    "## Przykłady"
   ]
  },
  {
   "cell_type": "code",
   "execution_count": 19,
   "metadata": {},
   "outputs": [
    {
     "data": {
      "text/plain": [
       "\"00111101110011001100110011001101\""
      ]
     },
     "metadata": {},
     "output_type": "display_data"
    }
   ],
   "source": [
    "bitstring(Float32(.1))"
   ]
  },
  {
   "cell_type": "code",
   "execution_count": 20,
   "metadata": {
    "scrolled": true
   },
   "outputs": [
    {
     "data": {
      "text/plain": [
       "\"00111111100000000000000000000000\""
      ]
     },
     "metadata": {},
     "output_type": "display_data"
    }
   ],
   "source": [
    "bitstring(Float32(1.0))"
   ]
  },
  {
   "cell_type": "code",
   "execution_count": 21,
   "metadata": {},
   "outputs": [
    {
     "data": {
      "text/plain": [
       "\"0011111111110000000000000000000000000000000000000000000000000000\""
      ]
     },
     "metadata": {},
     "output_type": "display_data"
    }
   ],
   "source": [
    "bitstring(Float64(1.0))"
   ]
  },
  {
   "cell_type": "code",
   "execution_count": 22,
   "metadata": {},
   "outputs": [
    {
     "data": {
      "text/plain": [
       "\"0011111111110000000000000000000000000000000000000000000000000000\""
      ]
     },
     "metadata": {},
     "output_type": "display_data"
    }
   ],
   "source": [
    "# domyślnie Float64\n",
    "bitstring(1.0)"
   ]
  },
  {
   "cell_type": "code",
   "execution_count": 23,
   "metadata": {},
   "outputs": [
    {
     "data": {
      "text/plain": [
       "\"0011110000000000\""
      ]
     },
     "metadata": {},
     "output_type": "display_data"
    }
   ],
   "source": [
    "# Float16\n",
    "bitstring(Float16(1.0))"
   ]
  },
  {
   "cell_type": "code",
   "execution_count": 24,
   "metadata": {},
   "outputs": [
    {
     "name": "stdout",
     "output_type": "stream",
     "text": [
      "1.2*2^0\n"
     ]
    }
   ],
   "source": [
    "println(significand(Float32(1.2)), \"*2^\", exponent(Float32(1.20)))"
   ]
  },
  {
   "cell_type": "code",
   "execution_count": 25,
   "metadata": {},
   "outputs": [
    {
     "data": {
      "text/plain": [
       "10-element Vector{String}:\n",
       " \"00111111100000000000000000000000\"\n",
       " \"00111111100000000000000000000001\"\n",
       " \"00111111100000000000000000000010\"\n",
       " \"00111111100000000000000000000011\"\n",
       " \"00111111100000000000000000000100\"\n",
       " \"00111111100000000000000000000101\"\n",
       " \"00111111100000000000000000000110\"\n",
       " \"00111111100000000000000000000111\"\n",
       " \"00111111100000000000000000001000\"\n",
       " \"00111111100000000000000000001001\""
      ]
     },
     "metadata": {},
     "output_type": "display_data"
    }
   ],
   "source": [
    "# co ile liczby sa reprezentowane \n",
    "c=Float32[]\n",
    "a=Float32(1.0)\n",
    "r=1:10\n",
    "for i=r\n",
    "    push!(c, a)\n",
    "    a=nextfloat(a)\n",
    "end\n",
    "map(x-> bitstring(x),c)"
   ]
  },
  {
   "cell_type": "code",
   "execution_count": 26,
   "metadata": {},
   "outputs": [
    {
     "data": {
      "text/plain": [
       "1.1920929f-7"
      ]
     },
     "metadata": {},
     "output_type": "display_data"
    }
   ],
   "source": [
    "# Maszynowe epsilon mówi, jaki jest odstęp między kolejnymi liczbami zmiennoprzecinkowymi reprezentowanymi w komputerze\n",
    "eps(Float32(1))"
   ]
  },
  {
   "cell_type": "code",
   "execution_count": 27,
   "metadata": {},
   "outputs": [
    {
     "data": {
      "text/plain": [
       "2.3841858f-7"
      ]
     },
     "metadata": {},
     "output_type": "display_data"
    }
   ],
   "source": [
    "eps(Float32(2))"
   ]
  },
  {
   "cell_type": "code",
   "execution_count": 28,
   "metadata": {
    "nbgrader": {
     "grade": true,
     "grade_id": "cell-510e2987d5b4ebfc",
     "locked": false,
     "points": 2,
     "schema_version": 1,
     "solution": true
    }
   },
   "outputs": [
    {
     "name": "stdout",
     "output_type": "stream",
     "text": [
      "5.0e-34('0', \"00010000\", \"01001100010011101001100\")  false\n",
      "2.5e-34('0', \"00001111\", \"01001100010011101001100\")  false\n",
      "1.25e-34('0', \"00001110\", \"01001100010011101001100\")  false\n",
      "6.25e-35('0', \"00001101\", \"01001100010011101001100\")  false\n",
      "3.125e-35('0', \"00001100\", \"01001100010011101001100\")  false\n",
      "1.5625e-35('0', \"00001011\", \"01001100010011101001100\")  false\n",
      "7.8125e-36('0', \"00001010\", \"01001100010011101001100\")  false\n",
      "3.90625e-36('0', \"00001001\", \"01001100010011101001100\")  false\n",
      "1.953125e-36('0', \"00001000\", \"01001100010011101001100\")  false\n",
      "9.765625e-37('0', \"00000111\", \"01001100010011101001100\")  false\n",
      "4.8828126e-37('0', \"00000110\", \"01001100010011101001100\")  false\n",
      "2.4414063e-37('0', \"00000101\", \"01001100010011101001100\")  false\n",
      "1.2207032e-37('0', \"00000100\", \"01001100010011101001100\")  false\n",
      "6.103516e-38('0', \"00000011\", \"01001100010011101001100\")  false\n",
      "3.051758e-38('0', \"00000010\", \"01001100010011101001100\")  false\n",
      "1.525879e-38('0', \"00000001\", \"01001100010011101001100\")  false\n",
      "7.629395e-39('0', \"00000000\", \"10100110001001110100110\")  true\n",
      "3.814697e-39('0', \"00000000\", \"01010011000100111010011\")  true\n",
      "1.90735e-39('0', \"00000000\", \"00101001100010011101010\")  true\n",
      "9.53675e-40('0', \"00000000\", \"00010100110001001110101\")  true\n",
      "4.76837e-40('0', \"00000000\", \"00001010011000100111010\")  true\n",
      "2.38418e-40('0', \"00000000\", \"00000101001100010011101\")  true\n",
      "1.19208e-40('0', \"00000000\", \"00000010100110001001110\")  true\n",
      "5.9604e-41('0', \"00000000\", \"00000001010011000100111\")  true\n",
      "2.9803e-41('0', \"00000000\", \"00000000101001100010100\")  true\n",
      "1.4901e-41('0', \"00000000\", \"00000000010100110001010\")  true\n",
      "7.451e-42('0', \"00000000\", \"00000000001010011000101\")  true\n",
      "3.725e-42('0', \"00000000\", \"00000000000101001100010\")  true\n",
      "1.862e-42('0', \"00000000\", \"00000000000010100110001\")  true\n",
      "9.3e-43('0', \"00000000\", \"00000000000001010011000\")  true\n",
      "4.65e-43('0', \"00000000\", \"00000000000000101001100\")  true\n",
      "2.33e-43('0', \"00000000\", \"00000000000000010100110\")  true\n",
      "1.16e-43('0', \"00000000\", \"00000000000000001010011\")  true\n",
      "5.9e-44('0', \"00000000\", \"00000000000000000101010\")  true\n",
      "3.0e-44('0', \"00000000\", \"00000000000000000010101\")  true\n",
      "1.4e-44('0', \"00000000\", \"00000000000000000001010\")  true\n",
      "7.0e-45('0', \"00000000\", \"00000000000000000000101\")  true\n",
      "3.0e-45('0', \"00000000\", \"00000000000000000000010\")  true\n",
      "1.0e-45('0', \"00000000\", \"00000000000000000000001\")  true\n",
      "0.0('0', \"00000000\", \"00000000000000000000000\")  false\n"
     ]
    }
   ],
   "source": [
    "# Badanie postaci zdenormalizowanej. Co się dzieje, jak liczby są coraz mniejsze?\n",
    "a = Float32(1e-33)\n",
    "while a > 0\n",
    "    a = a/Float32(2.0)\n",
    "    println(a, decode(a), \"  \", issubnormal(a))\n",
    "end"
   ]
  },
  {
   "cell_type": "code",
   "execution_count": 45,
   "metadata": {},
   "outputs": [],
   "source": [
    "# Rysowanie wykresów\n",
    "# using Pkg\n",
    "# Pkg.add(\"Plots\")\n",
    "# http://docs.juliaplots.org/latest/tutorial/\n",
    "using Plots"
   ]
  },
  {
   "cell_type": "code",
   "execution_count": 46,
   "metadata": {},
   "outputs": [
    {
     "data": {
      "image/png": "[encoded data removed]",
      "image/svg+xml": "<?xml version=\"1.0\" encoding=\"utf-8\"?>\n<svg xmlns=\"http://www.w3.org/2000/svg\" xmlns:xlink=\"http://www.w3.org/1999/xlink\" width=\"600\" height=\"400\" viewBox=\"0 0 2400 1600\">\n<defs>\n  <clipPath id=\"clip820\">\n    <rect x=\"0\" y=\"0\" width=\"2400\" height=\"1600\"/>\n  </clipPath>\n</defs>\n<path clip-path=\"url(#clip820)\" d=\"M0 1600 L2400 1600 L2400 0 L0 0  Z\" fill=\"#ffffff\" fill-rule=\"evenodd\" fill-opacity=\"1\"/>\n<defs>\n  <clipPath id=\"clip821\">\n    <rect x=\"480\" y=\"0\" width=\"1681\" height=\"1600\"/>\n  </clipPath>\n</defs>\n<path clip-path=\"url(#clip820)\" d=\"M112.177 1486.45 L2352.76 1486.45 L2352.76 47.2441 L112.177 47.2441  Z\" fill=\"#ffffff\" fill-rule=\"evenodd\" fill-opacity=\"1\"/>\n<defs>\n  <clipPath id=\"clip822\">\n    <rect x=\"112\" y=\"47\" width=\"2242\" height=\"1440\"/>\n  </clipPath>\n</defs>\n<polyline clip-path=\"url(#clip822)\" style=\"stroke:#000000; stroke-linecap:round; stroke-linejoin:round; stroke-width:2; stroke-opacity:0.1; fill:none\" points=\"175.59,1486.45 175.59,47.2441 \"/>\n<polyline clip-path=\"url(#clip822)\" style=\"stroke:#000000; stroke-linecap:round; stroke-linejoin:round; stroke-width:2; stroke-opacity:0.1; fill:none\" points=\"704.028,1486.45 704.028,47.2441 \"/>\n<polyline clip-path=\"url(#clip822)\" style=\"stroke:#000000; stroke-linecap:round; stroke-linejoin:round; stroke-width:2; stroke-opacity:0.1; fill:none\" points=\"1232.47,1486.45 1232.47,47.2441 \"/>\n<polyline clip-path=\"url(#clip822)\" style=\"stroke:#000000; stroke-linecap:round; stroke-linejoin:round; stroke-width:2; stroke-opacity:0.1; fill:none\" points=\"1760.9,1486.45 1760.9,47.2441 \"/>\n<polyline clip-path=\"url(#clip822)\" style=\"stroke:#000000; stroke-linecap:round; stroke-linejoin:round; stroke-width:2; stroke-opacity:0.1; fill:none\" points=\"2289.34,1486.45 2289.34,47.2441 \"/>\n<polyline clip-path=\"url(#clip820)\" style=\"stroke:#000000; stroke-linecap:round; stroke-linejoin:round; stroke-width:4; stroke-opacity:1; fill:none\" points=\"112.177,1486.45 2352.76,1486.45 \"/>\n<polyline clip-path=\"url(#clip820)\" style=\"stroke:#000000; stroke-linecap:round; stroke-linejoin:round; stroke-width:4; stroke-opacity:1; fill:none\" points=\"175.59,1486.45 175.59,1467.55 \"/>\n<polyline clip-path=\"url(#clip820)\" style=\"stroke:#000000; stroke-linecap:round; stroke-linejoin:round; stroke-width:4; stroke-opacity:1; fill:none\" points=\"704.028,1486.45 704.028,1467.55 \"/>\n<polyline clip-path=\"url(#clip820)\" style=\"stroke:#000000; stroke-linecap:round; stroke-linejoin:round; stroke-width:4; stroke-opacity:1; fill:none\" points=\"1232.47,1486.45 1232.47,1467.55 \"/>\n<polyline clip-path=\"url(#clip820)\" style=\"stroke:#000000; stroke-linecap:round; stroke-linejoin:round; stroke-width:4; stroke-opacity:1; fill:none\" points=\"1760.9,1486.45 1760.9,1467.55 \"/>\n<polyline clip-path=\"url(#clip820)\" style=\"stroke:#000000; stroke-linecap:round; stroke-linejoin:round; stroke-width:4; stroke-opacity:1; fill:none\" points=\"2289.34,1486.45 2289.34,1467.55 \"/>\n<path clip-path=\"url(#clip820)\" d=\"M165.972 1544.91 L173.611 1544.91 L173.611 1518.55 L165.3 1520.21 L165.3 1515.95 L173.564 1514.29 L178.24 1514.29 L178.24 1544.91 L185.879 1544.91 L185.879 1548.85 L165.972 1548.85 L165.972 1544.91 Z\" fill=\"#000000\" fill-rule=\"evenodd\" fill-opacity=\"1\" /><path clip-path=\"url(#clip820)\" d=\"M698.681 1544.91 L715 1544.91 L715 1548.85 L693.056 1548.85 L693.056 1544.91 Q695.718 1542.16 700.301 1537.53 Q704.908 1532.88 706.088 1531.53 Q708.334 1529.01 709.213 1527.27 Q710.116 1525.51 710.116 1523.82 Q710.116 1521.07 708.172 1519.33 Q706.25 1517.6 703.149 1517.6 Q700.949 1517.6 698.496 1518.36 Q696.065 1519.13 693.287 1520.68 L693.287 1515.95 Q696.112 1514.82 698.565 1514.24 Q701.019 1513.66 703.056 1513.66 Q708.426 1513.66 711.621 1516.35 Q714.815 1519.03 714.815 1523.52 Q714.815 1525.65 714.005 1527.57 Q713.218 1529.47 711.111 1532.07 Q710.533 1532.74 707.431 1535.95 Q704.329 1539.15 698.681 1544.91 Z\" fill=\"#000000\" fill-rule=\"evenodd\" fill-opacity=\"1\" /><path clip-path=\"url(#clip820)\" d=\"M1236.71 1530.21 Q1240.07 1530.93 1241.95 1533.2 Q1243.84 1535.47 1243.84 1538.8 Q1243.84 1543.92 1240.33 1546.72 Q1236.81 1549.52 1230.33 1549.52 Q1228.15 1549.52 1225.83 1549.08 Q1223.54 1548.66 1221.09 1547.81 L1221.09 1543.29 Q1223.03 1544.43 1225.35 1545.01 Q1227.66 1545.58 1230.19 1545.58 Q1234.58 1545.58 1236.88 1543.85 Q1239.19 1542.11 1239.19 1538.8 Q1239.19 1535.75 1237.04 1534.03 Q1234.91 1532.3 1231.09 1532.3 L1227.06 1532.3 L1227.06 1528.45 L1231.27 1528.45 Q1234.72 1528.45 1236.55 1527.09 Q1238.38 1525.7 1238.38 1523.11 Q1238.38 1520.45 1236.48 1519.03 Q1234.61 1517.6 1231.09 1517.6 Q1229.17 1517.6 1226.97 1518.01 Q1224.77 1518.43 1222.13 1519.31 L1222.13 1515.14 Q1224.79 1514.4 1227.11 1514.03 Q1229.45 1513.66 1231.51 1513.66 Q1236.83 1513.66 1239.93 1516.09 Q1243.03 1518.5 1243.03 1522.62 Q1243.03 1525.49 1241.39 1527.48 Q1239.75 1529.45 1236.71 1530.21 Z\" fill=\"#000000\" fill-rule=\"evenodd\" fill-opacity=\"1\" /><path clip-path=\"url(#clip820)\" d=\"M1763.91 1518.36 L1752.11 1536.81 L1763.91 1536.81 L1763.91 1518.36 M1762.69 1514.29 L1768.57 1514.29 L1768.57 1536.81 L1773.5 1536.81 L1773.5 1540.7 L1768.57 1540.7 L1768.57 1548.85 L1763.91 1548.85 L1763.91 1540.7 L1748.31 1540.7 L1748.31 1536.19 L1762.69 1514.29 Z\" fill=\"#000000\" fill-rule=\"evenodd\" fill-opacity=\"1\" /><path clip-path=\"url(#clip820)\" d=\"M2279.62 1514.29 L2297.98 1514.29 L2297.98 1518.22 L2283.9 1518.22 L2283.9 1526.7 Q2284.92 1526.35 2285.94 1526.19 Q2286.96 1526 2287.98 1526 Q2293.76 1526 2297.14 1529.17 Q2300.52 1532.34 2300.52 1537.76 Q2300.52 1543.34 2297.05 1546.44 Q2293.58 1549.52 2287.26 1549.52 Q2285.08 1549.52 2282.82 1549.15 Q2280.57 1548.78 2278.16 1548.04 L2278.16 1543.34 Q2280.25 1544.47 2282.47 1545.03 Q2284.69 1545.58 2287.17 1545.58 Q2291.17 1545.58 2293.51 1543.48 Q2295.85 1541.37 2295.85 1537.76 Q2295.85 1534.15 2293.51 1532.04 Q2291.17 1529.94 2287.17 1529.94 Q2285.29 1529.94 2283.42 1530.35 Q2281.57 1530.77 2279.62 1531.65 L2279.62 1514.29 Z\" fill=\"#000000\" fill-rule=\"evenodd\" fill-opacity=\"1\" /><polyline clip-path=\"url(#clip822)\" style=\"stroke:#000000; stroke-linecap:round; stroke-linejoin:round; stroke-width:2; stroke-opacity:0.1; fill:none\" points=\"112.177,1445.72 2352.76,1445.72 \"/>\n<polyline clip-path=\"url(#clip822)\" style=\"stroke:#000000; stroke-linecap:round; stroke-linejoin:round; stroke-width:2; stroke-opacity:0.1; fill:none\" points=\"112.177,993.136 2352.76,993.136 \"/>\n<polyline clip-path=\"url(#clip822)\" style=\"stroke:#000000; stroke-linecap:round; stroke-linejoin:round; stroke-width:2; stroke-opacity:0.1; fill:none\" points=\"112.177,540.556 2352.76,540.556 \"/>\n<polyline clip-path=\"url(#clip822)\" style=\"stroke:#000000; stroke-linecap:round; stroke-linejoin:round; stroke-width:2; stroke-opacity:0.1; fill:none\" points=\"112.177,87.9763 2352.76,87.9763 \"/>\n<polyline clip-path=\"url(#clip820)\" style=\"stroke:#000000; stroke-linecap:round; stroke-linejoin:round; stroke-width:4; stroke-opacity:1; fill:none\" points=\"112.177,1486.45 112.177,47.2441 \"/>\n<polyline clip-path=\"url(#clip820)\" style=\"stroke:#000000; stroke-linecap:round; stroke-linejoin:round; stroke-width:4; stroke-opacity:1; fill:none\" points=\"112.177,1445.72 131.075,1445.72 \"/>\n<polyline clip-path=\"url(#clip820)\" style=\"stroke:#000000; stroke-linecap:round; stroke-linejoin:round; stroke-width:4; stroke-opacity:1; fill:none\" points=\"112.177,993.136 131.075,993.136 \"/>\n<polyline clip-path=\"url(#clip820)\" style=\"stroke:#000000; stroke-linecap:round; stroke-linejoin:round; stroke-width:4; stroke-opacity:1; fill:none\" points=\"112.177,540.556 131.075,540.556 \"/>\n<polyline clip-path=\"url(#clip820)\" style=\"stroke:#000000; stroke-linecap:round; stroke-linejoin:round; stroke-width:4; stroke-opacity:1; fill:none\" points=\"112.177,87.9763 131.075,87.9763 \"/>\n<path clip-path=\"url(#clip820)\" d=\"M59.8578 1459.06 L76.1772 1459.06 L76.1772 1463 L54.2328 1463 L54.2328 1459.06 Q56.8949 1456.31 61.4782 1451.68 Q66.0846 1447.02 67.2652 1445.68 Q69.5105 1443.16 70.3902 1441.42 Q71.2929 1439.66 71.2929 1437.97 Q71.2929 1435.22 69.3485 1433.48 Q67.4272 1431.75 64.3254 1431.75 Q62.1263 1431.75 59.6726 1432.51 Q57.2421 1433.27 54.4643 1434.82 L54.4643 1430.1 Q57.2884 1428.97 59.7421 1428.39 Q62.1958 1427.81 64.2328 1427.81 Q69.6031 1427.81 72.7976 1430.5 Q75.992 1433.18 75.992 1437.67 Q75.992 1439.8 75.1818 1441.72 Q74.3948 1443.62 72.2883 1446.21 Q71.7096 1446.88 68.6078 1450.1 Q65.5059 1453.3 59.8578 1459.06 Z\" fill=\"#000000\" fill-rule=\"evenodd\" fill-opacity=\"1\" /><path clip-path=\"url(#clip820)\" d=\"M69.0476 991.782 Q72.404 992.499 74.279 994.768 Q76.1772 997.036 76.1772 1000.37 Q76.1772 1005.49 72.6587 1008.29 Q69.1402 1011.09 62.6587 1011.09 Q60.4828 1011.09 58.168 1010.65 Q55.8764 1010.23 53.4227 1009.37 L53.4227 1004.86 Q55.3671 1005.99 57.6819 1006.57 Q59.9967 1007.15 62.5198 1007.15 Q66.918 1007.15 69.2096 1005.42 Q71.5244 1003.68 71.5244 1000.37 Q71.5244 997.314 69.3717 995.601 Q67.242 993.865 63.4226 993.865 L59.3949 993.865 L59.3949 990.022 L63.6078 990.022 Q67.0569 990.022 68.8855 988.657 Q70.7142 987.268 70.7142 984.675 Q70.7142 982.013 68.8161 980.601 Q66.9411 979.166 63.4226 979.166 Q61.5013 979.166 59.3023 979.583 Q57.1032 979.999 54.4643 980.879 L54.4643 976.712 Q57.1264 975.972 59.4412 975.601 Q61.7791 975.231 63.8393 975.231 Q69.1633 975.231 72.2652 977.661 Q75.367 980.069 75.367 984.189 Q75.367 987.06 73.7235 989.05 Q72.08 991.018 69.0476 991.782 Z\" fill=\"#000000\" fill-rule=\"evenodd\" fill-opacity=\"1\" /><path clip-path=\"url(#clip820)\" d=\"M66.5939 527.35 L54.7884 545.799 L66.5939 545.799 L66.5939 527.35 M65.367 523.276 L71.2466 523.276 L71.2466 545.799 L76.1772 545.799 L76.1772 549.688 L71.2466 549.688 L71.2466 557.836 L66.5939 557.836 L66.5939 549.688 L50.9921 549.688 L50.9921 545.174 L65.367 523.276 Z\" fill=\"#000000\" fill-rule=\"evenodd\" fill-opacity=\"1\" /><path clip-path=\"url(#clip820)\" d=\"M55.2745 70.6963 L73.6309 70.6963 L73.6309 74.6314 L59.5569 74.6314 L59.5569 83.1036 Q60.5754 82.7564 61.5939 82.5944 Q62.6124 82.4092 63.6309 82.4092 Q69.418 82.4092 72.7976 85.5805 Q76.1772 88.7517 76.1772 94.1684 Q76.1772 99.747 72.705 102.849 Q69.2328 105.928 62.9134 105.928 Q60.7374 105.928 58.4689 105.557 Q56.2236 105.187 53.8162 104.446 L53.8162 99.747 Q55.8995 100.881 58.1217 101.437 Q60.3439 101.992 62.8208 101.992 Q66.8254 101.992 69.1633 99.8859 Q71.5013 97.7795 71.5013 94.1684 Q71.5013 90.5573 69.1633 88.4508 Q66.8254 86.3443 62.8208 86.3443 Q60.9458 86.3443 59.0708 86.761 Q57.2189 87.1777 55.2745 88.0573 L55.2745 70.6963 Z\" fill=\"#000000\" fill-rule=\"evenodd\" fill-opacity=\"1\" /><circle clip-path=\"url(#clip822)\" cx=\"175.59\" cy=\"1445.72\" r=\"14.4\" fill=\"#009af9\" fill-rule=\"evenodd\" fill-opacity=\"1\" stroke=\"#000000\" stroke-opacity=\"1\" stroke-width=\"3.2\"/>\n<circle clip-path=\"url(#clip822)\" cx=\"704.028\" cy=\"1445.72\" r=\"14.4\" fill=\"#009af9\" fill-rule=\"evenodd\" fill-opacity=\"1\" stroke=\"#000000\" stroke-opacity=\"1\" stroke-width=\"3.2\"/>\n<circle clip-path=\"url(#clip822)\" cx=\"1232.47\" cy=\"993.136\" r=\"14.4\" fill=\"#009af9\" fill-rule=\"evenodd\" fill-opacity=\"1\" stroke=\"#000000\" stroke-opacity=\"1\" stroke-width=\"3.2\"/>\n<circle clip-path=\"url(#clip822)\" cx=\"1760.9\" cy=\"993.136\" r=\"14.4\" fill=\"#009af9\" fill-rule=\"evenodd\" fill-opacity=\"1\" stroke=\"#000000\" stroke-opacity=\"1\" stroke-width=\"3.2\"/>\n<circle clip-path=\"url(#clip822)\" cx=\"2289.34\" cy=\"87.9763\" r=\"14.4\" fill=\"#009af9\" fill-rule=\"evenodd\" fill-opacity=\"1\" stroke=\"#000000\" stroke-opacity=\"1\" stroke-width=\"3.2\"/>\n<path clip-path=\"url(#clip820)\" d=\"M186.863 198.898 L463.351 198.898 L463.351 95.2176 L186.863 95.2176  Z\" fill=\"#ffffff\" fill-rule=\"evenodd\" fill-opacity=\"1\"/>\n<polyline clip-path=\"url(#clip820)\" style=\"stroke:#000000; stroke-linecap:round; stroke-linejoin:round; stroke-width:4; stroke-opacity:1; fill:none\" points=\"186.863,198.898 463.351,198.898 463.351,95.2176 186.863,95.2176 186.863,198.898 \"/>\n<circle clip-path=\"url(#clip820)\" cx=\"286.444\" cy=\"147.058\" r=\"23.04\" fill=\"#009af9\" fill-rule=\"evenodd\" fill-opacity=\"1\" stroke=\"#000000\" stroke-opacity=\"1\" stroke-width=\"5.12\"/>\n<path clip-path=\"url(#clip820)\" d=\"M399.868 166.745 Q398.063 171.375 396.35 172.787 Q394.637 174.199 391.766 174.199 L388.364 174.199 L388.364 170.634 L390.864 170.634 Q392.623 170.634 393.595 169.8 Q394.567 168.967 395.748 165.865 L396.512 163.921 L386.026 138.412 L390.54 138.412 L398.641 158.689 L406.743 138.412 L411.257 138.412 L399.868 166.745 Z\" fill=\"#000000\" fill-rule=\"evenodd\" fill-opacity=\"1\" /><path clip-path=\"url(#clip820)\" d=\"M418.549 160.402 L426.188 160.402 L426.188 134.037 L417.877 135.703 L417.877 131.444 L426.141 129.778 L430.817 129.778 L430.817 160.402 L438.456 160.402 L438.456 164.338 L418.549 164.338 L418.549 160.402 Z\" fill=\"#000000\" fill-rule=\"evenodd\" fill-opacity=\"1\" /></svg>\n",
      "text/html": [
       "<?xml version=\"1.0\" encoding=\"utf-8\"?>\n",
       "<svg xmlns=\"http://www.w3.org/2000/svg\" xmlns:xlink=\"http://www.w3.org/1999/xlink\" width=\"600\" height=\"400\" viewBox=\"0 0 2400 1600\">\n",
       "<defs>\n",
       "  <clipPath id=\"clip870\">\n",
       "    <rect x=\"0\" y=\"0\" width=\"2400\" height=\"1600\"/>\n",
       "  </clipPath>\n",
       "</defs>\n",
       "<path clip-path=\"url(#clip870)\" d=\"M0 1600 L2400 1600 L2400 0 L0 0  Z\" fill=\"#ffffff\" fill-rule=\"evenodd\" fill-opacity=\"1\"/>\n",
       "<defs>\n",
       "  <clipPath id=\"clip871\">\n",
       "    <rect x=\"480\" y=\"0\" width=\"1681\" height=\"1600\"/>\n",
       "  </clipPath>\n",
       "</defs>\n",
       "<path clip-path=\"url(#clip870)\" d=\"M112.177 1486.45 L2352.76 1486.45 L2352.76 47.2441 L112.177 47.2441  Z\" fill=\"#ffffff\" fill-rule=\"evenodd\" fill-opacity=\"1\"/>\n",
       "<defs>\n",
       "  <clipPath id=\"clip872\">\n",
       "    <rect x=\"112\" y=\"47\" width=\"2242\" height=\"1440\"/>\n",
       "  </clipPath>\n",
       "</defs>\n",
       "<polyline clip-path=\"url(#clip872)\" style=\"stroke:#000000; stroke-linecap:round; stroke-linejoin:round; stroke-width:2; stroke-opacity:0.1; fill:none\" points=\"175.59,1486.45 175.59,47.2441 \"/>\n",
       "<polyline clip-path=\"url(#clip872)\" style=\"stroke:#000000; stroke-linecap:round; stroke-linejoin:round; stroke-width:2; stroke-opacity:0.1; fill:none\" points=\"704.028,1486.45 704.028,47.2441 \"/>\n",
       "<polyline clip-path=\"url(#clip872)\" style=\"stroke:#000000; stroke-linecap:round; stroke-linejoin:round; stroke-width:2; stroke-opacity:0.1; fill:none\" points=\"1232.47,1486.45 1232.47,47.2441 \"/>\n",
       "<polyline clip-path=\"url(#clip872)\" style=\"stroke:#000000; stroke-linecap:round; stroke-linejoin:round; stroke-width:2; stroke-opacity:0.1; fill:none\" points=\"1760.9,1486.45 1760.9,47.2441 \"/>\n",
       "<polyline clip-path=\"url(#clip872)\" style=\"stroke:#000000; stroke-linecap:round; stroke-linejoin:round; stroke-width:2; stroke-opacity:0.1; fill:none\" points=\"2289.34,1486.45 2289.34,47.2441 \"/>\n",
       "<polyline clip-path=\"url(#clip870)\" style=\"stroke:#000000; stroke-linecap:round; stroke-linejoin:round; stroke-width:4; stroke-opacity:1; fill:none\" points=\"112.177,1486.45 2352.76,1486.45 \"/>\n",
       "<polyline clip-path=\"url(#clip870)\" style=\"stroke:#000000; stroke-linecap:round; stroke-linejoin:round; stroke-width:4; stroke-opacity:1; fill:none\" points=\"175.59,1486.45 175.59,1467.55 \"/>\n",
       "<polyline clip-path=\"url(#clip870)\" style=\"stroke:#000000; stroke-linecap:round; stroke-linejoin:round; stroke-width:4; stroke-opacity:1; fill:none\" points=\"704.028,1486.45 704.028,1467.55 \"/>\n",
       "<polyline clip-path=\"url(#clip870)\" style=\"stroke:#000000; stroke-linecap:round; stroke-linejoin:round; stroke-width:4; stroke-opacity:1; fill:none\" points=\"1232.47,1486.45 1232.47,1467.55 \"/>\n",
       "<polyline clip-path=\"url(#clip870)\" style=\"stroke:#000000; stroke-linecap:round; stroke-linejoin:round; stroke-width:4; stroke-opacity:1; fill:none\" points=\"1760.9,1486.45 1760.9,1467.55 \"/>\n",
       "<polyline clip-path=\"url(#clip870)\" style=\"stroke:#000000; stroke-linecap:round; stroke-linejoin:round; stroke-width:4; stroke-opacity:1; fill:none\" points=\"2289.34,1486.45 2289.34,1467.55 \"/>\n",
       "<path clip-path=\"url(#clip870)\" d=\"M165.972 1544.91 L173.611 1544.91 L173.611 1518.55 L165.3 1520.21 L165.3 1515.95 L173.564 1514.29 L178.24 1514.29 L178.24 1544.91 L185.879 1544.91 L185.879 1548.85 L165.972 1548.85 L165.972 1544.91 Z\" fill=\"#000000\" fill-rule=\"evenodd\" fill-opacity=\"1\" /><path clip-path=\"url(#clip870)\" d=\"M698.681 1544.91 L715 1544.91 L715 1548.85 L693.056 1548.85 L693.056 1544.91 Q695.718 1542.16 700.301 1537.53 Q704.908 1532.88 706.088 1531.53 Q708.334 1529.01 709.213 1527.27 Q710.116 1525.51 710.116 1523.82 Q710.116 1521.07 708.172 1519.33 Q706.25 1517.6 703.149 1517.6 Q700.949 1517.6 698.496 1518.36 Q696.065 1519.13 693.287 1520.68 L693.287 1515.95 Q696.112 1514.82 698.565 1514.24 Q701.019 1513.66 703.056 1513.66 Q708.426 1513.66 711.621 1516.35 Q714.815 1519.03 714.815 1523.52 Q714.815 1525.65 714.005 1527.57 Q713.218 1529.47 711.111 1532.07 Q710.533 1532.74 707.431 1535.95 Q704.329 1539.15 698.681 1544.91 Z\" fill=\"#000000\" fill-rule=\"evenodd\" fill-opacity=\"1\" /><path clip-path=\"url(#clip870)\" d=\"M1236.71 1530.21 Q1240.07 1530.93 1241.95 1533.2 Q1243.84 1535.47 1243.84 1538.8 Q1243.84 1543.92 1240.33 1546.72 Q1236.81 1549.52 1230.33 1549.52 Q1228.15 1549.52 1225.83 1549.08 Q1223.54 1548.66 1221.09 1547.81 L1221.09 1543.29 Q1223.03 1544.43 1225.35 1545.01 Q1227.66 1545.58 1230.19 1545.58 Q1234.58 1545.58 1236.88 1543.85 Q1239.19 1542.11 1239.19 1538.8 Q1239.19 1535.75 1237.04 1534.03 Q1234.91 1532.3 1231.09 1532.3 L1227.06 1532.3 L1227.06 1528.45 L1231.27 1528.45 Q1234.72 1528.45 1236.55 1527.09 Q1238.38 1525.7 1238.38 1523.11 Q1238.38 1520.45 1236.48 1519.03 Q1234.61 1517.6 1231.09 1517.6 Q1229.17 1517.6 1226.97 1518.01 Q1224.77 1518.43 1222.13 1519.31 L1222.13 1515.14 Q1224.79 1514.4 1227.11 1514.03 Q1229.45 1513.66 1231.51 1513.66 Q1236.83 1513.66 1239.93 1516.09 Q1243.03 1518.5 1243.03 1522.62 Q1243.03 1525.49 1241.39 1527.48 Q1239.75 1529.45 1236.71 1530.21 Z\" fill=\"#000000\" fill-rule=\"evenodd\" fill-opacity=\"1\" /><path clip-path=\"url(#clip870)\" d=\"M1763.91 1518.36 L1752.11 1536.81 L1763.91 1536.81 L1763.91 1518.36 M1762.69 1514.29 L1768.57 1514.29 L1768.57 1536.81 L1773.5 1536.81 L1773.5 1540.7 L1768.57 1540.7 L1768.57 1548.85 L1763.91 1548.85 L1763.91 1540.7 L1748.31 1540.7 L1748.31 1536.19 L1762.69 1514.29 Z\" fill=\"#000000\" fill-rule=\"evenodd\" fill-opacity=\"1\" /><path clip-path=\"url(#clip870)\" d=\"M2279.62 1514.29 L2297.98 1514.29 L2297.98 1518.22 L2283.9 1518.22 L2283.9 1526.7 Q2284.92 1526.35 2285.94 1526.19 Q2286.96 1526 2287.98 1526 Q2293.76 1526 2297.14 1529.17 Q2300.52 1532.34 2300.52 1537.76 Q2300.52 1543.34 2297.05 1546.44 Q2293.58 1549.52 2287.26 1549.52 Q2285.08 1549.52 2282.82 1549.15 Q2280.57 1548.78 2278.16 1548.04 L2278.16 1543.34 Q2280.25 1544.47 2282.47 1545.03 Q2284.69 1545.58 2287.17 1545.58 Q2291.17 1545.58 2293.51 1543.48 Q2295.85 1541.37 2295.85 1537.76 Q2295.85 1534.15 2293.51 1532.04 Q2291.17 1529.94 2287.17 1529.94 Q2285.29 1529.94 2283.42 1530.35 Q2281.57 1530.77 2279.62 1531.65 L2279.62 1514.29 Z\" fill=\"#000000\" fill-rule=\"evenodd\" fill-opacity=\"1\" /><polyline clip-path=\"url(#clip872)\" style=\"stroke:#000000; stroke-linecap:round; stroke-linejoin:round; stroke-width:2; stroke-opacity:0.1; fill:none\" points=\"112.177,1445.72 2352.76,1445.72 \"/>\n",
       "<polyline clip-path=\"url(#clip872)\" style=\"stroke:#000000; stroke-linecap:round; stroke-linejoin:round; stroke-width:2; stroke-opacity:0.1; fill:none\" points=\"112.177,993.136 2352.76,993.136 \"/>\n",
       "<polyline clip-path=\"url(#clip872)\" style=\"stroke:#000000; stroke-linecap:round; stroke-linejoin:round; stroke-width:2; stroke-opacity:0.1; fill:none\" points=\"112.177,540.556 2352.76,540.556 \"/>\n",
       "<polyline clip-path=\"url(#clip872)\" style=\"stroke:#000000; stroke-linecap:round; stroke-linejoin:round; stroke-width:2; stroke-opacity:0.1; fill:none\" points=\"112.177,87.9763 2352.76,87.9763 \"/>\n",
       "<polyline clip-path=\"url(#clip870)\" style=\"stroke:#000000; stroke-linecap:round; stroke-linejoin:round; stroke-width:4; stroke-opacity:1; fill:none\" points=\"112.177,1486.45 112.177,47.2441 \"/>\n",
       "<polyline clip-path=\"url(#clip870)\" style=\"stroke:#000000; stroke-linecap:round; stroke-linejoin:round; stroke-width:4; stroke-opacity:1; fill:none\" points=\"112.177,1445.72 131.075,1445.72 \"/>\n",
       "<polyline clip-path=\"url(#clip870)\" style=\"stroke:#000000; stroke-linecap:round; stroke-linejoin:round; stroke-width:4; stroke-opacity:1; fill:none\" points=\"112.177,993.136 131.075,993.136 \"/>\n",
       "<polyline clip-path=\"url(#clip870)\" style=\"stroke:#000000; stroke-linecap:round; stroke-linejoin:round; stroke-width:4; stroke-opacity:1; fill:none\" points=\"112.177,540.556 131.075,540.556 \"/>\n",
       "<polyline clip-path=\"url(#clip870)\" style=\"stroke:#000000; stroke-linecap:round; stroke-linejoin:round; stroke-width:4; stroke-opacity:1; fill:none\" points=\"112.177,87.9763 131.075,87.9763 \"/>\n",
       "<path clip-path=\"url(#clip870)\" d=\"M59.8578 1459.06 L76.1772 1459.06 L76.1772 1463 L54.2328 1463 L54.2328 1459.06 Q56.8949 1456.31 61.4782 1451.68 Q66.0846 1447.02 67.2652 1445.68 Q69.5105 1443.16 70.3902 1441.42 Q71.2929 1439.66 71.2929 1437.97 Q71.2929 1435.22 69.3485 1433.48 Q67.4272 1431.75 64.3254 1431.75 Q62.1263 1431.75 59.6726 1432.51 Q57.2421 1433.27 54.4643 1434.82 L54.4643 1430.1 Q57.2884 1428.97 59.7421 1428.39 Q62.1958 1427.81 64.2328 1427.81 Q69.6031 1427.81 72.7976 1430.5 Q75.992 1433.18 75.992 1437.67 Q75.992 1439.8 75.1818 1441.72 Q74.3948 1443.62 72.2883 1446.21 Q71.7096 1446.88 68.6078 1450.1 Q65.5059 1453.3 59.8578 1459.06 Z\" fill=\"#000000\" fill-rule=\"evenodd\" fill-opacity=\"1\" /><path clip-path=\"url(#clip870)\" d=\"M69.0476 991.782 Q72.404 992.499 74.279 994.768 Q76.1772 997.036 76.1772 1000.37 Q76.1772 1005.49 72.6587 1008.29 Q69.1402 1011.09 62.6587 1011.09 Q60.4828 1011.09 58.168 1010.65 Q55.8764 1010.23 53.4227 1009.37 L53.4227 1004.86 Q55.3671 1005.99 57.6819 1006.57 Q59.9967 1007.15 62.5198 1007.15 Q66.918 1007.15 69.2096 1005.42 Q71.5244 1003.68 71.5244 1000.37 Q71.5244 997.314 69.3717 995.601 Q67.242 993.865 63.4226 993.865 L59.3949 993.865 L59.3949 990.022 L63.6078 990.022 Q67.0569 990.022 68.8855 988.657 Q70.7142 987.268 70.7142 984.675 Q70.7142 982.013 68.8161 980.601 Q66.9411 979.166 63.4226 979.166 Q61.5013 979.166 59.3023 979.583 Q57.1032 979.999 54.4643 980.879 L54.4643 976.712 Q57.1264 975.972 59.4412 975.601 Q61.7791 975.231 63.8393 975.231 Q69.1633 975.231 72.2652 977.661 Q75.367 980.069 75.367 984.189 Q75.367 987.06 73.7235 989.05 Q72.08 991.018 69.0476 991.782 Z\" fill=\"#000000\" fill-rule=\"evenodd\" fill-opacity=\"1\" /><path clip-path=\"url(#clip870)\" d=\"M66.5939 527.35 L54.7884 545.799 L66.5939 545.799 L66.5939 527.35 M65.367 523.276 L71.2466 523.276 L71.2466 545.799 L76.1772 545.799 L76.1772 549.688 L71.2466 549.688 L71.2466 557.836 L66.5939 557.836 L66.5939 549.688 L50.9921 549.688 L50.9921 545.174 L65.367 523.276 Z\" fill=\"#000000\" fill-rule=\"evenodd\" fill-opacity=\"1\" /><path clip-path=\"url(#clip870)\" d=\"M55.2745 70.6963 L73.6309 70.6963 L73.6309 74.6314 L59.5569 74.6314 L59.5569 83.1036 Q60.5754 82.7564 61.5939 82.5944 Q62.6124 82.4092 63.6309 82.4092 Q69.418 82.4092 72.7976 85.5805 Q76.1772 88.7517 76.1772 94.1684 Q76.1772 99.747 72.705 102.849 Q69.2328 105.928 62.9134 105.928 Q60.7374 105.928 58.4689 105.557 Q56.2236 105.187 53.8162 104.446 L53.8162 99.747 Q55.8995 100.881 58.1217 101.437 Q60.3439 101.992 62.8208 101.992 Q66.8254 101.992 69.1633 99.8859 Q71.5013 97.7795 71.5013 94.1684 Q71.5013 90.5573 69.1633 88.4508 Q66.8254 86.3443 62.8208 86.3443 Q60.9458 86.3443 59.0708 86.761 Q57.2189 87.1777 55.2745 88.0573 L55.2745 70.6963 Z\" fill=\"#000000\" fill-rule=\"evenodd\" fill-opacity=\"1\" /><circle clip-path=\"url(#clip872)\" cx=\"175.59\" cy=\"1445.72\" r=\"14.4\" fill=\"#009af9\" fill-rule=\"evenodd\" fill-opacity=\"1\" stroke=\"#000000\" stroke-opacity=\"1\" stroke-width=\"3.2\"/>\n",
       "<circle clip-path=\"url(#clip872)\" cx=\"704.028\" cy=\"1445.72\" r=\"14.4\" fill=\"#009af9\" fill-rule=\"evenodd\" fill-opacity=\"1\" stroke=\"#000000\" stroke-opacity=\"1\" stroke-width=\"3.2\"/>\n",
       "<circle clip-path=\"url(#clip872)\" cx=\"1232.47\" cy=\"993.136\" r=\"14.4\" fill=\"#009af9\" fill-rule=\"evenodd\" fill-opacity=\"1\" stroke=\"#000000\" stroke-opacity=\"1\" stroke-width=\"3.2\"/>\n",
       "<circle clip-path=\"url(#clip872)\" cx=\"1760.9\" cy=\"993.136\" r=\"14.4\" fill=\"#009af9\" fill-rule=\"evenodd\" fill-opacity=\"1\" stroke=\"#000000\" stroke-opacity=\"1\" stroke-width=\"3.2\"/>\n",
       "<circle clip-path=\"url(#clip872)\" cx=\"2289.34\" cy=\"87.9763\" r=\"14.4\" fill=\"#009af9\" fill-rule=\"evenodd\" fill-opacity=\"1\" stroke=\"#000000\" stroke-opacity=\"1\" stroke-width=\"3.2\"/>\n",
       "<path clip-path=\"url(#clip870)\" d=\"M186.863 198.898 L463.351 198.898 L463.351 95.2176 L186.863 95.2176  Z\" fill=\"#ffffff\" fill-rule=\"evenodd\" fill-opacity=\"1\"/>\n",
       "<polyline clip-path=\"url(#clip870)\" style=\"stroke:#000000; stroke-linecap:round; stroke-linejoin:round; stroke-width:4; stroke-opacity:1; fill:none\" points=\"186.863,198.898 463.351,198.898 463.351,95.2176 186.863,95.2176 186.863,198.898 \"/>\n",
       "<circle clip-path=\"url(#clip870)\" cx=\"286.444\" cy=\"147.058\" r=\"23.04\" fill=\"#009af9\" fill-rule=\"evenodd\" fill-opacity=\"1\" stroke=\"#000000\" stroke-opacity=\"1\" stroke-width=\"5.12\"/>\n",
       "<path clip-path=\"url(#clip870)\" d=\"M399.868 166.745 Q398.063 171.375 396.35 172.787 Q394.637 174.199 391.766 174.199 L388.364 174.199 L388.364 170.634 L390.864 170.634 Q392.623 170.634 393.595 169.8 Q394.567 168.967 395.748 165.865 L396.512 163.921 L386.026 138.412 L390.54 138.412 L398.641 158.689 L406.743 138.412 L411.257 138.412 L399.868 166.745 Z\" fill=\"#000000\" fill-rule=\"evenodd\" fill-opacity=\"1\" /><path clip-path=\"url(#clip870)\" d=\"M418.549 160.402 L426.188 160.402 L426.188 134.037 L417.877 135.703 L417.877 131.444 L426.141 129.778 L430.817 129.778 L430.817 160.402 L438.456 160.402 L438.456 164.338 L418.549 164.338 L418.549 160.402 Z\" fill=\"#000000\" fill-rule=\"evenodd\" fill-opacity=\"1\" /></svg>\n"
      ]
     },
     "metadata": {},
     "output_type": "display_data"
    }
   ],
   "source": [
    "scatter(1:1:5, [2,2,3,3,5])"
   ]
  },
  {
   "cell_type": "markdown",
   "metadata": {},
   "source": [
    "## Bonus"
   ]
  },
  {
   "cell_type": "markdown",
   "metadata": {},
   "source": [
    "Ciekawe zastosowanie znajomości IEEE-754 do obliczania odwrotności pierwiastka, wykorzystane w grze Quake 3: [filmik](https://youtu.be/p8u_k2LIZyo)"
   ]
  },
  {
   "cell_type": "markdown",
   "metadata": {},
   "source": [
    "# Zadania"
   ]
  },
  {
   "cell_type": "markdown",
   "metadata": {},
   "source": [
    "### Zadanie 1 (1p)"
   ]
  },
  {
   "cell_type": "markdown",
   "metadata": {},
   "source": [
    "Porównać w języku Julia reprezentację bitową liczby 1/3 dla `Float16`, `Float32`, `Float64` oraz liczby, \n",
    "która jest inicjalizowana jako `Float16`, a potem rzutowana na `Float64`."
   ]
  },
  {
   "cell_type": "code",
   "execution_count": 3,
   "metadata": {},
   "outputs": [
    {
     "name": "stdout",
     "output_type": "stream",
     "text": [
      "Float16(1/3) = "
     ]
    },
    {
     "name": "stdout",
     "output_type": "stream",
     "text": [
      "0.3333 0011010101010101\n",
      "00111110101010101010101010101011\n",
      "0011111111010101010101010101010101010101010101010101010101010101\n",
      "0011111111010101010101000000000000000000000000000000000000000000\n"
     ]
    }
   ],
   "source": [
    "a = Float16(1/3)\n",
    "b = Float32(1/3)\n",
    "c = Float64(1/3)\n",
    "d = Float64(Float16(1/3))\n",
    "\n",
    "println(\"Float16(1/3) = \", a, \" \", bitstring(a))\n",
    "println(bitstring(b))\n",
    "println(bitstring(c))\n",
    "println(bitstring(d))"
   ]
  },
  {
   "cell_type": "markdown",
   "metadata": {},
   "source": [
    "### Zadanie 2 (2p)"
   ]
  },
  {
   "cell_type": "markdown",
   "metadata": {
    "tags": []
   },
   "source": [
    "Zbadać, jak zmienia się odległość między kolejnymi liczbami zminnoprzecinkowymi \n",
    "reprezentowanymi w komputerze za pomocą języka Julia. \n",
    "Narysować wykres używając Plots zależności odległości od wartości liczby dla zakresu  od 1.0 do 1000000.0."
   ]
  },
  {
   "cell_type": "markdown",
   "metadata": {},
   "source": [
    "### Zadanie 3 (2p)"
   ]
  },
  {
   "cell_type": "markdown",
   "metadata": {},
   "source": [
    "Jedną z bibliotek numerycznych, jaką dodatkowo będziemy używać na zajęciach jest <a href=\"http://www.gnu.org/software/gsl/gsl.html\">GSL</a> (język C). Opis <a href=\"https://www.gnu.org/software/gsl/doc/html/usage.html\"> jak używać </a>. Korzystając ze <a href=\"https://www.gnu.org/software/gsl/doc/html/ieee754.html\"> wsparcia dla wyświetlania reprezentacji liczb zmiennoprzecinkowych</a> zobaczyć jak zmienia się cecha i mantysa dla coraz mniejszych liczb. Zaobserwować, kiedy matysa przestaje być znormalizowana i dlaczego?\n",
    "\n",
    "Kod załączyć jako komórka Markdown sformatowana jako C ([link](https://github.com/adam-p/markdown-here/wiki/Markdown-Cheatsheet#code)). Wynik także jako Markdown (kod albo fragment zrzutu ekranu)."
   ]
  },
  {
   "cell_type": "markdown",
   "metadata": {},
   "source": [
    "### Zadanie 4 (4p)"
   ]
  },
  {
   "cell_type": "markdown",
   "metadata": {},
   "source": [
    "Na przykładzie wybranego algorytmu niestabilnego numerycznie: \n",
    "1. Pokazać, że działa źle.\n",
    "2. Pokazać które konkretnie działania powodują zwiększenie błędu (np. dzielenie przez małą liczbę, cancellation).\n",
    "3. Zademonstować wersję stabilną.\n",
    "\n",
    "Nie wolno pokazywać przykładów z wykładu (lub bardzo podobnych)!\n",
    "\n",
    "Wszystkie punkty przedstawić w postaci notatnika Julii."
   ]
  },
  {
   "cell_type": "code",
   "execution_count": null,
   "metadata": {},
   "outputs": [],
   "source": [
    "# nbconvert do html"
   ]
  }
 ],
 "metadata": {
  "kernelspec": {
   "display_name": "Julia 1.8.5",
   "language": "julia",
   "name": "julia-1.8"
  },
  "language_info": {
   "file_extension": ".jl",
   "mimetype": "application/julia",
   "name": "julia",
   "version": "1.8.5"
  }
 },
 "nbformat": 4,
 "nbformat_minor": 4
}
