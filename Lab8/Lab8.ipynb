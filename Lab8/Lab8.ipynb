{
 "cells": [
  {
   "attachments": {},
   "cell_type": "markdown",
   "metadata": {},
   "source": [
    "# MOwNiT \n",
    "## Laboratorium\n",
    "## Wybrane zagadnienia algebry liniowej, faktoryzacja\n",
    "### Algebra liniowa w Julii\n",
    "https://docs.julialang.org/en/v1.8/stdlib/LinearAlgebra/index.html\n"
   ]
  },
  {
   "cell_type": "code",
   "execution_count": 1,
   "metadata": {},
   "outputs": [],
   "source": [
    "using(LinearAlgebra)"
   ]
  },
  {
   "cell_type": "code",
   "execution_count": 2,
   "metadata": {
    "scrolled": true
   },
   "outputs": [
    {
     "data": {
      "text/html": [
       "# 12 methods for generic function <b>factorize</b>:<ul><li> factorize(A::<b>StridedMatrix{T}</b>)<i> where T</i> in LinearAlgebra at <a href=\"file://C:/workdir/usr/share/julia/stdlib/v1.8/LinearAlgebra/src/dense.jl\" target=\"_blank\">C:\\Users\\Kaslo\\AppData\\Local\\Programs\\Julia-1.8.5\\share\\julia\\stdlib\\v1.8\\LinearAlgebra\\src\\dense.jl:1319</a></li> <li> factorize(A::<b>Adjoint</b>) in LinearAlgebra at <a href=\"file://C:/workdir/usr/share/julia/stdlib/v1.8/LinearAlgebra/src/dense.jl\" target=\"_blank\">C:\\Users\\Kaslo\\AppData\\Local\\Programs\\Julia-1.8.5\\share\\julia\\stdlib\\v1.8\\LinearAlgebra\\src\\dense.jl:1393</a></li> <li> factorize(A::<b>Transpose</b>) in LinearAlgebra at <a href=\"file://C:/workdir/usr/share/julia/stdlib/v1.8/LinearAlgebra/src/dense.jl\" target=\"_blank\">C:\\Users\\Kaslo\\AppData\\Local\\Programs\\Julia-1.8.5\\share\\julia\\stdlib\\v1.8\\LinearAlgebra\\src\\dense.jl:1394</a></li> <li> factorize(a::<b>Number</b>) in LinearAlgebra at <a href=\"file://C:/workdir/usr/share/julia/stdlib/v1.8/LinearAlgebra/src/dense.jl\" target=\"_blank\">C:\\Users\\Kaslo\\AppData\\Local\\Programs\\Julia-1.8.5\\share\\julia\\stdlib\\v1.8\\LinearAlgebra\\src\\dense.jl:1395</a></li> <li> factorize(A::<b>LinearAlgebra.AbstractTriangular</b>) in LinearAlgebra at <a href=\"file://C:/workdir/usr/share/julia/stdlib/v1.8/LinearAlgebra/src/triangular.jl\" target=\"_blank\">C:\\Users\\Kaslo\\AppData\\Local\\Programs\\Julia-1.8.5\\share\\julia\\stdlib\\v1.8\\LinearAlgebra\\src\\triangular.jl:2659</a></li> <li> factorize(A::<b>Tridiagonal</b>) in LinearAlgebra at <a href=\"file://C:/workdir/usr/share/julia/stdlib/v1.8/LinearAlgebra/src/lu.jl\" target=\"_blank\">C:\\Users\\Kaslo\\AppData\\Local\\Programs\\Julia-1.8.5\\share\\julia\\stdlib\\v1.8\\LinearAlgebra\\src\\lu.jl:570</a></li> <li> factorize(D::<b>Diagonal</b>) in LinearAlgebra at <a href=\"file://C:/workdir/usr/share/julia/stdlib/v1.8/LinearAlgebra/src/diagonal.jl\" target=\"_blank\">C:\\Users\\Kaslo\\AppData\\Local\\Programs\\Julia-1.8.5\\share\\julia\\stdlib\\v1.8\\LinearAlgebra\\src\\diagonal.jl:149</a></li> <li> factorize(A::<b>Bidiagonal</b>) in LinearAlgebra at <a href=\"file://C:/workdir/usr/share/julia/stdlib/v1.8/LinearAlgebra/src/bidiag.jl\" target=\"_blank\">C:\\Users\\Kaslo\\AppData\\Local\\Programs\\Julia-1.8.5\\share\\julia\\stdlib\\v1.8\\LinearAlgebra\\src\\bidiag.jl:927</a></li> <li> factorize(S::<b>SymTridiagonal</b>) in LinearAlgebra at <a href=\"file://C:/workdir/usr/share/julia/stdlib/v1.8/LinearAlgebra/src/ldlt.jl\" target=\"_blank\">C:\\Users\\Kaslo\\AppData\\Local\\Programs\\Julia-1.8.5\\share\\julia\\stdlib\\v1.8\\LinearAlgebra\\src\\ldlt.jl:172</a></li> <li> factorize(A::<b>SparseArrays.AbstractSparseMatrixCSC</b>) in SparseArrays at <a href=\"file://C:/workdir/usr/share/julia/stdlib/v1.8/SparseArrays/src/linalg.jl\" target=\"_blank\">C:\\Users\\Kaslo\\AppData\\Local\\Programs\\Julia-1.8.5\\share\\julia\\stdlib\\v1.8\\SparseArrays\\src\\linalg.jl:1612</a></li> <li> factorize(A::<b>Union{Hermitian{ComplexF64, var\"#s886\"}, Hermitian{Float64, var\"#s886\"}, Symmetric{Float64, var\"#s886\"}} where var\"#s886\"<:SparseArrays.AbstractSparseMatrixCSC</b>) in SparseArrays at <a href=\"file://C:/workdir/usr/share/julia/stdlib/v1.8/SparseArrays/src/linalg.jl\" target=\"_blank\">C:\\Users\\Kaslo\\AppData\\Local\\Programs\\Julia-1.8.5\\share\\julia\\stdlib\\v1.8\\SparseArrays\\src\\linalg.jl:1642</a></li> <li> factorize(A::<b>Union{Hermitian{T, S}, Symmetric{T, S}} where {T, S}</b>) in LinearAlgebra at <a href=\"file://C:/workdir/usr/share/julia/stdlib/v1.8/LinearAlgebra/src/symmetric.jl\" target=\"_blank\">C:\\Users\\Kaslo\\AppData\\Local\\Programs\\Julia-1.8.5\\share\\julia\\stdlib\\v1.8\\LinearAlgebra\\src\\symmetric.jl:611</a></li> </ul>"
      ],
      "text/plain": [
       "# 12 methods for generic function \"factorize\":\n",
       "[1] factorize(A::StridedMatrix{T}) where T in LinearAlgebra at C:\\Users\\Kaslo\\AppData\\Local\\Programs\\Julia-1.8.5\\share\\julia\\stdlib\\v1.8\\LinearAlgebra\\src\\dense.jl:1319\n",
       "[2] factorize(A::Adjoint) in LinearAlgebra at C:\\Users\\Kaslo\\AppData\\Local\\Programs\\Julia-1.8.5\\share\\julia\\stdlib\\v1.8\\LinearAlgebra\\src\\dense.jl:1393\n",
       "[3] factorize(A::Transpose) in LinearAlgebra at C:\\Users\\Kaslo\\AppData\\Local\\Programs\\Julia-1.8.5\\share\\julia\\stdlib\\v1.8\\LinearAlgebra\\src\\dense.jl:1394\n",
       "[4] factorize(a::Number) in LinearAlgebra at C:\\Users\\Kaslo\\AppData\\Local\\Programs\\Julia-1.8.5\\share\\julia\\stdlib\\v1.8\\LinearAlgebra\\src\\dense.jl:1395\n",
       "[5] factorize(A::LinearAlgebra.AbstractTriangular) in LinearAlgebra at C:\\Users\\Kaslo\\AppData\\Local\\Programs\\Julia-1.8.5\\share\\julia\\stdlib\\v1.8\\LinearAlgebra\\src\\triangular.jl:2659\n",
       "[6] factorize(A::Tridiagonal) in LinearAlgebra at C:\\Users\\Kaslo\\AppData\\Local\\Programs\\Julia-1.8.5\\share\\julia\\stdlib\\v1.8\\LinearAlgebra\\src\\lu.jl:570\n",
       "[7] factorize(D::Diagonal) in LinearAlgebra at C:\\Users\\Kaslo\\AppData\\Local\\Programs\\Julia-1.8.5\\share\\julia\\stdlib\\v1.8\\LinearAlgebra\\src\\diagonal.jl:149\n",
       "[8] factorize(A::Bidiagonal) in LinearAlgebra at C:\\Users\\Kaslo\\AppData\\Local\\Programs\\Julia-1.8.5\\share\\julia\\stdlib\\v1.8\\LinearAlgebra\\src\\bidiag.jl:927\n",
       "[9] factorize(S::SymTridiagonal) in LinearAlgebra at C:\\Users\\Kaslo\\AppData\\Local\\Programs\\Julia-1.8.5\\share\\julia\\stdlib\\v1.8\\LinearAlgebra\\src\\ldlt.jl:172\n",
       "[10] factorize(A::SparseArrays.AbstractSparseMatrixCSC) in SparseArrays at C:\\Users\\Kaslo\\AppData\\Local\\Programs\\Julia-1.8.5\\share\\julia\\stdlib\\v1.8\\SparseArrays\\src\\linalg.jl:1612\n",
       "[11] factorize(A::Union{Hermitian{ComplexF64, var\"#s886\"}, Hermitian{Float64, var\"#s886\"}, Symmetric{Float64, var\"#s886\"}} where var\"#s886\"<:SparseArrays.AbstractSparseMatrixCSC) in SparseArrays at C:\\Users\\Kaslo\\AppData\\Local\\Programs\\Julia-1.8.5\\share\\julia\\stdlib\\v1.8\\SparseArrays\\src\\linalg.jl:1642\n",
       "[12] factorize(A::Union{Hermitian{T, S}, Symmetric{T, S}} where {T, S}) in LinearAlgebra at C:\\Users\\Kaslo\\AppData\\Local\\Programs\\Julia-1.8.5\\share\\julia\\stdlib\\v1.8\\LinearAlgebra\\src\\symmetric.jl:611"
      ]
     },
     "metadata": {},
     "output_type": "display_data"
    }
   ],
   "source": [
    "methods(factorize)"
   ]
  },
  {
   "cell_type": "code",
   "execution_count": 3,
   "metadata": {},
   "outputs": [
    {
     "data": {
      "text/plain": [
       "1×3 Matrix{Int64}:\n",
       " 1  2  2"
      ]
     },
     "metadata": {},
     "output_type": "display_data"
    }
   ],
   "source": [
    "#wiersze vs kolumny\n",
    "x1=[1 2 2]"
   ]
  },
  {
   "cell_type": "code",
   "execution_count": 4,
   "metadata": {},
   "outputs": [
    {
     "data": {
      "text/plain": [
       "3-element Vector{Int64}:\n",
       " 1\n",
       " 2\n",
       " 3"
      ]
     },
     "metadata": {},
     "output_type": "display_data"
    }
   ],
   "source": [
    "y1=[1 ;2 ;3]"
   ]
  },
  {
   "cell_type": "code",
   "execution_count": 5,
   "metadata": {},
   "outputs": [
    {
     "data": {
      "text/plain": [
       "3×1 transpose(::Matrix{Int64}) with eltype Int64:\n",
       " 1\n",
       " 2\n",
       " 2"
      ]
     },
     "metadata": {},
     "output_type": "display_data"
    }
   ],
   "source": [
    "transpose(x1)"
   ]
  },
  {
   "cell_type": "code",
   "execution_count": 6,
   "metadata": {},
   "outputs": [
    {
     "data": {
      "text/plain": [
       "11"
      ]
     },
     "metadata": {},
     "output_type": "display_data"
    }
   ],
   "source": [
    "#iloczyn skalarny\n",
    "dot(x1,y1)"
   ]
  },
  {
   "attachments": {},
   "cell_type": "markdown",
   "metadata": {},
   "source": [
    " Długość wektora liczymy jako pierwiastek z jego iloczynu skalarnego \n",
    "$$ \\lVert\\mathbf{v}\\rVert = \\sqrt{\\mathbf{v}\\cdot \\mathbf{v}}=\\sqrt{\\sum_{i=1}^nv_i^2}$$\n",
    "\n"
   ]
  },
  {
   "attachments": {},
   "cell_type": "markdown",
   "metadata": {},
   "source": [
    "#### Przykładowe dane"
   ]
  },
  {
   "cell_type": "code",
   "execution_count": 7,
   "metadata": {},
   "outputs": [
    {
     "data": {
      "text/plain": [
       "3×3 Matrix{Float64}:\n",
       " 0.647521  0.828711  0.537346\n",
       " 0.597961  0.332314  0.22428\n",
       " 0.744165  0.448874  0.735424"
      ]
     },
     "metadata": {},
     "output_type": "display_data"
    }
   ],
   "source": [
    "#losujemy macierz 3x3\n",
    "A=rand(3,3)"
   ]
  },
  {
   "cell_type": "code",
   "execution_count": 8,
   "metadata": {},
   "outputs": [
    {
     "data": {
      "text/plain": [
       "3-element Vector{Float64}:\n",
       " 0.7421393279745356\n",
       " 0.14791478216823173\n",
       " 0.03681291860874836"
      ]
     },
     "metadata": {},
     "output_type": "display_data"
    }
   ],
   "source": [
    "#losujemy wektor x\n",
    "x=rand(3)"
   ]
  },
  {
   "cell_type": "code",
   "execution_count": 9,
   "metadata": {},
   "outputs": [
    {
     "data": {
      "text/plain": [
       "3-element Vector{Float64}:\n",
       " 0.6229109843665104\n",
       " 0.501180621065223\n",
       " 0.6457424821066268"
      ]
     },
     "metadata": {},
     "output_type": "display_data"
    }
   ],
   "source": [
    "# wyliczamy b\n",
    "b=A*x"
   ]
  },
  {
   "attachments": {},
   "cell_type": "markdown",
   "metadata": {},
   "source": [
    "### Sposoby rozwiązania Ax=b"
   ]
  },
  {
   "cell_type": "code",
   "execution_count": 10,
   "metadata": {},
   "outputs": [
    {
     "data": {
      "text/plain": [
       "3-element Vector{Float64}:\n",
       " 0.7421393279745356\n",
       " 0.14791478216823173\n",
       " 0.03681291860874836"
      ]
     },
     "metadata": {},
     "output_type": "display_data"
    }
   ],
   "source": [
    "#mozemy policzyc odwrotność macierzy i wymnożyć\n",
    "# uwaga: nieefektywne!\n",
    "inv(A) * b"
   ]
  },
  {
   "cell_type": "code",
   "execution_count": 11,
   "metadata": {},
   "outputs": [
    {
     "data": {
      "text/plain": [
       "3-element Vector{Float64}:\n",
       " 0.7421393279745359\n",
       " 0.14791478216823162\n",
       " 0.03681291860874844"
      ]
     },
     "metadata": {},
     "output_type": "display_data"
    }
   ],
   "source": [
    "#najlepiej używać zoptymalizowanego operatora \"\\\"\"\n",
    "x=A\\b"
   ]
  },
  {
   "attachments": {},
   "cell_type": "markdown",
   "metadata": {},
   "source": [
    " operator \"\\\\\" wybiera odpowiednią faktoryzację:\n",
    "- https://docs.julialang.org/en/v1.8/stdlib/LinearAlgebra/#LinearAlgebra.factorize\n",
    "- https://docs.julialang.org/en/v1.8/stdlib/LinearAlgebra/#man-linalg-factorizations-1\n",
    " \n"
   ]
  },
  {
   "attachments": {},
   "cell_type": "markdown",
   "metadata": {},
   "source": [
    "### Faktoryzacja LU"
   ]
  },
  {
   "cell_type": "code",
   "execution_count": 12,
   "metadata": {},
   "outputs": [
    {
     "data": {
      "text/plain": [
       "LU{Float64, Matrix{Float64}, Vector{Int64}}\n",
       "L factor:\n",
       "3×3 Matrix{Float64}:\n",
       " 1.0        0.0        0.0\n",
       " 0.870131   1.0        0.0\n",
       " 0.803532  -0.0647534  1.0\n",
       "U factor:\n",
       "3×3 Matrix{Float64}:\n",
       " 0.744165  0.448874   0.735424\n",
       " 0.0       0.438132  -0.102569\n",
       " 0.0       0.0       -0.373298"
      ]
     },
     "metadata": {},
     "output_type": "display_data"
    }
   ],
   "source": [
    "# W przypadku ogólnej macierzy kwadratowej jest to faktoryzacja LU z pivotem\n",
    "Af=factorize(A)"
   ]
  },
  {
   "cell_type": "code",
   "execution_count": 13,
   "metadata": {},
   "outputs": [
    {
     "data": {
      "text/plain": [
       "3×3 Matrix{Float64}:\n",
       " 1.0        0.0        0.0\n",
       " 0.870131   1.0        0.0\n",
       " 0.803532  -0.0647534  1.0"
      ]
     },
     "metadata": {},
     "output_type": "display_data"
    }
   ],
   "source": [
    "# Macierz L\n",
    "Af.L"
   ]
  },
  {
   "cell_type": "code",
   "execution_count": 14,
   "metadata": {},
   "outputs": [
    {
     "data": {
      "text/plain": [
       "3×3 Matrix{Float64}:\n",
       " 0.744165  0.448874   0.735424\n",
       " 0.0       0.438132  -0.102569\n",
       " 0.0       0.0       -0.373298"
      ]
     },
     "metadata": {},
     "output_type": "display_data"
    }
   ],
   "source": [
    "#Macierz U\n",
    "Af.U"
   ]
  },
  {
   "cell_type": "code",
   "execution_count": 15,
   "metadata": {},
   "outputs": [
    {
     "data": {
      "text/plain": [
       "3-element Vector{Int64}:\n",
       " 3\n",
       " 1\n",
       " 2"
      ]
     },
     "metadata": {},
     "output_type": "display_data"
    }
   ],
   "source": [
    "# wektor permulatacji wierszy \n",
    "Af.p"
   ]
  },
  {
   "cell_type": "code",
   "execution_count": 16,
   "metadata": {},
   "outputs": [
    {
     "data": {
      "text/plain": [
       "LU{Float64, Matrix{Float64}, Vector{Int64}}\n",
       "L factor:\n",
       "3×3 Matrix{Float64}:\n",
       " 1.0        0.0        0.0\n",
       " 0.870131   1.0        0.0\n",
       " 0.803532  -0.0647534  1.0\n",
       "U factor:\n",
       "3×3 Matrix{Float64}:\n",
       " 0.744165  0.448874   0.735424\n",
       " 0.0       0.438132  -0.102569\n",
       " 0.0       0.0       -0.373298"
      ]
     },
     "metadata": {},
     "output_type": "display_data"
    }
   ],
   "source": [
    "# mozemy zamienic macierz A na postać zfaktoryzowaną\n",
    "A=factorize(A)"
   ]
  },
  {
   "cell_type": "code",
   "execution_count": 17,
   "metadata": {},
   "outputs": [
    {
     "data": {
      "text/plain": [
       "3-element Vector{Float64}:\n",
       " 0.7421393279745359\n",
       " 0.14791478216823162\n",
       " 0.03681291860874844"
      ]
     },
     "metadata": {},
     "output_type": "display_data"
    }
   ],
   "source": [
    "# i działać na niej operatorem \\\n",
    "# operator ten będzie wykorzytywał raz utworzony wynik faktoryzacji\n",
    "A\\b"
   ]
  },
  {
   "cell_type": "code",
   "execution_count": 18,
   "metadata": {},
   "outputs": [
    {
     "data": {
      "text/plain": [
       "3-element Vector{Float64}:\n",
       " -0.23044797689660765\n",
       "  1.0407357844963123\n",
       "  0.3008468447749791"
      ]
     },
     "metadata": {},
     "output_type": "display_data"
    }
   ],
   "source": [
    "# dla różnych prawych stron równania z tą samą macierzą\n",
    "c=rand(3);\n",
    "A\\c"
   ]
  },
  {
   "attachments": {},
   "cell_type": "markdown",
   "metadata": {},
   "source": [
    "### Faktoryzacja QR\n"
   ]
  },
  {
   "cell_type": "code",
   "execution_count": 19,
   "metadata": {},
   "outputs": [
    {
     "data": {
      "text/plain": [
       "10×5 Matrix{Float64}:\n",
       " 0.759583  0.69702   0.30873     0.231038  0.217247\n",
       " 0.953187  0.401549  0.504496    0.744171  0.694174\n",
       " 0.803024  0.346998  0.559089    0.722506  0.496118\n",
       " 0.53849   0.723571  0.258229    0.552944  0.313287\n",
       " 0.751673  0.847835  0.929233    0.966785  0.0452804\n",
       " 0.549612  0.450322  0.359992    0.344949  0.437831\n",
       " 0.660664  0.324577  0.00155398  0.646623  0.199298\n",
       " 0.971584  0.968666  0.6086      0.27578   0.360415\n",
       " 0.664552  0.372688  0.701109    0.275349  0.741287\n",
       " 0.143251  0.286189  0.873848    0.359244  0.44194"
      ]
     },
     "metadata": {},
     "output_type": "display_data"
    }
   ],
   "source": [
    "B=rand(10,5)"
   ]
  },
  {
   "cell_type": "code",
   "execution_count": 20,
   "metadata": {},
   "outputs": [
    {
     "data": {
      "text/plain": [
       "QRPivoted{Float64, Matrix{Float64}, Vector{Float64}, Vector{Int64}}\n",
       "Q factor:\n",
       "10×10 LinearAlgebra.QRPackedQ{Float64, Matrix{Float64}, Vector{Float64}}:\n",
       " -0.335363   -0.181892     0.332912   …  -0.398655     0.000732897\n",
       " -0.420841   -0.117456    -0.144527       0.131119     0.581279\n",
       " -0.354542    0.027926    -0.199268      -0.499957    -0.555638\n",
       " -0.237748   -0.091698    -0.268422       0.0494444   -0.216469\n",
       " -0.33187     0.410263    -0.42271        0.330194    -0.053158\n",
       " -0.242659   -0.00233537   0.0546624  …  -0.0464604   -0.0576898\n",
       " -0.291689   -0.410854    -0.404451       0.0282139    0.14113\n",
       " -0.428963   -0.0304185    0.531818       0.00762352   0.19085\n",
       " -0.293406    0.248748     0.354253       0.544446    -0.369845\n",
       " -0.0632468   0.737568    -0.0542781     -0.403755     0.327477\n",
       "R factor:\n",
       "5×5 Matrix{Float64}:\n",
       " -2.26496  -1.4937   -1.59325   -1.19483   -1.72609\n",
       "  0.0       1.05668   0.295275   0.29914    0.257148\n",
       "  0.0       0.0      -0.749665   0.14352    0.0772414\n",
       "  0.0       0.0       0.0       -0.666212   0.404182\n",
       "  0.0       0.0       0.0        0.0       -0.512135\n",
       "permutation:\n",
       "5-element Vector{Int64}:\n",
       " 1\n",
       " 3\n",
       " 4\n",
       " 5\n",
       " 2"
      ]
     },
     "metadata": {},
     "output_type": "display_data"
    }
   ],
   "source": [
    "# W przypadku ogólnej macierzy prostokątnej wybierana jest faktoryzacja QR z pivotem\n",
    "factorize(B)"
   ]
  },
  {
   "attachments": {},
   "cell_type": "markdown",
   "metadata": {},
   "source": [
    "- $Q$ to macierz  ortogonalna mxm, co oznacza, że  $Q^T*Q=Q*Q^T=I$ czyli $Q^{-1}=Q^T$ (odwracanie takich macierzy jest szybkie i nie generuje dodatkowych błędów !)\n",
    "- $R$ to macierz postaci $\\begin{pmatrix} Rfactor \\\\ 0 \\end{pmatrix} $ , gdzie $Rfactor$ jest macierzą trójkątną górną, a 0 to macierz zer o wymierze nx(m-n)"
   ]
  },
  {
   "attachments": {},
   "cell_type": "markdown",
   "metadata": {},
   "source": [
    "### Zastosowanie faktoryzacji do metody najmniejszych kwadratów\n",
    "\n",
    "Jednym z zastosowań faktoryzacji QR jest użycie jej do metody najmniejszych kwadratów.\n",
    "\n",
    "Przykład:\n",
    "\n",
    "Obliczmy dopasowanie wielomianu $$f(x)=wsp_2*x^2+wsp_1*x+wsp_0$$ do punktów (1,1) (2,2) (3,4) (4, 4) (5,3) (6,0)\n",
    "\n",
    "- Budujemy układ równań wg wzoru $$wsp_2x_i^2+wsp_1x_i+wsp_0=y_i$$:\n",
    "$$wsp_2*1^2+wsp_1*1+wsp_0=1$$\n",
    "$$wsp_2*2^2+wsp_1*2+wsp_0=2$$\n",
    "$$wsp_2*3^2+wsp_1*3+wsp_0=4$$\n",
    "$$wsp_2*4^2+wsp_1*4+wsp_0=4$$\n",
    "$$wsp_2*5^2+wsp_1*5+wsp_0=3$$\n",
    "$$wsp_2*6^2+wsp_1*6+wsp_0=0$$\n",
    "\n",
    "- Układ ten  nie ma dokładnego rozwiązania. Możemy jednak znaleźć najlepsze przybliżenie, czyli takie $wsp_i$, które minimalizują odległość:\n",
    "\n",
    "$$\\sqrt{\\sum_{i=1}^{6}{(y_i-f(x_i))^2}}=\\lVert y-A*wsp\\rVert$$\n",
    "\n",
    "\n",
    "\n"
   ]
  },
  {
   "attachments": {},
   "cell_type": "markdown",
   "metadata": {},
   "source": [
    "Jak użyć do tej mimalizacji faktoryzacji QR:\n",
    "\n",
    "#### 1. Tworzymy macierz A na postawie $(x_i,y_i)$"
   ]
  },
  {
   "cell_type": "code",
   "execution_count": 21,
   "metadata": {},
   "outputs": [
    {
     "data": {
      "text/plain": [
       "6×3 Matrix{Float64}:\n",
       " 0.0  0.0  0.0\n",
       " 0.0  0.0  0.0\n",
       " 0.0  0.0  0.0\n",
       " 0.0  0.0  0.0\n",
       " 0.0  0.0  0.0\n",
       " 0.0  0.0  0.0"
      ]
     },
     "metadata": {},
     "output_type": "display_data"
    }
   ],
   "source": [
    "A=zeros(6,3) "
   ]
  },
  {
   "attachments": {},
   "cell_type": "markdown",
   "metadata": {},
   "source": [
    " punkty $(x_i,y_i)$\n"
   ]
  },
  {
   "cell_type": "code",
   "execution_count": 22,
   "metadata": {},
   "outputs": [
    {
     "data": {
      "text/plain": [
       "6-element Vector{Int64}:\n",
       " 1\n",
       " 2\n",
       " 4\n",
       " 4\n",
       " 3\n",
       " 0"
      ]
     },
     "metadata": {},
     "output_type": "display_data"
    }
   ],
   "source": [
    "x=[1; 2 ;3 ;4 ;5 ;6]\n",
    "y=[1; 2; 4; 4; 3; 0]"
   ]
  },
  {
   "cell_type": "code",
   "execution_count": 23,
   "metadata": {},
   "outputs": [
    {
     "data": {
      "text/plain": [
       "6-element Vector{Int64}:\n",
       "  1\n",
       "  4\n",
       "  9\n",
       " 16\n",
       " 25\n",
       " 36"
      ]
     },
     "metadata": {},
     "output_type": "display_data"
    }
   ],
   "source": [
    "A[:,1]=x.^2"
   ]
  },
  {
   "cell_type": "code",
   "execution_count": 24,
   "metadata": {},
   "outputs": [
    {
     "data": {
      "text/plain": [
       "6-element Vector{Int64}:\n",
       " 1\n",
       " 2\n",
       " 3\n",
       " 4\n",
       " 5\n",
       " 6"
      ]
     },
     "metadata": {},
     "output_type": "display_data"
    }
   ],
   "source": [
    "A[:,2]=x"
   ]
  },
  {
   "cell_type": "code",
   "execution_count": 25,
   "metadata": {},
   "outputs": [
    {
     "data": {
      "text/plain": [
       "6-element Vector{Float64}:\n",
       " 1.0\n",
       " 1.0\n",
       " 1.0\n",
       " 1.0\n",
       " 1.0\n",
       " 1.0"
      ]
     },
     "metadata": {},
     "output_type": "display_data"
    }
   ],
   "source": [
    "A[:,3]=ones(6)"
   ]
  },
  {
   "cell_type": "code",
   "execution_count": 26,
   "metadata": {},
   "outputs": [
    {
     "data": {
      "text/plain": [
       "6×3 Matrix{Float64}:\n",
       "  1.0  1.0  1.0\n",
       "  4.0  2.0  1.0\n",
       "  9.0  3.0  1.0\n",
       " 16.0  4.0  1.0\n",
       " 25.0  5.0  1.0\n",
       " 36.0  6.0  1.0"
      ]
     },
     "metadata": {},
     "output_type": "display_data"
    }
   ],
   "source": [
    "A"
   ]
  },
  {
   "attachments": {},
   "cell_type": "markdown",
   "metadata": {},
   "source": [
    "#### 2. Dokonujemy faktoryzacji QR macierzy A "
   ]
  },
  {
   "cell_type": "code",
   "execution_count": 27,
   "metadata": {},
   "outputs": [
    {
     "data": {
      "text/plain": [
       "QRPivoted{Float64, Matrix{Float64}, Vector{Float64}, Vector{Int64}}\n",
       "Q factor:\n",
       "6×6 LinearAlgebra.QRPackedQ{Float64, Matrix{Float64}, Vector{Float64}}:\n",
       " -0.0209657  -0.343313    0.838525   0.112335    -0.0400677  -0.405397\n",
       " -0.0838628  -0.521522    0.167705  -0.00636667   0.34634     0.756879\n",
       " -0.188691   -0.534625   -0.223607  -0.612934    -0.487947   -0.121617\n",
       " -0.335451   -0.382624   -0.33541    0.753648    -0.213523   -0.122449\n",
       " -0.524142   -0.0655178  -0.167705  -0.204705     0.705864   -0.390779\n",
       " -0.754765    0.416693    0.279508  -0.0419783   -0.310667    0.283364\n",
       "R factor:\n",
       "3×3 Matrix{Float64}:\n",
       " -47.697  -9.24587  -1.90788\n",
       "   0.0    -2.34816  -1.43091\n",
       "   0.0     0.0       0.559017\n",
       "permutation:\n",
       "3-element Vector{Int64}:\n",
       " 1\n",
       " 2\n",
       " 3"
      ]
     },
     "metadata": {},
     "output_type": "display_data"
    }
   ],
   "source": [
    " AF=factorize(A)"
   ]
  },
  {
   "cell_type": "code",
   "execution_count": 28,
   "metadata": {},
   "outputs": [
    {
     "data": {
      "text/plain": [
       "6×6 Matrix{Float64}:\n",
       "  1.0           0.0           1.66533e-16  …   2.77556e-17  -2.77556e-17\n",
       "  0.0           1.0           5.55112e-17      8.32667e-17  -9.71445e-17\n",
       "  1.66533e-16   5.55112e-17   1.0             -6.93889e-17  -2.77556e-17\n",
       " -2.08167e-17  -4.85723e-17  -7.97973e-17     -6.59195e-17  -3.1225e-17\n",
       "  2.77556e-17   8.32667e-17  -6.93889e-17      1.0          -2.77556e-17\n",
       " -2.77556e-17  -9.71445e-17  -2.77556e-17  …  -2.77556e-17   1.0"
      ]
     },
     "metadata": {},
     "output_type": "display_data"
    }
   ],
   "source": [
    "# można przetestować ortogonalność:\n",
    "Transpose(AF.Q)*AF.Q"
   ]
  },
  {
   "attachments": {},
   "cell_type": "markdown",
   "metadata": {},
   "source": [
    "Mamy równanie:\n",
    "$$A*wsp=y$$\n",
    "Dla $A=QR$:\n",
    "$$QR*wsp =y$$\n",
    "Możemy obydwie strony wymnożyć z lewej przez $Q^T$:\n",
    "$$R*wsp =Q^T y$$\n",
    "$$\\begin{pmatrix} Rfactor \\\\ 0 \\end{pmatrix} wsp= Q^T y$$\n",
    "\n",
    "Poszukiwanym rozwiązaniem jest rozwiązanie równania będącego górną niezerową częścią:\n",
    "$$Rfactor * wsp= Q^T y[1:n]$$\n",
    "$$wsp=Rfactor \\setminus Q^T y[1:n]$$"
   ]
  },
  {
   "cell_type": "code",
   "execution_count": 29,
   "metadata": {},
   "outputs": [
    {
     "data": {
      "text/plain": [
       "3-element Vector{Float64}:\n",
       " -0.5714285714285724\n",
       "  3.94285714285715\n",
       " -2.8000000000000145"
      ]
     },
     "metadata": {},
     "output_type": "display_data"
    }
   ],
   "source": [
    "# implementacja powyższego (uwaga: w tym przykladzie nie jest potrzebna permutacja,\n",
    "# bo wektor permutacji wynosi[1 2 3])\n",
    "AF.R\\((Transpose(AF.Q)*y)[1:3])"
   ]
  },
  {
   "attachments": {},
   "cell_type": "markdown",
   "metadata": {},
   "source": [
    "Więcej informacji:\n",
    "- http://www.math.uconn.edu/~leykekhman/courses/MATH3795/Lectures/Lecture_8_Linear_least_squares_orthogonal_matrices.pdf\n",
    "- http://www.seas.ucla.edu/~vandenbe/133A/lectures/qr.pdf"
   ]
  },
  {
   "attachments": {},
   "cell_type": "markdown",
   "metadata": {},
   "source": [
    "W praktyce używamy tego algorytmu poprzez operator \"\\\\\", za którym jest on \"schowany\"."
   ]
  },
  {
   "cell_type": "code",
   "execution_count": 30,
   "metadata": {},
   "outputs": [
    {
     "data": {
      "text/plain": [
       "3-element Vector{Float64}:\n",
       " -0.5714285714285723\n",
       "  3.9428571428571493\n",
       " -2.8000000000000136"
      ]
     },
     "metadata": {},
     "output_type": "display_data"
    }
   ],
   "source": [
    "A \\ y"
   ]
  },
  {
   "cell_type": "code",
   "execution_count": 31,
   "metadata": {},
   "outputs": [
    {
     "data": {
      "text/html": [
       "&#45;2.8000000000000136 &#43; 3.9428571428571493&#8729;x &#45; 0.5714285714285723&#8729;x<sup>2</sup>"
      ],
      "text/latex": [
       "$-2.8000000000000136 + 3.9428571428571493\\cdot x - 0.5714285714285723\\cdot x^{2}$"
      ],
      "text/plain": [
       "Polynomial(-2.8000000000000136 + 3.9428571428571493*x - 0.5714285714285723*x^2)"
      ]
     },
     "metadata": {},
     "output_type": "display_data"
    }
   ],
   "source": [
    "#sprawdzamy czy dostaliśmy dobre wspólczynniki\n",
    "using Polynomials\n",
    "fit(x,y, 2)"
   ]
  },
  {
   "cell_type": "code",
   "execution_count": 32,
   "metadata": {},
   "outputs": [
    {
     "data": {
      "text/plain": [
       "Polynomials"
      ]
     },
     "metadata": {},
     "output_type": "display_data"
    }
   ],
   "source": [
    "@which fit"
   ]
  },
  {
   "attachments": {},
   "cell_type": "markdown",
   "metadata": {},
   "source": [
    "### Zadania"
   ]
  },
  {
   "attachments": {},
   "cell_type": "markdown",
   "metadata": {},
   "source": [
    "#### Zadanie 1 (2 pkt)\n",
    "Ustal losowe (referencyjne) x rozmiaru 1000 oraz losowe A rozmiaru 1000x1000, policz b=A*x.\n",
    "Nastepnie rozwiąż równanie Ax=b trzema metodami:\n",
    "- inv()\n",
    "- \\\n",
    "- factorize()\n",
    "\n",
    "Porównaj jakość wyniku (zmierzoną jako długość różnicy wektorów wyniku oraz referencyjnego x) oraz czas wykonania (@time). UWAGA: pierwsze wykonanie funkcji w Julii zawiera czas kompilacji tej funkcji, dlatego czas mierzymy  od drugiego wywołania !\n",
    "\n",
    "#### Zadanie 2 (2 pkt)\n",
    "Policz współczynniki wielomianu aproksymującego dowolne dane z poprzednich laboratoriów tworząc wprost układ równań i rozwiązujac go (metoda z użyciem faktoryzacji QR zaprezentowana na tym laboratorium).\n",
    "Porównaj wyniki z tymi otrzymanymi poprzednio.\n",
    "\n",
    "#### Zadanie 3 (4 pkt)\n",
    "\n",
    "Znajdź i zaprezentuj działanie innego zastosowania wybranej faktoryzacji. Przykładowe (ale nie jedyne!) tematy:\n",
    "\n",
    "-    tworzenie pseudoinversji macierzy (http://buzzard.ups.edu/courses/2014spring/420projects/math420-UPS-spring-2014-macausland-pseudo-inverse-present.pdf).\n",
    "\n",
    "-   uzycie faktoryzacji QR do znajdowania wartości własnych (https://en.wikipedia.org/wiki/QR_algorithm)\n",
    "\n",
    "-  zastosowanie faktoryzacji SVD - np. zastosowania w uczeniu maszynowym \n",
    "\n"
   ]
  },
  {
   "attachments": {},
   "cell_type": "markdown",
   "metadata": {},
   "source": [
    "#### Zadanie 1 (2 pkt)\n",
    "Ustal losowe (referencyjne) x rozmiaru 1000 oraz losowe A rozmiaru 1000x1000, policz b=A*x.\n",
    "Nastepnie rozwiąż równanie Ax=b trzema metodami:\n",
    "- inv()\n",
    "- \\\n",
    "- factorize()\n",
    "\n",
    "Porównaj jakość wyniku (zmierzoną jako długość różnicy wektorów wyniku oraz referencyjnego x) oraz czas wykonania (@time). UWAGA: pierwsze wykonanie funkcji w Julii zawiera czas kompilacji tej funkcji, dlatego czas mierzymy  od drugiego wywołania !"
   ]
  },
  {
   "cell_type": "code",
   "execution_count": 2,
   "metadata": {},
   "outputs": [
    {
     "name": "stdout",
     "output_type": "stream",
     "text": [
      "inv()\n",
      "Średnia z różnicy wektorów: 3.8356817722018375e-15\n"
     ]
    },
    {
     "name": "stdout",
     "output_type": "stream",
     "text": [
      "Czas wykonania: 0.0185084 s\n",
      "\n",
      "\\\n",
      "Średnia z różnicy wektorów: 4.0351034145957866e-16\n",
      "Czas wykonania: 0.0068887 s\n",
      "\n",
      "factorize()\n",
      "Średnia z różnicy wektorów: 4.0351034145957866e-16\n",
      "Czas wykonania: 0.0003133 s\n"
     ]
    }
   ],
   "source": [
    "using LinearAlgebra\n",
    "using Statistics\n",
    "\n",
    "x = rand(1000)\n",
    "A = rand(1000,1000)\n",
    "b = A * x\n",
    "\n",
    "function method_1(A, b)\n",
    "    return inv(A) * b\n",
    "end\n",
    "\n",
    "function method_2(A, b)\n",
    "    return A \\ b\n",
    "end\n",
    "\n",
    "function method_3(AF, b)\n",
    "    return AF \\ b\n",
    "end\n",
    "\n",
    "println(\"inv()\")\n",
    "println(\"Średnia z różnicy wektorów: \", mean(method_1(A, b) - x))\n",
    "println(\"Czas wykonania: \", (@timed method_1(A, b)).time, \" s\")\n",
    "println()\n",
    "\n",
    "println(\"\\\\\")\n",
    "println(\"Średnia z różnicy wektorów: \", mean(method_2(A, b) - x))\n",
    "println(\"Czas wykonania: \", (@timed method_2(A, b)).time, \" s\")\n",
    "println()\n",
    "\n",
    "Af = factorize(A)\n",
    "println(\"factorize()\")\n",
    "println(\"Średnia z różnicy wektorów: \", mean(method_3(Af, b) - x))\n",
    "println(\"Czas wykonania: \", (@timed method_3(Af, b)).time, \" s\")"
   ]
  },
  {
   "attachments": {},
   "cell_type": "markdown",
   "metadata": {},
   "source": [
    "#### Zadanie 2 (2 pkt)\n",
    "Policz współczynniki wielomianu aproksymującego dowolne dane z poprzednich laboratoriów tworząc wprost układ równań i rozwiązujac go (metoda z użyciem faktoryzacji QR zaprezentowana na tym laboratorium).\n",
    "Porównaj wyniki z tymi otrzymanymi poprzednio."
   ]
  },
  {
   "cell_type": "code",
   "execution_count": 4,
   "metadata": {},
   "outputs": [
    {
     "data": {
      "image/png": "[encoded data removed]",
      "image/svg+xml": [
       "<?xml version=\"1.0\" encoding=\"utf-8\"?>\n",
       "<svg xmlns=\"http://www.w3.org/2000/svg\" xmlns:xlink=\"http://www.w3.org/1999/xlink\" width=\"600\" height=\"400\" viewBox=\"0 0 2400 1600\">\n",
       "<defs>\n",
       "  <clipPath id=\"clip100\">\n",
       "    <rect x=\"0\" y=\"0\" width=\"2400\" height=\"1600\"/>\n",
       "  </clipPath>\n",
       "</defs>\n",
       "<path clip-path=\"url(#clip100)\" d=\"M0 1600 L2400 1600 L2400 0 L0 0  Z\" fill=\"#ffffff\" fill-rule=\"evenodd\" fill-opacity=\"1\"/>\n",
       "<defs>\n",
       "  <clipPath id=\"clip101\">\n",
       "    <rect x=\"480\" y=\"0\" width=\"1681\" height=\"1600\"/>\n",
       "  </clipPath>\n",
       "</defs>\n",
       "<path clip-path=\"url(#clip100)\" d=\"M175.445 1423.18 L2352.76 1423.18 L2352.76 123.472 L175.445 123.472  Z\" fill=\"#ffffff\" fill-rule=\"evenodd\" fill-opacity=\"1\"/>\n",
       "<defs>\n",
       "  <clipPath id=\"clip102\">\n",
       "    <rect x=\"175\" y=\"123\" width=\"2178\" height=\"1301\"/>\n",
       "  </clipPath>\n",
       "</defs>\n",
       "<polyline clip-path=\"url(#clip102)\" style=\"stroke:#000000; stroke-linecap:round; stroke-linejoin:round; stroke-width:2; stroke-opacity:0.1; fill:none\" points=\"230.104,1423.18 230.104,123.472 \"/>\n",
       "<polyline clip-path=\"url(#clip102)\" style=\"stroke:#000000; stroke-linecap:round; stroke-linejoin:round; stroke-width:2; stroke-opacity:0.1; fill:none\" points=\"926.398,1423.18 926.398,123.472 \"/>\n",
       "<polyline clip-path=\"url(#clip102)\" style=\"stroke:#000000; stroke-linecap:round; stroke-linejoin:round; stroke-width:2; stroke-opacity:0.1; fill:none\" points=\"1622.69,1423.18 1622.69,123.472 \"/>\n",
       "<polyline clip-path=\"url(#clip102)\" style=\"stroke:#000000; stroke-linecap:round; stroke-linejoin:round; stroke-width:2; stroke-opacity:0.1; fill:none\" points=\"2318.99,1423.18 2318.99,123.472 \"/>\n",
       "<polyline clip-path=\"url(#clip100)\" style=\"stroke:#000000; stroke-linecap:round; stroke-linejoin:round; stroke-width:4; stroke-opacity:1; fill:none\" points=\"175.445,1423.18 2352.76,1423.18 \"/>\n",
       "<polyline clip-path=\"url(#clip100)\" style=\"stroke:#000000; stroke-linecap:round; stroke-linejoin:round; stroke-width:4; stroke-opacity:1; fill:none\" points=\"230.104,1423.18 230.104,1404.28 \"/>\n",
       "<polyline clip-path=\"url(#clip100)\" style=\"stroke:#000000; stroke-linecap:round; stroke-linejoin:round; stroke-width:4; stroke-opacity:1; fill:none\" points=\"926.398,1423.18 926.398,1404.28 \"/>\n",
       "<polyline clip-path=\"url(#clip100)\" style=\"stroke:#000000; stroke-linecap:round; stroke-linejoin:round; stroke-width:4; stroke-opacity:1; fill:none\" points=\"1622.69,1423.18 1622.69,1404.28 \"/>\n",
       "<polyline clip-path=\"url(#clip100)\" style=\"stroke:#000000; stroke-linecap:round; stroke-linejoin:round; stroke-width:4; stroke-opacity:1; fill:none\" points=\"2318.99,1423.18 2318.99,1404.28 \"/>\n",
       "<path clip-path=\"url(#clip100)\" d=\"M230.104 1454.1 Q226.493 1454.1 224.664 1457.66 Q222.859 1461.2 222.859 1468.33 Q222.859 1475.44 224.664 1479.01 Q226.493 1482.55 230.104 1482.55 Q233.739 1482.55 235.544 1479.01 Q237.373 1475.44 237.373 1468.33 Q237.373 1461.2 235.544 1457.66 Q233.739 1454.1 230.104 1454.1 M230.104 1450.39 Q235.914 1450.39 238.97 1455 Q242.049 1459.58 242.049 1468.33 Q242.049 1477.06 238.97 1481.67 Q235.914 1486.25 230.104 1486.25 Q224.294 1486.25 221.215 1481.67 Q218.16 1477.06 218.16 1468.33 Q218.16 1459.58 221.215 1455 Q224.294 1450.39 230.104 1450.39 Z\" fill=\"#000000\" fill-rule=\"evenodd\" fill-opacity=\"1\" /><path clip-path=\"url(#clip100)\" d=\"M886.005 1481.64 L893.644 1481.64 L893.644 1455.28 L885.333 1456.95 L885.333 1452.69 L893.597 1451.02 L898.273 1451.02 L898.273 1481.64 L905.912 1481.64 L905.912 1485.58 L886.005 1485.58 L886.005 1481.64 Z\" fill=\"#000000\" fill-rule=\"evenodd\" fill-opacity=\"1\" /><path clip-path=\"url(#clip100)\" d=\"M925.356 1454.1 Q921.745 1454.1 919.917 1457.66 Q918.111 1461.2 918.111 1468.33 Q918.111 1475.44 919.917 1479.01 Q921.745 1482.55 925.356 1482.55 Q928.991 1482.55 930.796 1479.01 Q932.625 1475.44 932.625 1468.33 Q932.625 1461.2 930.796 1457.66 Q928.991 1454.1 925.356 1454.1 M925.356 1450.39 Q931.167 1450.39 934.222 1455 Q937.301 1459.58 937.301 1468.33 Q937.301 1477.06 934.222 1481.67 Q931.167 1486.25 925.356 1486.25 Q919.546 1486.25 916.468 1481.67 Q913.412 1477.06 913.412 1468.33 Q913.412 1459.58 916.468 1455 Q919.546 1450.39 925.356 1450.39 Z\" fill=\"#000000\" fill-rule=\"evenodd\" fill-opacity=\"1\" /><path clip-path=\"url(#clip100)\" d=\"M955.518 1454.1 Q951.907 1454.1 950.078 1457.66 Q948.273 1461.2 948.273 1468.33 Q948.273 1475.44 950.078 1479.01 Q951.907 1482.55 955.518 1482.55 Q959.153 1482.55 960.958 1479.01 Q962.787 1475.44 962.787 1468.33 Q962.787 1461.2 960.958 1457.66 Q959.153 1454.1 955.518 1454.1 M955.518 1450.39 Q961.328 1450.39 964.384 1455 Q967.463 1459.58 967.463 1468.33 Q967.463 1477.06 964.384 1481.67 Q961.328 1486.25 955.518 1486.25 Q949.708 1486.25 946.629 1481.67 Q943.574 1477.06 943.574 1468.33 Q943.574 1459.58 946.629 1455 Q949.708 1450.39 955.518 1450.39 Z\" fill=\"#000000\" fill-rule=\"evenodd\" fill-opacity=\"1\" /><path clip-path=\"url(#clip100)\" d=\"M1586.38 1481.64 L1602.7 1481.64 L1602.7 1485.58 L1580.76 1485.58 L1580.76 1481.64 Q1583.42 1478.89 1588 1474.26 Q1592.61 1469.61 1593.79 1468.27 Q1596.04 1465.74 1596.92 1464.01 Q1597.82 1462.25 1597.82 1460.56 Q1597.82 1457.8 1595.87 1456.07 Q1593.95 1454.33 1590.85 1454.33 Q1588.65 1454.33 1586.2 1455.09 Q1583.77 1455.86 1580.99 1457.41 L1580.99 1452.69 Q1583.81 1451.55 1586.27 1450.97 Q1588.72 1450.39 1590.76 1450.39 Q1596.13 1450.39 1599.32 1453.08 Q1602.52 1455.77 1602.52 1460.26 Q1602.52 1462.39 1601.71 1464.31 Q1600.92 1466.2 1598.81 1468.8 Q1598.24 1469.47 1595.13 1472.69 Q1592.03 1475.88 1586.38 1481.64 Z\" fill=\"#000000\" fill-rule=\"evenodd\" fill-opacity=\"1\" /><path clip-path=\"url(#clip100)\" d=\"M1622.52 1454.1 Q1618.91 1454.1 1617.08 1457.66 Q1615.27 1461.2 1615.27 1468.33 Q1615.27 1475.44 1617.08 1479.01 Q1618.91 1482.55 1622.52 1482.55 Q1626.15 1482.55 1627.96 1479.01 Q1629.79 1475.44 1629.79 1468.33 Q1629.79 1461.2 1627.96 1457.66 Q1626.15 1454.1 1622.52 1454.1 M1622.52 1450.39 Q1628.33 1450.39 1631.38 1455 Q1634.46 1459.58 1634.46 1468.33 Q1634.46 1477.06 1631.38 1481.67 Q1628.33 1486.25 1622.52 1486.25 Q1616.71 1486.25 1613.63 1481.67 Q1610.57 1477.06 1610.57 1468.33 Q1610.57 1459.58 1613.63 1455 Q1616.71 1450.39 1622.52 1450.39 Z\" fill=\"#000000\" fill-rule=\"evenodd\" fill-opacity=\"1\" /><path clip-path=\"url(#clip100)\" d=\"M1652.68 1454.1 Q1649.07 1454.1 1647.24 1457.66 Q1645.43 1461.2 1645.43 1468.33 Q1645.43 1475.44 1647.24 1479.01 Q1649.07 1482.55 1652.68 1482.55 Q1656.31 1482.55 1658.12 1479.01 Q1659.95 1475.44 1659.95 1468.33 Q1659.95 1461.2 1658.12 1457.66 Q1656.31 1454.1 1652.68 1454.1 M1652.68 1450.39 Q1658.49 1450.39 1661.55 1455 Q1664.62 1459.58 1664.62 1468.33 Q1664.62 1477.06 1661.55 1481.67 Q1658.49 1486.25 1652.68 1486.25 Q1646.87 1486.25 1643.79 1481.67 Q1640.74 1477.06 1640.74 1468.33 Q1640.74 1459.58 1643.79 1455 Q1646.87 1450.39 1652.68 1450.39 Z\" fill=\"#000000\" fill-rule=\"evenodd\" fill-opacity=\"1\" /><path clip-path=\"url(#clip100)\" d=\"M2292.75 1466.95 Q2296.1 1467.66 2297.98 1469.93 Q2299.88 1472.2 2299.88 1475.53 Q2299.88 1480.65 2296.36 1483.45 Q2292.84 1486.25 2286.36 1486.25 Q2284.18 1486.25 2281.87 1485.81 Q2279.58 1485.39 2277.12 1484.54 L2277.12 1480.02 Q2279.07 1481.16 2281.38 1481.74 Q2283.7 1482.32 2286.22 1482.32 Q2290.62 1482.32 2292.91 1480.58 Q2295.22 1478.84 2295.22 1475.53 Q2295.22 1472.48 2293.07 1470.77 Q2290.94 1469.03 2287.12 1469.03 L2283.09 1469.03 L2283.09 1465.19 L2287.31 1465.19 Q2290.76 1465.19 2292.59 1463.82 Q2294.41 1462.43 2294.41 1459.84 Q2294.41 1457.18 2292.52 1455.77 Q2290.64 1454.33 2287.12 1454.33 Q2285.2 1454.33 2283 1454.75 Q2280.8 1455.16 2278.16 1456.04 L2278.16 1451.88 Q2280.83 1451.14 2283.14 1450.77 Q2285.48 1450.39 2287.54 1450.39 Q2292.86 1450.39 2295.96 1452.83 Q2299.07 1455.23 2299.07 1459.35 Q2299.07 1462.22 2297.42 1464.21 Q2295.78 1466.18 2292.75 1466.95 Z\" fill=\"#000000\" fill-rule=\"evenodd\" fill-opacity=\"1\" /><path clip-path=\"url(#clip100)\" d=\"M2318.74 1454.1 Q2315.13 1454.1 2313.3 1457.66 Q2311.5 1461.2 2311.5 1468.33 Q2311.5 1475.44 2313.3 1479.01 Q2315.13 1482.55 2318.74 1482.55 Q2322.38 1482.55 2324.18 1479.01 Q2326.01 1475.44 2326.01 1468.33 Q2326.01 1461.2 2324.18 1457.66 Q2322.38 1454.1 2318.74 1454.1 M2318.74 1450.39 Q2324.55 1450.39 2327.61 1455 Q2330.69 1459.58 2330.69 1468.33 Q2330.69 1477.06 2327.61 1481.67 Q2324.55 1486.25 2318.74 1486.25 Q2312.93 1486.25 2309.85 1481.67 Q2306.8 1477.06 2306.8 1468.33 Q2306.8 1459.58 2309.85 1455 Q2312.93 1450.39 2318.74 1450.39 Z\" fill=\"#000000\" fill-rule=\"evenodd\" fill-opacity=\"1\" /><path clip-path=\"url(#clip100)\" d=\"M2348.9 1454.1 Q2345.29 1454.1 2343.46 1457.66 Q2341.66 1461.2 2341.66 1468.33 Q2341.66 1475.44 2343.46 1479.01 Q2345.29 1482.55 2348.9 1482.55 Q2352.54 1482.55 2354.34 1479.01 Q2356.17 1475.44 2356.17 1468.33 Q2356.17 1461.2 2354.34 1457.66 Q2352.54 1454.1 2348.9 1454.1 M2348.9 1450.39 Q2354.71 1450.39 2357.77 1455 Q2360.85 1459.58 2360.85 1468.33 Q2360.85 1477.06 2357.77 1481.67 Q2354.71 1486.25 2348.9 1486.25 Q2343.09 1486.25 2340.02 1481.67 Q2336.96 1477.06 2336.96 1468.33 Q2336.96 1459.58 2340.02 1455 Q2343.09 1450.39 2348.9 1450.39 Z\" fill=\"#000000\" fill-rule=\"evenodd\" fill-opacity=\"1\" /><path clip-path=\"url(#clip100)\" d=\"M999.494 1545.76 Q1001.56 1546.46 1003.5 1548.76 Q1005.48 1551.05 1007.45 1555.06 L1013.98 1568.04 L1007.07 1568.04 L1000.99 1555.85 Q998.635 1551.08 996.407 1549.52 Q994.211 1547.96 990.391 1547.96 L983.389 1547.96 L983.389 1568.04 L976.959 1568.04 L976.959 1520.52 L991.473 1520.52 Q999.621 1520.52 1003.63 1523.93 Q1007.64 1527.34 1007.64 1534.21 Q1007.64 1538.7 1005.54 1541.66 Q1003.47 1544.62 999.494 1545.76 M983.389 1525.81 L983.389 1542.68 L991.473 1542.68 Q996.12 1542.68 998.476 1540.54 Q1000.86 1538.38 1000.86 1534.21 Q1000.86 1530.04 998.476 1527.94 Q996.12 1525.81 991.473 1525.81 L983.389 1525.81 Z\" fill=\"#000000\" fill-rule=\"evenodd\" fill-opacity=\"1\" /><path clip-path=\"url(#clip100)\" d=\"M1032.88 1536.5 Q1028.17 1536.5 1025.43 1540.19 Q1022.7 1543.85 1022.7 1550.25 Q1022.7 1556.65 1025.4 1560.34 Q1028.14 1564 1032.88 1564 Q1037.56 1564 1040.3 1560.31 Q1043.04 1556.62 1043.04 1550.25 Q1043.04 1543.92 1040.3 1540.23 Q1037.56 1536.5 1032.88 1536.5 M1032.88 1531.54 Q1040.52 1531.54 1044.88 1536.5 Q1049.24 1541.47 1049.24 1550.25 Q1049.24 1559 1044.88 1564 Q1040.52 1568.97 1032.88 1568.97 Q1025.21 1568.97 1020.85 1564 Q1016.52 1559 1016.52 1550.25 Q1016.52 1541.47 1020.85 1536.5 Q1025.21 1531.54 1032.88 1531.54 Z\" fill=\"#000000\" fill-rule=\"evenodd\" fill-opacity=\"1\" /><path clip-path=\"url(#clip100)\" d=\"M1056.4 1532.4 L1084.22 1532.4 L1084.22 1537.74 L1062.2 1563.37 L1084.22 1563.37 L1084.22 1568.04 L1055.61 1568.04 L1055.61 1562.7 L1077.63 1537.07 L1056.4 1537.07 L1056.4 1532.4 Z\" fill=\"#000000\" fill-rule=\"evenodd\" fill-opacity=\"1\" /><path clip-path=\"url(#clip100)\" d=\"M1120.92 1539.24 Q1123.12 1535.29 1126.17 1533.41 Q1129.23 1531.54 1133.36 1531.54 Q1138.93 1531.54 1141.96 1535.45 Q1144.98 1539.33 1144.98 1546.53 L1144.98 1568.04 L1139.09 1568.04 L1139.09 1546.72 Q1139.09 1541.59 1137.28 1539.11 Q1135.47 1536.63 1131.74 1536.63 Q1127.19 1536.63 1124.55 1539.65 Q1121.91 1542.68 1121.91 1547.9 L1121.91 1568.04 L1116.02 1568.04 L1116.02 1546.72 Q1116.02 1541.56 1114.2 1539.11 Q1112.39 1536.63 1108.6 1536.63 Q1104.11 1536.63 1101.47 1539.68 Q1098.83 1542.71 1098.83 1547.9 L1098.83 1568.04 L1092.94 1568.04 L1092.94 1532.4 L1098.83 1532.4 L1098.83 1537.93 Q1100.84 1534.66 1103.64 1533.1 Q1106.44 1531.54 1110.29 1531.54 Q1114.17 1531.54 1116.88 1533.51 Q1119.61 1535.48 1120.92 1539.24 Z\" fill=\"#000000\" fill-rule=\"evenodd\" fill-opacity=\"1\" /><path clip-path=\"url(#clip100)\" d=\"M1156.66 1532.4 L1162.52 1532.4 L1162.52 1568.04 L1156.66 1568.04 L1156.66 1532.4 M1156.66 1518.52 L1162.52 1518.52 L1162.52 1525.93 L1156.66 1525.93 L1156.66 1518.52 Z\" fill=\"#000000\" fill-rule=\"evenodd\" fill-opacity=\"1\" /><path clip-path=\"url(#clip100)\" d=\"M1190.97 1550.12 Q1183.88 1550.12 1181.14 1551.75 Q1178.4 1553.37 1178.4 1557.29 Q1178.4 1560.4 1180.44 1562.25 Q1182.51 1564.07 1186.04 1564.07 Q1190.91 1564.07 1193.84 1560.63 Q1196.8 1557.16 1196.8 1551.43 L1196.8 1550.12 L1190.97 1550.12 M1202.66 1547.71 L1202.66 1568.04 L1196.8 1568.04 L1196.8 1562.63 Q1194.79 1565.88 1191.8 1567.44 Q1188.81 1568.97 1184.48 1568.97 Q1179.01 1568.97 1175.76 1565.91 Q1172.55 1562.82 1172.55 1557.67 Q1172.55 1551.65 1176.56 1548.6 Q1180.6 1545.54 1188.59 1545.54 L1196.8 1545.54 L1196.8 1544.97 Q1196.8 1540.93 1194.13 1538.73 Q1191.48 1536.5 1186.68 1536.5 Q1183.62 1536.5 1180.73 1537.23 Q1177.83 1537.97 1175.16 1539.43 L1175.16 1534.02 Q1178.37 1532.78 1181.39 1532.17 Q1184.42 1531.54 1187.28 1531.54 Q1195.02 1531.54 1198.84 1535.55 Q1202.66 1539.56 1202.66 1547.71 Z\" fill=\"#000000\" fill-rule=\"evenodd\" fill-opacity=\"1\" /><path clip-path=\"url(#clip100)\" d=\"M1235.38 1537.87 Q1234.39 1537.3 1233.21 1537.04 Q1232.07 1536.76 1230.66 1536.76 Q1225.7 1536.76 1223.03 1540 Q1220.38 1543.22 1220.38 1549.27 L1220.38 1568.04 L1214.5 1568.04 L1214.5 1532.4 L1220.38 1532.4 L1220.38 1537.93 Q1222.23 1534.69 1225.19 1533.13 Q1228.15 1531.54 1232.38 1531.54 Q1232.99 1531.54 1233.72 1531.63 Q1234.45 1531.7 1235.34 1531.85 L1235.38 1537.87 Z\" fill=\"#000000\" fill-rule=\"evenodd\" fill-opacity=\"1\" /><path clip-path=\"url(#clip100)\" d=\"M1289.99 1539.24 Q1292.19 1535.29 1295.24 1533.41 Q1298.3 1531.54 1302.44 1531.54 Q1308.01 1531.54 1311.03 1535.45 Q1314.06 1539.33 1314.06 1546.53 L1314.06 1568.04 L1308.17 1568.04 L1308.17 1546.72 Q1308.17 1541.59 1306.35 1539.11 Q1304.54 1536.63 1300.81 1536.63 Q1296.26 1536.63 1293.62 1539.65 Q1290.98 1542.68 1290.98 1547.9 L1290.98 1568.04 L1285.09 1568.04 L1285.09 1546.72 Q1285.09 1541.56 1283.28 1539.11 Q1281.46 1536.63 1277.68 1536.63 Q1273.19 1536.63 1270.55 1539.68 Q1267.9 1542.71 1267.9 1547.9 L1267.9 1568.04 L1262.02 1568.04 L1262.02 1532.4 L1267.9 1532.4 L1267.9 1537.93 Q1269.91 1534.66 1272.71 1533.1 Q1275.51 1531.54 1279.36 1531.54 Q1283.25 1531.54 1285.95 1533.51 Q1288.69 1535.48 1289.99 1539.24 Z\" fill=\"#000000\" fill-rule=\"evenodd\" fill-opacity=\"1\" /><path clip-path=\"url(#clip100)\" d=\"M1341.94 1550.12 Q1334.84 1550.12 1332.1 1551.75 Q1329.36 1553.37 1329.36 1557.29 Q1329.36 1560.4 1331.4 1562.25 Q1333.47 1564.07 1337 1564.07 Q1341.87 1564.07 1344.8 1560.63 Q1347.76 1557.16 1347.76 1551.43 L1347.76 1550.12 L1341.94 1550.12 M1353.62 1547.71 L1353.62 1568.04 L1347.76 1568.04 L1347.76 1562.63 Q1345.76 1565.88 1342.76 1567.44 Q1339.77 1568.97 1335.44 1568.97 Q1329.97 1568.97 1326.72 1565.91 Q1323.51 1562.82 1323.51 1557.67 Q1323.51 1551.65 1327.52 1548.6 Q1331.56 1545.54 1339.55 1545.54 L1347.76 1545.54 L1347.76 1544.97 Q1347.76 1540.93 1345.09 1538.73 Q1342.45 1536.5 1337.64 1536.5 Q1334.58 1536.5 1331.69 1537.23 Q1328.79 1537.97 1326.12 1539.43 L1326.12 1534.02 Q1329.33 1532.78 1332.36 1532.17 Q1335.38 1531.54 1338.25 1531.54 Q1345.98 1531.54 1349.8 1535.55 Q1353.62 1539.56 1353.62 1547.71 Z\" fill=\"#000000\" fill-rule=\"evenodd\" fill-opacity=\"1\" /><path clip-path=\"url(#clip100)\" d=\"M1391.34 1533.76 L1391.34 1539.24 Q1388.85 1537.87 1386.34 1537.2 Q1383.86 1536.5 1381.31 1536.5 Q1375.61 1536.5 1372.46 1540.13 Q1369.31 1543.73 1369.31 1550.25 Q1369.31 1556.78 1372.46 1560.4 Q1375.61 1564 1381.31 1564 Q1383.86 1564 1386.34 1563.33 Q1388.85 1562.63 1391.34 1561.26 L1391.34 1566.68 Q1388.88 1567.82 1386.24 1568.39 Q1383.63 1568.97 1380.67 1568.97 Q1372.62 1568.97 1367.88 1563.91 Q1363.14 1558.85 1363.14 1550.25 Q1363.14 1541.53 1367.91 1536.53 Q1372.72 1531.54 1381.05 1531.54 Q1383.76 1531.54 1386.34 1532.11 Q1388.92 1532.65 1391.34 1533.76 Z\" fill=\"#000000\" fill-rule=\"evenodd\" fill-opacity=\"1\" /><path clip-path=\"url(#clip100)\" d=\"M1401.52 1532.4 L1407.38 1532.4 L1407.38 1568.04 L1401.52 1568.04 L1401.52 1532.4 M1401.52 1518.52 L1407.38 1518.52 L1407.38 1525.93 L1401.52 1525.93 L1401.52 1518.52 Z\" fill=\"#000000\" fill-rule=\"evenodd\" fill-opacity=\"1\" /><path clip-path=\"url(#clip100)\" d=\"M1450.12 1548.76 L1450.12 1551.62 L1423.2 1551.62 Q1423.58 1557.67 1426.82 1560.85 Q1430.1 1564 1435.93 1564 Q1439.3 1564 1442.45 1563.17 Q1445.63 1562.35 1448.75 1560.69 L1448.75 1566.23 Q1445.6 1567.57 1442.29 1568.27 Q1438.98 1568.97 1435.58 1568.97 Q1427.05 1568.97 1422.05 1564 Q1417.08 1559.04 1417.08 1550.57 Q1417.08 1541.82 1421.8 1536.69 Q1426.54 1531.54 1434.56 1531.54 Q1441.75 1531.54 1445.92 1536.18 Q1450.12 1540.8 1450.12 1548.76 M1444.27 1547.04 Q1444.2 1542.23 1441.56 1539.37 Q1438.95 1536.5 1434.62 1536.5 Q1429.72 1536.5 1426.76 1539.27 Q1423.83 1542.04 1423.39 1547.07 L1444.27 1547.04 Z\" fill=\"#000000\" fill-rule=\"evenodd\" fill-opacity=\"1\" /><path clip-path=\"url(#clip100)\" d=\"M1480.39 1537.87 Q1479.4 1537.3 1478.23 1537.04 Q1477.08 1536.76 1475.68 1536.76 Q1470.72 1536.76 1468.04 1540 Q1465.4 1543.22 1465.4 1549.27 L1465.4 1568.04 L1459.51 1568.04 L1459.51 1532.4 L1465.4 1532.4 L1465.4 1537.93 Q1467.25 1534.69 1470.21 1533.13 Q1473.17 1531.54 1477.4 1531.54 Q1478 1531.54 1478.74 1531.63 Q1479.47 1531.7 1480.36 1531.85 L1480.39 1537.87 Z\" fill=\"#000000\" fill-rule=\"evenodd\" fill-opacity=\"1\" /><path clip-path=\"url(#clip100)\" d=\"M1483.99 1532.4 L1511.81 1532.4 L1511.81 1537.74 L1489.78 1563.37 L1511.81 1563.37 L1511.81 1568.04 L1483.19 1568.04 L1483.19 1562.7 L1505.22 1537.07 L1483.99 1537.07 L1483.99 1532.4 Z\" fill=\"#000000\" fill-rule=\"evenodd\" fill-opacity=\"1\" /><path clip-path=\"url(#clip100)\" d=\"M1535.58 1571.35 Q1533.1 1577.72 1530.74 1579.66 Q1528.39 1581.6 1524.44 1581.6 L1519.76 1581.6 L1519.76 1576.7 L1523.2 1576.7 Q1525.62 1576.7 1526.96 1575.56 Q1528.29 1574.41 1529.92 1570.14 L1530.97 1567.47 L1516.55 1532.4 L1522.76 1532.4 L1533.9 1560.28 L1545.04 1532.4 L1551.24 1532.4 L1535.58 1571.35 Z\" fill=\"#000000\" fill-rule=\"evenodd\" fill-opacity=\"1\" /><polyline clip-path=\"url(#clip102)\" style=\"stroke:#000000; stroke-linecap:round; stroke-linejoin:round; stroke-width:2; stroke-opacity:0.1; fill:none\" points=\"175.445,1386.4 2352.76,1386.4 \"/>\n",
       "<polyline clip-path=\"url(#clip102)\" style=\"stroke:#000000; stroke-linecap:round; stroke-linejoin:round; stroke-width:2; stroke-opacity:0.1; fill:none\" points=\"175.445,1045.61 2352.76,1045.61 \"/>\n",
       "<polyline clip-path=\"url(#clip102)\" style=\"stroke:#000000; stroke-linecap:round; stroke-linejoin:round; stroke-width:2; stroke-opacity:0.1; fill:none\" points=\"175.445,704.822 2352.76,704.822 \"/>\n",
       "<polyline clip-path=\"url(#clip102)\" style=\"stroke:#000000; stroke-linecap:round; stroke-linejoin:round; stroke-width:2; stroke-opacity:0.1; fill:none\" points=\"175.445,364.035 2352.76,364.035 \"/>\n",
       "<polyline clip-path=\"url(#clip100)\" style=\"stroke:#000000; stroke-linecap:round; stroke-linejoin:round; stroke-width:4; stroke-opacity:1; fill:none\" points=\"175.445,1423.18 175.445,123.472 \"/>\n",
       "<polyline clip-path=\"url(#clip100)\" style=\"stroke:#000000; stroke-linecap:round; stroke-linejoin:round; stroke-width:4; stroke-opacity:1; fill:none\" points=\"175.445,1386.4 194.343,1386.4 \"/>\n",
       "<polyline clip-path=\"url(#clip100)\" style=\"stroke:#000000; stroke-linecap:round; stroke-linejoin:round; stroke-width:4; stroke-opacity:1; fill:none\" points=\"175.445,1045.61 194.343,1045.61 \"/>\n",
       "<polyline clip-path=\"url(#clip100)\" style=\"stroke:#000000; stroke-linecap:round; stroke-linejoin:round; stroke-width:4; stroke-opacity:1; fill:none\" points=\"175.445,704.822 194.343,704.822 \"/>\n",
       "<polyline clip-path=\"url(#clip100)\" style=\"stroke:#000000; stroke-linecap:round; stroke-linejoin:round; stroke-width:4; stroke-opacity:1; fill:none\" points=\"175.445,364.035 194.343,364.035 \"/>\n",
       "<path clip-path=\"url(#clip100)\" d=\"M127.501 1372.19 Q123.89 1372.19 122.061 1375.76 Q120.255 1379.3 120.255 1386.43 Q120.255 1393.54 122.061 1397.1 Q123.89 1400.64 127.501 1400.64 Q131.135 1400.64 132.941 1397.1 Q134.769 1393.54 134.769 1386.43 Q134.769 1379.3 132.941 1375.76 Q131.135 1372.19 127.501 1372.19 M127.501 1368.49 Q133.311 1368.49 136.367 1373.1 Q139.445 1377.68 139.445 1386.43 Q139.445 1395.16 136.367 1399.76 Q133.311 1404.35 127.501 1404.35 Q121.691 1404.35 118.612 1399.76 Q115.556 1395.16 115.556 1386.43 Q115.556 1377.68 118.612 1373.1 Q121.691 1368.49 127.501 1368.49 Z\" fill=\"#000000\" fill-rule=\"evenodd\" fill-opacity=\"1\" /><path clip-path=\"url(#clip100)\" d=\"M123.126 1058.95 L139.445 1058.95 L139.445 1062.89 L117.501 1062.89 L117.501 1058.95 Q120.163 1056.2 124.746 1051.57 Q129.353 1046.92 130.533 1045.57 Q132.779 1043.05 133.658 1041.32 Q134.561 1039.56 134.561 1037.87 Q134.561 1035.11 132.617 1033.38 Q130.695 1031.64 127.593 1031.64 Q125.394 1031.64 122.941 1032.4 Q120.51 1033.17 117.732 1034.72 L117.732 1030 Q120.556 1028.86 123.01 1028.28 Q125.464 1027.7 127.501 1027.7 Q132.871 1027.7 136.066 1030.39 Q139.26 1033.07 139.26 1037.57 Q139.26 1039.69 138.45 1041.62 Q137.663 1043.51 135.556 1046.11 Q134.978 1046.78 131.876 1050 Q128.774 1053.19 123.126 1058.95 Z\" fill=\"#000000\" fill-rule=\"evenodd\" fill-opacity=\"1\" /><path clip-path=\"url(#clip100)\" d=\"M129.862 691.616 L118.056 710.065 L129.862 710.065 L129.862 691.616 M128.635 687.542 L134.515 687.542 L134.515 710.065 L139.445 710.065 L139.445 713.954 L134.515 713.954 L134.515 722.102 L129.862 722.102 L129.862 713.954 L114.26 713.954 L114.26 709.44 L128.635 687.542 Z\" fill=\"#000000\" fill-rule=\"evenodd\" fill-opacity=\"1\" /><path clip-path=\"url(#clip100)\" d=\"M127.917 362.171 Q124.769 362.171 122.918 364.324 Q121.089 366.477 121.089 370.227 Q121.089 373.954 122.918 376.13 Q124.769 378.282 127.917 378.282 Q131.066 378.282 132.894 376.13 Q134.746 373.954 134.746 370.227 Q134.746 366.477 132.894 364.324 Q131.066 362.171 127.917 362.171 M137.2 347.519 L137.2 351.778 Q135.441 350.944 133.635 350.505 Q131.853 350.065 130.093 350.065 Q125.464 350.065 123.01 353.19 Q120.58 356.315 120.232 362.634 Q121.598 360.62 123.658 359.556 Q125.718 358.468 128.195 358.468 Q133.404 358.468 136.413 361.639 Q139.445 364.787 139.445 370.227 Q139.445 375.551 136.297 378.768 Q133.149 381.986 127.917 381.986 Q121.922 381.986 118.751 377.403 Q115.58 372.796 115.58 364.069 Q115.58 355.875 119.468 351.014 Q123.357 346.13 129.908 346.13 Q131.667 346.13 133.45 346.477 Q135.255 346.824 137.2 347.519 Z\" fill=\"#000000\" fill-rule=\"evenodd\" fill-opacity=\"1\" /><path clip-path=\"url(#clip100)\" d=\"M20.1444 859.963 L26.9239 859.963 Q23.9002 863.21 22.4043 866.902 Q20.9083 870.562 20.9083 874.7 Q20.9083 882.848 25.9054 887.177 Q30.8707 891.505 40.2919 891.505 Q49.6813 891.505 54.6784 887.177 Q59.6436 882.848 59.6436 874.7 Q59.6436 870.562 58.1477 866.902 Q56.6518 863.21 53.6281 859.963 L60.3439 859.963 Q62.6355 863.337 63.7814 867.125 Q64.9272 870.88 64.9272 875.082 Q64.9272 885.872 58.3387 892.078 Q51.7183 898.285 40.2919 898.285 Q28.8336 898.285 22.2451 892.078 Q15.6248 885.872 15.6248 875.082 Q15.6248 870.817 16.7706 867.061 Q17.8846 863.273 20.1444 859.963 Z\" fill=\"#000000\" fill-rule=\"evenodd\" fill-opacity=\"1\" /><path clip-path=\"url(#clip100)\" d=\"M28.3562 852.834 L28.3562 825.016 L33.7034 825.016 L59.3254 847.041 L59.3254 825.016 L64.0042 825.016 L64.0042 853.629 L58.657 853.629 L33.035 831.604 L33.035 852.834 L28.3562 852.834 Z\" fill=\"#000000\" fill-rule=\"evenodd\" fill-opacity=\"1\" /><path clip-path=\"url(#clip100)\" d=\"M46.0847 799.871 Q46.0847 806.969 47.7079 809.706 Q49.3312 812.443 53.2461 812.443 Q56.3653 812.443 58.2114 810.406 Q60.0256 808.337 60.0256 804.804 Q60.0256 799.935 56.5881 797.006 Q53.1188 794.046 47.3897 794.046 L46.0847 794.046 L46.0847 799.871 M43.6657 788.19 L64.0042 788.19 L64.0042 794.046 L58.5933 794.046 Q61.8398 796.052 63.3994 799.043 Q64.9272 802.035 64.9272 806.364 Q64.9272 811.839 61.8716 815.085 Q58.7843 818.3 53.6281 818.3 Q47.6125 818.3 44.5569 814.289 Q41.5014 810.247 41.5014 802.258 L41.5014 794.046 L40.9285 794.046 Q36.8862 794.046 34.6901 796.72 Q32.4621 799.362 32.4621 804.168 Q32.4621 807.223 33.1941 810.12 Q33.9262 813.016 35.3903 815.69 L29.9795 815.69 Q28.7381 812.475 28.1334 809.451 Q27.4968 806.428 27.4968 803.563 Q27.4968 795.829 31.5072 792.009 Q35.5176 788.19 43.6657 788.19 Z\" fill=\"#000000\" fill-rule=\"evenodd\" fill-opacity=\"1\" /><path clip-path=\"url(#clip100)\" d=\"M29.4065 753.401 L34.9447 753.401 Q33.6716 755.884 33.035 758.558 Q32.3984 761.231 32.3984 764.096 Q32.3984 768.456 33.7352 770.652 Q35.072 772.817 37.7456 772.817 Q39.7826 772.817 40.9603 771.257 Q42.1061 769.698 43.1565 764.987 L43.6021 762.982 Q44.9389 756.743 47.3897 754.133 Q49.8086 751.492 54.1691 751.492 Q59.1344 751.492 62.0308 755.438 Q64.9272 759.353 64.9272 766.228 Q64.9272 769.093 64.3543 772.212 Q63.8132 775.299 62.6992 778.737 L56.6518 778.737 Q58.3387 775.49 59.198 772.339 Q60.0256 769.188 60.0256 766.101 Q60.0256 761.963 58.6251 759.735 Q57.1929 757.507 54.6147 757.507 Q52.2276 757.507 50.9545 759.13 Q49.6813 760.722 48.5037 766.165 L48.0262 768.202 Q46.8804 773.644 44.5251 776.063 Q42.138 778.482 38.0002 778.482 Q32.9713 778.482 30.2341 774.917 Q27.4968 771.353 27.4968 764.796 Q27.4968 761.549 27.9743 758.685 Q28.4517 755.82 29.4065 753.401 Z\" fill=\"#000000\" fill-rule=\"evenodd\" fill-opacity=\"1\" /><path clip-path=\"url(#clip100)\" d=\"M14.479 721.987 L14.479 708.491 L19.0304 708.491 L19.0304 716.13 L68.0464 716.13 L68.0464 708.491 L72.5979 708.491 L72.5979 721.987 L14.479 721.987 Z\" fill=\"#000000\" fill-rule=\"evenodd\" fill-opacity=\"1\" /><path clip-path=\"url(#clip100)\" d=\"M29.4065 673.289 L34.9447 673.289 Q33.6716 675.772 33.035 678.445 Q32.3984 681.119 32.3984 683.983 Q32.3984 688.344 33.7352 690.54 Q35.072 692.704 37.7456 692.704 Q39.7826 692.704 40.9603 691.145 Q42.1061 689.585 43.1565 684.874 L43.6021 682.869 Q44.9389 676.631 47.3897 674.021 Q49.8086 671.379 54.1691 671.379 Q59.1344 671.379 62.0308 675.326 Q64.9272 679.241 64.9272 686.116 Q64.9272 688.98 64.3543 692.1 Q63.8132 695.187 62.6992 698.624 L56.6518 698.624 Q58.3387 695.378 59.198 692.227 Q60.0256 689.076 60.0256 685.988 Q60.0256 681.851 58.6251 679.623 Q57.1929 677.395 54.6147 677.395 Q52.2276 677.395 50.9545 679.018 Q49.6813 680.609 48.5037 686.052 L48.0262 688.089 Q46.8804 693.532 44.5251 695.951 Q42.138 698.37 38.0002 698.37 Q32.9713 698.37 30.2341 694.805 Q27.4968 691.24 27.4968 684.684 Q27.4968 681.437 27.9743 678.572 Q28.4517 675.708 29.4065 673.289 Z\" fill=\"#000000\" fill-rule=\"evenodd\" fill-opacity=\"1\" /><path clip-path=\"url(#clip100)\" d=\"M14.479 648.367 L72.5979 648.367 L72.5979 661.862 L68.0464 661.862 L68.0464 654.255 L19.0304 654.255 L19.0304 661.862 L14.479 661.862 L14.479 648.367 Z\" fill=\"#000000\" fill-rule=\"evenodd\" fill-opacity=\"1\" /><path clip-path=\"url(#clip100)\" d=\"M869.077 12.096 L881.27 12.096 L896.704 53.2532 L912.219 12.096 L924.412 12.096 L924.412 72.576 L916.432 72.576 L916.432 19.4686 L900.836 60.9499 L892.612 60.9499 L877.016 19.4686 L877.016 72.576 L869.077 72.576 L869.077 12.096 Z\" fill=\"#000000\" fill-rule=\"evenodd\" fill-opacity=\"1\" /><path clip-path=\"url(#clip100)\" d=\"M978.046 45.1919 L978.046 72.576 L970.592 72.576 L970.592 45.4349 Q970.592 38.994 968.081 35.7938 Q965.569 32.5936 960.546 32.5936 Q954.51 32.5936 951.026 36.4419 Q947.543 40.2903 947.543 46.9338 L947.543 72.576 L940.048 72.576 L940.048 27.2059 L947.543 27.2059 L947.543 34.2544 Q950.216 30.163 953.822 28.1376 Q957.467 26.1121 962.207 26.1121 Q970.025 26.1121 974.036 30.9732 Q978.046 35.7938 978.046 45.1919 Z\" fill=\"#000000\" fill-rule=\"evenodd\" fill-opacity=\"1\" /><path clip-path=\"url(#clip100)\" d=\"M1010.49 32.4315 Q1004.5 32.4315 1001.01 37.1306 Q997.531 41.7891 997.531 49.9314 Q997.531 58.0738 1000.97 62.7728 Q1004.46 67.4314 1010.49 67.4314 Q1016.45 67.4314 1019.93 62.7323 Q1023.42 58.0333 1023.42 49.9314 Q1023.42 41.8701 1019.93 37.1711 Q1016.45 32.4315 1010.49 32.4315 M1010.49 26.1121 Q1020.22 26.1121 1025.77 32.4315 Q1031.32 38.7509 1031.32 49.9314 Q1031.32 61.0714 1025.77 67.4314 Q1020.22 73.7508 1010.49 73.7508 Q1000.73 73.7508 995.181 67.4314 Q989.672 61.0714 989.672 49.9314 Q989.672 38.7509 995.181 32.4315 Q1000.73 26.1121 1010.49 26.1121 Z\" fill=\"#000000\" fill-rule=\"evenodd\" fill-opacity=\"1\" /><path clip-path=\"url(#clip100)\" d=\"M1053.72 9.54393 L1061.17 9.54393 L1061.17 18.9825 L1053.72 18.9825 L1053.72 9.54393 M1057.52 26.1121 L1057.52 26.1121 M1040.43 27.2059 L1075.83 27.2059 L1075.83 34.0114 L1047.8 66.6212 L1075.83 66.6212 L1075.83 72.576 L1039.42 72.576 L1039.42 65.7705 L1067.45 33.1607 L1040.43 33.1607 L1040.43 27.2059 Z\" fill=\"#000000\" fill-rule=\"evenodd\" fill-opacity=\"1\" /><path clip-path=\"url(#clip100)\" d=\"M1126.03 48.0275 L1126.03 51.6733 L1091.75 51.6733 Q1092.24 59.3701 1096.37 63.421 Q1100.55 67.4314 1107.96 67.4314 Q1112.25 67.4314 1116.26 66.3781 Q1120.31 65.3249 1124.28 63.2184 L1124.28 70.267 Q1120.27 71.9684 1116.06 72.8596 Q1111.85 73.7508 1107.51 73.7508 Q1096.66 73.7508 1090.3 67.4314 Q1083.98 61.1119 1083.98 50.3365 Q1083.98 39.1965 1089.97 32.6746 Q1096.01 26.1121 1106.22 26.1121 Q1115.37 26.1121 1120.68 32.0264 Q1126.03 37.9003 1126.03 48.0275 M1118.57 45.84 Q1118.49 39.7232 1115.13 36.0774 Q1111.81 32.4315 1106.3 32.4315 Q1100.06 32.4315 1096.29 35.9558 Q1092.57 39.4801 1092 45.8805 L1118.57 45.84 Z\" fill=\"#000000\" fill-rule=\"evenodd\" fill-opacity=\"1\" /><path clip-path=\"url(#clip100)\" d=\"M1175.97 45.1919 L1175.97 72.576 L1168.52 72.576 L1168.52 45.4349 Q1168.52 38.994 1166.01 35.7938 Q1163.5 32.5936 1158.47 32.5936 Q1152.44 32.5936 1148.95 36.4419 Q1145.47 40.2903 1145.47 46.9338 L1145.47 72.576 L1137.98 72.576 L1137.98 27.2059 L1145.47 27.2059 L1145.47 34.2544 Q1148.14 30.163 1151.75 28.1376 Q1155.39 26.1121 1160.13 26.1121 Q1167.95 26.1121 1171.96 30.9732 Q1175.97 35.7938 1175.97 45.1919 Z\" fill=\"#000000\" fill-rule=\"evenodd\" fill-opacity=\"1\" /><path clip-path=\"url(#clip100)\" d=\"M1190.84 27.2059 L1198.29 27.2059 L1198.29 72.576 L1190.84 72.576 L1190.84 27.2059 M1190.84 9.54393 L1198.29 9.54393 L1198.29 18.9825 L1190.84 18.9825 L1190.84 9.54393 Z\" fill=\"#000000\" fill-rule=\"evenodd\" fill-opacity=\"1\" /><path clip-path=\"url(#clip100)\" d=\"M1252.7 48.0275 L1252.7 51.6733 L1218.43 51.6733 Q1218.91 59.3701 1223.04 63.421 Q1227.22 67.4314 1234.63 67.4314 Q1238.92 67.4314 1242.93 66.3781 Q1246.99 65.3249 1250.96 63.2184 L1250.96 70.267 Q1246.94 71.9684 1242.73 72.8596 Q1238.52 73.7508 1234.18 73.7508 Q1223.33 73.7508 1216.97 67.4314 Q1210.65 61.1119 1210.65 50.3365 Q1210.65 39.1965 1216.64 32.6746 Q1222.68 26.1121 1232.89 26.1121 Q1242.04 26.1121 1247.35 32.0264 Q1252.7 37.9003 1252.7 48.0275 M1245.24 45.84 Q1245.16 39.7232 1241.8 36.0774 Q1238.48 32.4315 1232.97 32.4315 Q1226.73 32.4315 1222.96 35.9558 Q1219.24 39.4801 1218.67 45.8805 L1245.24 45.84 Z\" fill=\"#000000\" fill-rule=\"evenodd\" fill-opacity=\"1\" /><path clip-path=\"url(#clip100)\" d=\"M1326.63 35.9153 Q1329.42 30.8922 1333.31 28.5022 Q1337.2 26.1121 1342.47 26.1121 Q1349.55 26.1121 1353.4 31.0947 Q1357.25 36.0368 1357.25 45.1919 L1357.25 72.576 L1349.76 72.576 L1349.76 45.4349 Q1349.76 38.913 1347.45 35.7533 Q1345.14 32.5936 1340.4 32.5936 Q1334.61 32.5936 1331.24 36.4419 Q1327.88 40.2903 1327.88 46.9338 L1327.88 72.576 L1320.39 72.576 L1320.39 45.4349 Q1320.39 38.8725 1318.08 35.7533 Q1315.77 32.5936 1310.95 32.5936 Q1305.24 32.5936 1301.88 36.4824 Q1298.51 40.3308 1298.51 46.9338 L1298.51 72.576 L1291.02 72.576 L1291.02 27.2059 L1298.51 27.2059 L1298.51 34.2544 Q1301.07 30.082 1304.63 28.0971 Q1308.19 26.1121 1313.1 26.1121 Q1318.04 26.1121 1321.48 28.6237 Q1324.97 31.1352 1326.63 35.9153 Z\" fill=\"#000000\" fill-rule=\"evenodd\" fill-opacity=\"1\" /><path clip-path=\"url(#clip100)\" d=\"M1392.74 49.7694 Q1383.7 49.7694 1380.22 51.8354 Q1376.74 53.9013 1376.74 58.8839 Q1376.74 62.8538 1379.33 65.2034 Q1381.96 67.5124 1386.46 67.5124 Q1392.66 67.5124 1396.38 63.1374 Q1400.15 58.7219 1400.15 51.4303 L1400.15 49.7694 L1392.74 49.7694 M1407.6 46.6907 L1407.6 72.576 L1400.15 72.576 L1400.15 65.6895 Q1397.6 69.8214 1393.79 71.8063 Q1389.98 73.7508 1384.47 73.7508 Q1377.51 73.7508 1373.37 69.8619 Q1369.28 65.9325 1369.28 59.3701 Q1369.28 51.7138 1374.39 47.825 Q1379.53 43.9361 1389.7 43.9361 L1400.15 43.9361 L1400.15 43.2069 Q1400.15 38.0623 1396.75 35.2672 Q1393.39 32.4315 1387.27 32.4315 Q1383.38 32.4315 1379.69 33.3632 Q1376.01 34.295 1372.6 36.1584 L1372.6 29.2718 Q1376.7 27.692 1380.54 26.9223 Q1384.39 26.1121 1388.04 26.1121 Q1397.88 26.1121 1402.74 31.2163 Q1407.6 36.3204 1407.6 46.6907 Z\" fill=\"#000000\" fill-rule=\"evenodd\" fill-opacity=\"1\" /><path clip-path=\"url(#clip100)\" d=\"M1455.61 28.9478 L1455.61 35.9153 Q1452.45 34.1734 1449.25 33.3227 Q1446.09 32.4315 1442.85 32.4315 Q1435.6 32.4315 1431.59 37.0496 Q1427.57 41.6271 1427.57 49.9314 Q1427.57 58.2358 1431.59 62.8538 Q1435.6 67.4314 1442.85 67.4314 Q1446.09 67.4314 1449.25 66.5807 Q1452.45 65.6895 1455.61 63.9476 L1455.61 70.8341 Q1452.49 72.2924 1449.13 73.0216 Q1445.8 73.7508 1442.04 73.7508 Q1431.79 73.7508 1425.75 67.3098 Q1419.72 60.8689 1419.72 49.9314 Q1419.72 38.832 1425.79 32.472 Q1431.91 26.1121 1442.52 26.1121 Q1445.97 26.1121 1449.25 26.8413 Q1452.53 27.5299 1455.61 28.9478 Z\" fill=\"#000000\" fill-rule=\"evenodd\" fill-opacity=\"1\" /><path clip-path=\"url(#clip100)\" d=\"M1468.57 27.2059 L1476.02 27.2059 L1476.02 72.576 L1468.57 72.576 L1468.57 27.2059 M1468.57 9.54393 L1476.02 9.54393 L1476.02 18.9825 L1468.57 18.9825 L1468.57 9.54393 Z\" fill=\"#000000\" fill-rule=\"evenodd\" fill-opacity=\"1\" /><path clip-path=\"url(#clip100)\" d=\"M1530.43 48.0275 L1530.43 51.6733 L1496.16 51.6733 Q1496.64 59.3701 1500.77 63.421 Q1504.95 67.4314 1512.36 67.4314 Q1516.65 67.4314 1520.66 66.3781 Q1524.72 65.3249 1528.69 63.2184 L1528.69 70.267 Q1524.67 71.9684 1520.46 72.8596 Q1516.25 73.7508 1511.91 73.7508 Q1501.06 73.7508 1494.7 67.4314 Q1488.38 61.1119 1488.38 50.3365 Q1488.38 39.1965 1494.37 32.6746 Q1500.41 26.1121 1510.62 26.1121 Q1519.77 26.1121 1525.08 32.0264 Q1530.43 37.9003 1530.43 48.0275 M1522.97 45.84 Q1522.89 39.7232 1519.53 36.0774 Q1516.21 32.4315 1510.7 32.4315 Q1504.46 32.4315 1500.69 35.9558 Q1496.97 39.4801 1496.4 45.8805 L1522.97 45.84 Z\" fill=\"#000000\" fill-rule=\"evenodd\" fill-opacity=\"1\" /><path clip-path=\"url(#clip100)\" d=\"M1568.95 34.1734 Q1567.7 33.4443 1566.2 33.1202 Q1564.74 32.7556 1562.96 32.7556 Q1556.64 32.7556 1553.23 36.8875 Q1549.87 40.9789 1549.87 48.6757 L1549.87 72.576 L1542.38 72.576 L1542.38 27.2059 L1549.87 27.2059 L1549.87 34.2544 Q1552.22 30.1225 1555.99 28.1376 Q1559.76 26.1121 1565.14 26.1121 Q1565.91 26.1121 1566.84 26.2337 Q1567.78 26.3147 1568.91 26.5172 L1568.95 34.1734 Z\" fill=\"#000000\" fill-rule=\"evenodd\" fill-opacity=\"1\" /><path clip-path=\"url(#clip100)\" d=\"M1573.53 27.2059 L1608.93 27.2059 L1608.93 34.0114 L1580.9 66.6212 L1608.93 66.6212 L1608.93 72.576 L1572.52 72.576 L1572.52 65.7705 L1600.55 33.1607 L1573.53 33.1607 L1573.53 27.2059 Z\" fill=\"#000000\" fill-rule=\"evenodd\" fill-opacity=\"1\" /><path clip-path=\"url(#clip100)\" d=\"M1639.19 76.7889 Q1636.03 84.8907 1633.04 87.3618 Q1630.04 89.8329 1625.02 89.8329 L1619.06 89.8329 L1619.06 83.5945 L1623.44 83.5945 Q1626.51 83.5945 1628.22 82.1361 Q1629.92 80.6778 1631.98 75.2496 L1633.32 71.8468 L1614.97 27.2059 L1622.87 27.2059 L1637.05 62.6918 L1651.23 27.2059 L1659.12 27.2059 L1639.19 76.7889 Z\" fill=\"#000000\" fill-rule=\"evenodd\" fill-opacity=\"1\" /><circle clip-path=\"url(#clip102)\" cx=\"237.067\" cy=\"1386.4\" r=\"14.4\" fill=\"#009af9\" fill-rule=\"evenodd\" fill-opacity=\"1\" stroke=\"#000000\" stroke-opacity=\"1\" stroke-width=\"3.2\"/>\n",
       "<circle clip-path=\"url(#clip102)\" cx=\"271.882\" cy=\"1386.39\" r=\"14.4\" fill=\"#009af9\" fill-rule=\"evenodd\" fill-opacity=\"1\" stroke=\"#000000\" stroke-opacity=\"1\" stroke-width=\"3.2\"/>\n",
       "<circle clip-path=\"url(#clip102)\" cx=\"306.697\" cy=\"1386.35\" r=\"14.4\" fill=\"#009af9\" fill-rule=\"evenodd\" fill-opacity=\"1\" stroke=\"#000000\" stroke-opacity=\"1\" stroke-width=\"3.2\"/>\n",
       "<circle clip-path=\"url(#clip102)\" cx=\"341.511\" cy=\"1386.27\" r=\"14.4\" fill=\"#009af9\" fill-rule=\"evenodd\" fill-opacity=\"1\" stroke=\"#000000\" stroke-opacity=\"1\" stroke-width=\"3.2\"/>\n",
       "<circle clip-path=\"url(#clip102)\" cx=\"376.326\" cy=\"1386.12\" r=\"14.4\" fill=\"#009af9\" fill-rule=\"evenodd\" fill-opacity=\"1\" stroke=\"#000000\" stroke-opacity=\"1\" stroke-width=\"3.2\"/>\n",
       "<circle clip-path=\"url(#clip102)\" cx=\"411.141\" cy=\"1386.03\" r=\"14.4\" fill=\"#009af9\" fill-rule=\"evenodd\" fill-opacity=\"1\" stroke=\"#000000\" stroke-opacity=\"1\" stroke-width=\"3.2\"/>\n",
       "<circle clip-path=\"url(#clip102)\" cx=\"445.955\" cy=\"1385.78\" r=\"14.4\" fill=\"#009af9\" fill-rule=\"evenodd\" fill-opacity=\"1\" stroke=\"#000000\" stroke-opacity=\"1\" stroke-width=\"3.2\"/>\n",
       "<circle clip-path=\"url(#clip102)\" cx=\"480.77\" cy=\"1385.41\" r=\"14.4\" fill=\"#009af9\" fill-rule=\"evenodd\" fill-opacity=\"1\" stroke=\"#000000\" stroke-opacity=\"1\" stroke-width=\"3.2\"/>\n",
       "<circle clip-path=\"url(#clip102)\" cx=\"515.585\" cy=\"1384.9\" r=\"14.4\" fill=\"#009af9\" fill-rule=\"evenodd\" fill-opacity=\"1\" stroke=\"#000000\" stroke-opacity=\"1\" stroke-width=\"3.2\"/>\n",
       "<circle clip-path=\"url(#clip102)\" cx=\"550.399\" cy=\"1384.22\" r=\"14.4\" fill=\"#009af9\" fill-rule=\"evenodd\" fill-opacity=\"1\" stroke=\"#000000\" stroke-opacity=\"1\" stroke-width=\"3.2\"/>\n",
       "<circle clip-path=\"url(#clip102)\" cx=\"585.214\" cy=\"1383.15\" r=\"14.4\" fill=\"#009af9\" fill-rule=\"evenodd\" fill-opacity=\"1\" stroke=\"#000000\" stroke-opacity=\"1\" stroke-width=\"3.2\"/>\n",
       "<circle clip-path=\"url(#clip102)\" cx=\"620.029\" cy=\"1382.4\" r=\"14.4\" fill=\"#009af9\" fill-rule=\"evenodd\" fill-opacity=\"1\" stroke=\"#000000\" stroke-opacity=\"1\" stroke-width=\"3.2\"/>\n",
       "<circle clip-path=\"url(#clip102)\" cx=\"654.843\" cy=\"1380.72\" r=\"14.4\" fill=\"#009af9\" fill-rule=\"evenodd\" fill-opacity=\"1\" stroke=\"#000000\" stroke-opacity=\"1\" stroke-width=\"3.2\"/>\n",
       "<circle clip-path=\"url(#clip102)\" cx=\"689.658\" cy=\"1379.18\" r=\"14.4\" fill=\"#009af9\" fill-rule=\"evenodd\" fill-opacity=\"1\" stroke=\"#000000\" stroke-opacity=\"1\" stroke-width=\"3.2\"/>\n",
       "<circle clip-path=\"url(#clip102)\" cx=\"724.473\" cy=\"1374.22\" r=\"14.4\" fill=\"#009af9\" fill-rule=\"evenodd\" fill-opacity=\"1\" stroke=\"#000000\" stroke-opacity=\"1\" stroke-width=\"3.2\"/>\n",
       "<circle clip-path=\"url(#clip102)\" cx=\"759.288\" cy=\"1371.33\" r=\"14.4\" fill=\"#009af9\" fill-rule=\"evenodd\" fill-opacity=\"1\" stroke=\"#000000\" stroke-opacity=\"1\" stroke-width=\"3.2\"/>\n",
       "<circle clip-path=\"url(#clip102)\" cx=\"794.102\" cy=\"1372.57\" r=\"14.4\" fill=\"#009af9\" fill-rule=\"evenodd\" fill-opacity=\"1\" stroke=\"#000000\" stroke-opacity=\"1\" stroke-width=\"3.2\"/>\n",
       "<circle clip-path=\"url(#clip102)\" cx=\"828.917\" cy=\"1370.86\" r=\"14.4\" fill=\"#009af9\" fill-rule=\"evenodd\" fill-opacity=\"1\" stroke=\"#000000\" stroke-opacity=\"1\" stroke-width=\"3.2\"/>\n",
       "<circle clip-path=\"url(#clip102)\" cx=\"863.732\" cy=\"1366.82\" r=\"14.4\" fill=\"#009af9\" fill-rule=\"evenodd\" fill-opacity=\"1\" stroke=\"#000000\" stroke-opacity=\"1\" stroke-width=\"3.2\"/>\n",
       "<circle clip-path=\"url(#clip102)\" cx=\"898.546\" cy=\"1359.85\" r=\"14.4\" fill=\"#009af9\" fill-rule=\"evenodd\" fill-opacity=\"1\" stroke=\"#000000\" stroke-opacity=\"1\" stroke-width=\"3.2\"/>\n",
       "<circle clip-path=\"url(#clip102)\" cx=\"933.361\" cy=\"1351.7\" r=\"14.4\" fill=\"#009af9\" fill-rule=\"evenodd\" fill-opacity=\"1\" stroke=\"#000000\" stroke-opacity=\"1\" stroke-width=\"3.2\"/>\n",
       "<circle clip-path=\"url(#clip102)\" cx=\"968.176\" cy=\"1354.07\" r=\"14.4\" fill=\"#009af9\" fill-rule=\"evenodd\" fill-opacity=\"1\" stroke=\"#000000\" stroke-opacity=\"1\" stroke-width=\"3.2\"/>\n",
       "<circle clip-path=\"url(#clip102)\" cx=\"1002.99\" cy=\"1349.8\" r=\"14.4\" fill=\"#009af9\" fill-rule=\"evenodd\" fill-opacity=\"1\" stroke=\"#000000\" stroke-opacity=\"1\" stroke-width=\"3.2\"/>\n",
       "<circle clip-path=\"url(#clip102)\" cx=\"1037.81\" cy=\"1339.63\" r=\"14.4\" fill=\"#009af9\" fill-rule=\"evenodd\" fill-opacity=\"1\" stroke=\"#000000\" stroke-opacity=\"1\" stroke-width=\"3.2\"/>\n",
       "<circle clip-path=\"url(#clip102)\" cx=\"1072.62\" cy=\"1334.63\" r=\"14.4\" fill=\"#009af9\" fill-rule=\"evenodd\" fill-opacity=\"1\" stroke=\"#000000\" stroke-opacity=\"1\" stroke-width=\"3.2\"/>\n",
       "<circle clip-path=\"url(#clip102)\" cx=\"1107.43\" cy=\"1321.47\" r=\"14.4\" fill=\"#009af9\" fill-rule=\"evenodd\" fill-opacity=\"1\" stroke=\"#000000\" stroke-opacity=\"1\" stroke-width=\"3.2\"/>\n",
       "<circle clip-path=\"url(#clip102)\" cx=\"1142.25\" cy=\"1309.6\" r=\"14.4\" fill=\"#009af9\" fill-rule=\"evenodd\" fill-opacity=\"1\" stroke=\"#000000\" stroke-opacity=\"1\" stroke-width=\"3.2\"/>\n",
       "<circle clip-path=\"url(#clip102)\" cx=\"1177.06\" cy=\"1306.59\" r=\"14.4\" fill=\"#009af9\" fill-rule=\"evenodd\" fill-opacity=\"1\" stroke=\"#000000\" stroke-opacity=\"1\" stroke-width=\"3.2\"/>\n",
       "<circle clip-path=\"url(#clip102)\" cx=\"1211.88\" cy=\"1296\" r=\"14.4\" fill=\"#009af9\" fill-rule=\"evenodd\" fill-opacity=\"1\" stroke=\"#000000\" stroke-opacity=\"1\" stroke-width=\"3.2\"/>\n",
       "<circle clip-path=\"url(#clip102)\" cx=\"1246.69\" cy=\"1283.67\" r=\"14.4\" fill=\"#009af9\" fill-rule=\"evenodd\" fill-opacity=\"1\" stroke=\"#000000\" stroke-opacity=\"1\" stroke-width=\"3.2\"/>\n",
       "<circle clip-path=\"url(#clip102)\" cx=\"1281.51\" cy=\"1266.63\" r=\"14.4\" fill=\"#009af9\" fill-rule=\"evenodd\" fill-opacity=\"1\" stroke=\"#000000\" stroke-opacity=\"1\" stroke-width=\"3.2\"/>\n",
       "<circle clip-path=\"url(#clip102)\" cx=\"1316.32\" cy=\"1265.66\" r=\"14.4\" fill=\"#009af9\" fill-rule=\"evenodd\" fill-opacity=\"1\" stroke=\"#000000\" stroke-opacity=\"1\" stroke-width=\"3.2\"/>\n",
       "<circle clip-path=\"url(#clip102)\" cx=\"1351.14\" cy=\"1243.99\" r=\"14.4\" fill=\"#009af9\" fill-rule=\"evenodd\" fill-opacity=\"1\" stroke=\"#000000\" stroke-opacity=\"1\" stroke-width=\"3.2\"/>\n",
       "<circle clip-path=\"url(#clip102)\" cx=\"1385.95\" cy=\"1224.08\" r=\"14.4\" fill=\"#009af9\" fill-rule=\"evenodd\" fill-opacity=\"1\" stroke=\"#000000\" stroke-opacity=\"1\" stroke-width=\"3.2\"/>\n",
       "<circle clip-path=\"url(#clip102)\" cx=\"1420.77\" cy=\"1196.21\" r=\"14.4\" fill=\"#009af9\" fill-rule=\"evenodd\" fill-opacity=\"1\" stroke=\"#000000\" stroke-opacity=\"1\" stroke-width=\"3.2\"/>\n",
       "<circle clip-path=\"url(#clip102)\" cx=\"1455.58\" cy=\"1178.45\" r=\"14.4\" fill=\"#009af9\" fill-rule=\"evenodd\" fill-opacity=\"1\" stroke=\"#000000\" stroke-opacity=\"1\" stroke-width=\"3.2\"/>\n",
       "<circle clip-path=\"url(#clip102)\" cx=\"1490.4\" cy=\"1180.42\" r=\"14.4\" fill=\"#009af9\" fill-rule=\"evenodd\" fill-opacity=\"1\" stroke=\"#000000\" stroke-opacity=\"1\" stroke-width=\"3.2\"/>\n",
       "<circle clip-path=\"url(#clip102)\" cx=\"1525.21\" cy=\"1156.37\" r=\"14.4\" fill=\"#009af9\" fill-rule=\"evenodd\" fill-opacity=\"1\" stroke=\"#000000\" stroke-opacity=\"1\" stroke-width=\"3.2\"/>\n",
       "<circle clip-path=\"url(#clip102)\" cx=\"1560.03\" cy=\"1138.32\" r=\"14.4\" fill=\"#009af9\" fill-rule=\"evenodd\" fill-opacity=\"1\" stroke=\"#000000\" stroke-opacity=\"1\" stroke-width=\"3.2\"/>\n",
       "<circle clip-path=\"url(#clip102)\" cx=\"1594.84\" cy=\"1117.35\" r=\"14.4\" fill=\"#009af9\" fill-rule=\"evenodd\" fill-opacity=\"1\" stroke=\"#000000\" stroke-opacity=\"1\" stroke-width=\"3.2\"/>\n",
       "<circle clip-path=\"url(#clip102)\" cx=\"1629.65\" cy=\"1073.72\" r=\"14.4\" fill=\"#009af9\" fill-rule=\"evenodd\" fill-opacity=\"1\" stroke=\"#000000\" stroke-opacity=\"1\" stroke-width=\"3.2\"/>\n",
       "<circle clip-path=\"url(#clip102)\" cx=\"1664.47\" cy=\"1046.38\" r=\"14.4\" fill=\"#009af9\" fill-rule=\"evenodd\" fill-opacity=\"1\" stroke=\"#000000\" stroke-opacity=\"1\" stroke-width=\"3.2\"/>\n",
       "<circle clip-path=\"url(#clip102)\" cx=\"1699.28\" cy=\"1010.07\" r=\"14.4\" fill=\"#009af9\" fill-rule=\"evenodd\" fill-opacity=\"1\" stroke=\"#000000\" stroke-opacity=\"1\" stroke-width=\"3.2\"/>\n",
       "<circle clip-path=\"url(#clip102)\" cx=\"1734.1\" cy=\"986.632\" r=\"14.4\" fill=\"#009af9\" fill-rule=\"evenodd\" fill-opacity=\"1\" stroke=\"#000000\" stroke-opacity=\"1\" stroke-width=\"3.2\"/>\n",
       "<circle clip-path=\"url(#clip102)\" cx=\"1768.91\" cy=\"948.9\" r=\"14.4\" fill=\"#009af9\" fill-rule=\"evenodd\" fill-opacity=\"1\" stroke=\"#000000\" stroke-opacity=\"1\" stroke-width=\"3.2\"/>\n",
       "<circle clip-path=\"url(#clip102)\" cx=\"1803.73\" cy=\"901.052\" r=\"14.4\" fill=\"#009af9\" fill-rule=\"evenodd\" fill-opacity=\"1\" stroke=\"#000000\" stroke-opacity=\"1\" stroke-width=\"3.2\"/>\n",
       "<circle clip-path=\"url(#clip102)\" cx=\"1838.54\" cy=\"897.283\" r=\"14.4\" fill=\"#009af9\" fill-rule=\"evenodd\" fill-opacity=\"1\" stroke=\"#000000\" stroke-opacity=\"1\" stroke-width=\"3.2\"/>\n",
       "<circle clip-path=\"url(#clip102)\" cx=\"1873.36\" cy=\"819.126\" r=\"14.4\" fill=\"#009af9\" fill-rule=\"evenodd\" fill-opacity=\"1\" stroke=\"#000000\" stroke-opacity=\"1\" stroke-width=\"3.2\"/>\n",
       "<circle clip-path=\"url(#clip102)\" cx=\"1908.17\" cy=\"756.152\" r=\"14.4\" fill=\"#009af9\" fill-rule=\"evenodd\" fill-opacity=\"1\" stroke=\"#000000\" stroke-opacity=\"1\" stroke-width=\"3.2\"/>\n",
       "<circle clip-path=\"url(#clip102)\" cx=\"1942.99\" cy=\"752.414\" r=\"14.4\" fill=\"#009af9\" fill-rule=\"evenodd\" fill-opacity=\"1\" stroke=\"#000000\" stroke-opacity=\"1\" stroke-width=\"3.2\"/>\n",
       "<circle clip-path=\"url(#clip102)\" cx=\"1977.8\" cy=\"685.636\" r=\"14.4\" fill=\"#009af9\" fill-rule=\"evenodd\" fill-opacity=\"1\" stroke=\"#000000\" stroke-opacity=\"1\" stroke-width=\"3.2\"/>\n",
       "<circle clip-path=\"url(#clip102)\" cx=\"2012.62\" cy=\"317.067\" r=\"14.4\" fill=\"#009af9\" fill-rule=\"evenodd\" fill-opacity=\"1\" stroke=\"#000000\" stroke-opacity=\"1\" stroke-width=\"3.2\"/>\n",
       "<circle clip-path=\"url(#clip102)\" cx=\"2047.43\" cy=\"603.714\" r=\"14.4\" fill=\"#009af9\" fill-rule=\"evenodd\" fill-opacity=\"1\" stroke=\"#000000\" stroke-opacity=\"1\" stroke-width=\"3.2\"/>\n",
       "<circle clip-path=\"url(#clip102)\" cx=\"2082.25\" cy=\"551.345\" r=\"14.4\" fill=\"#009af9\" fill-rule=\"evenodd\" fill-opacity=\"1\" stroke=\"#000000\" stroke-opacity=\"1\" stroke-width=\"3.2\"/>\n",
       "<circle clip-path=\"url(#clip102)\" cx=\"2117.06\" cy=\"498.882\" r=\"14.4\" fill=\"#009af9\" fill-rule=\"evenodd\" fill-opacity=\"1\" stroke=\"#000000\" stroke-opacity=\"1\" stroke-width=\"3.2\"/>\n",
       "<circle clip-path=\"url(#clip102)\" cx=\"2151.88\" cy=\"464.871\" r=\"14.4\" fill=\"#009af9\" fill-rule=\"evenodd\" fill-opacity=\"1\" stroke=\"#000000\" stroke-opacity=\"1\" stroke-width=\"3.2\"/>\n",
       "<circle clip-path=\"url(#clip102)\" cx=\"2186.69\" cy=\"413.239\" r=\"14.4\" fill=\"#009af9\" fill-rule=\"evenodd\" fill-opacity=\"1\" stroke=\"#000000\" stroke-opacity=\"1\" stroke-width=\"3.2\"/>\n",
       "<circle clip-path=\"url(#clip102)\" cx=\"2221.5\" cy=\"310.802\" r=\"14.4\" fill=\"#009af9\" fill-rule=\"evenodd\" fill-opacity=\"1\" stroke=\"#000000\" stroke-opacity=\"1\" stroke-width=\"3.2\"/>\n",
       "<circle clip-path=\"url(#clip102)\" cx=\"2256.32\" cy=\"266.993\" r=\"14.4\" fill=\"#009af9\" fill-rule=\"evenodd\" fill-opacity=\"1\" stroke=\"#000000\" stroke-opacity=\"1\" stroke-width=\"3.2\"/>\n",
       "<circle clip-path=\"url(#clip102)\" cx=\"2291.13\" cy=\"160.256\" r=\"14.4\" fill=\"#009af9\" fill-rule=\"evenodd\" fill-opacity=\"1\" stroke=\"#000000\" stroke-opacity=\"1\" stroke-width=\"3.2\"/>\n",
       "<path clip-path=\"url(#clip100)\" d=\"M248.022 270.476 L518.184 270.476 L518.184 166.796 L248.022 166.796  Z\" fill=\"#ffffff\" fill-rule=\"evenodd\" fill-opacity=\"1\"/>\n",
       "<polyline clip-path=\"url(#clip100)\" style=\"stroke:#000000; stroke-linecap:round; stroke-linejoin:round; stroke-width:4; stroke-opacity:1; fill:none\" points=\"248.022,270.476 518.184,270.476 518.184,166.796 248.022,166.796 248.022,270.476 \"/>\n",
       "<circle clip-path=\"url(#clip100)\" cx=\"344.792\" cy=\"218.636\" r=\"23.04\" fill=\"#009af9\" fill-rule=\"evenodd\" fill-opacity=\"1\" stroke=\"#000000\" stroke-opacity=\"1\" stroke-width=\"5.12\"/>\n",
       "<path clip-path=\"url(#clip100)\" d=\"M455.403 238.323 Q453.598 242.953 451.885 244.365 Q450.172 245.777 447.302 245.777 L443.899 245.777 L443.899 242.212 L446.399 242.212 Q448.158 242.212 449.13 241.379 Q450.103 240.545 451.283 237.443 L452.047 235.499 L441.561 209.99 L446.075 209.99 L454.177 230.268 L462.278 209.99 L466.792 209.99 L455.403 238.323 Z\" fill=\"#000000\" fill-rule=\"evenodd\" fill-opacity=\"1\" /><path clip-path=\"url(#clip100)\" d=\"M474.084 231.981 L481.723 231.981 L481.723 205.615 L473.413 207.282 L473.413 203.022 L481.676 201.356 L486.352 201.356 L486.352 231.981 L493.991 231.981 L493.991 235.916 L474.084 235.916 L474.084 231.981 Z\" fill=\"#000000\" fill-rule=\"evenodd\" fill-opacity=\"1\" /></svg>\n"
      ],
      "text/html": [
       "<?xml version=\"1.0\" encoding=\"utf-8\"?>\n",
       "<svg xmlns=\"http://www.w3.org/2000/svg\" xmlns:xlink=\"http://www.w3.org/1999/xlink\" width=\"600\" height=\"400\" viewBox=\"0 0 2400 1600\">\n",
       "<defs>\n",
       "  <clipPath id=\"clip150\">\n",
       "    <rect x=\"0\" y=\"0\" width=\"2400\" height=\"1600\"/>\n",
       "  </clipPath>\n",
       "</defs>\n",
       "<path clip-path=\"url(#clip150)\" d=\"M0 1600 L2400 1600 L2400 0 L0 0  Z\" fill=\"#ffffff\" fill-rule=\"evenodd\" fill-opacity=\"1\"/>\n",
       "<defs>\n",
       "  <clipPath id=\"clip151\">\n",
       "    <rect x=\"480\" y=\"0\" width=\"1681\" height=\"1600\"/>\n",
       "  </clipPath>\n",
       "</defs>\n",
       "<path clip-path=\"url(#clip150)\" d=\"M175.445 1423.18 L2352.76 1423.18 L2352.76 123.472 L175.445 123.472  Z\" fill=\"#ffffff\" fill-rule=\"evenodd\" fill-opacity=\"1\"/>\n",
       "<defs>\n",
       "  <clipPath id=\"clip152\">\n",
       "    <rect x=\"175\" y=\"123\" width=\"2178\" height=\"1301\"/>\n",
       "  </clipPath>\n",
       "</defs>\n",
       "<polyline clip-path=\"url(#clip152)\" style=\"stroke:#000000; stroke-linecap:round; stroke-linejoin:round; stroke-width:2; stroke-opacity:0.1; fill:none\" points=\"230.104,1423.18 230.104,123.472 \"/>\n",
       "<polyline clip-path=\"url(#clip152)\" style=\"stroke:#000000; stroke-linecap:round; stroke-linejoin:round; stroke-width:2; stroke-opacity:0.1; fill:none\" points=\"926.398,1423.18 926.398,123.472 \"/>\n",
       "<polyline clip-path=\"url(#clip152)\" style=\"stroke:#000000; stroke-linecap:round; stroke-linejoin:round; stroke-width:2; stroke-opacity:0.1; fill:none\" points=\"1622.69,1423.18 1622.69,123.472 \"/>\n",
       "<polyline clip-path=\"url(#clip152)\" style=\"stroke:#000000; stroke-linecap:round; stroke-linejoin:round; stroke-width:2; stroke-opacity:0.1; fill:none\" points=\"2318.99,1423.18 2318.99,123.472 \"/>\n",
       "<polyline clip-path=\"url(#clip150)\" style=\"stroke:#000000; stroke-linecap:round; stroke-linejoin:round; stroke-width:4; stroke-opacity:1; fill:none\" points=\"175.445,1423.18 2352.76,1423.18 \"/>\n",
       "<polyline clip-path=\"url(#clip150)\" style=\"stroke:#000000; stroke-linecap:round; stroke-linejoin:round; stroke-width:4; stroke-opacity:1; fill:none\" points=\"230.104,1423.18 230.104,1404.28 \"/>\n",
       "<polyline clip-path=\"url(#clip150)\" style=\"stroke:#000000; stroke-linecap:round; stroke-linejoin:round; stroke-width:4; stroke-opacity:1; fill:none\" points=\"926.398,1423.18 926.398,1404.28 \"/>\n",
       "<polyline clip-path=\"url(#clip150)\" style=\"stroke:#000000; stroke-linecap:round; stroke-linejoin:round; stroke-width:4; stroke-opacity:1; fill:none\" points=\"1622.69,1423.18 1622.69,1404.28 \"/>\n",
       "<polyline clip-path=\"url(#clip150)\" style=\"stroke:#000000; stroke-linecap:round; stroke-linejoin:round; stroke-width:4; stroke-opacity:1; fill:none\" points=\"2318.99,1423.18 2318.99,1404.28 \"/>\n",
       "<path clip-path=\"url(#clip150)\" d=\"M230.104 1454.1 Q226.493 1454.1 224.664 1457.66 Q222.859 1461.2 222.859 1468.33 Q222.859 1475.44 224.664 1479.01 Q226.493 1482.55 230.104 1482.55 Q233.739 1482.55 235.544 1479.01 Q237.373 1475.44 237.373 1468.33 Q237.373 1461.2 235.544 1457.66 Q233.739 1454.1 230.104 1454.1 M230.104 1450.39 Q235.914 1450.39 238.97 1455 Q242.049 1459.58 242.049 1468.33 Q242.049 1477.06 238.97 1481.67 Q235.914 1486.25 230.104 1486.25 Q224.294 1486.25 221.215 1481.67 Q218.16 1477.06 218.16 1468.33 Q218.16 1459.58 221.215 1455 Q224.294 1450.39 230.104 1450.39 Z\" fill=\"#000000\" fill-rule=\"evenodd\" fill-opacity=\"1\" /><path clip-path=\"url(#clip150)\" d=\"M886.005 1481.64 L893.644 1481.64 L893.644 1455.28 L885.333 1456.95 L885.333 1452.69 L893.597 1451.02 L898.273 1451.02 L898.273 1481.64 L905.912 1481.64 L905.912 1485.58 L886.005 1485.58 L886.005 1481.64 Z\" fill=\"#000000\" fill-rule=\"evenodd\" fill-opacity=\"1\" /><path clip-path=\"url(#clip150)\" d=\"M925.356 1454.1 Q921.745 1454.1 919.917 1457.66 Q918.111 1461.2 918.111 1468.33 Q918.111 1475.44 919.917 1479.01 Q921.745 1482.55 925.356 1482.55 Q928.991 1482.55 930.796 1479.01 Q932.625 1475.44 932.625 1468.33 Q932.625 1461.2 930.796 1457.66 Q928.991 1454.1 925.356 1454.1 M925.356 1450.39 Q931.167 1450.39 934.222 1455 Q937.301 1459.58 937.301 1468.33 Q937.301 1477.06 934.222 1481.67 Q931.167 1486.25 925.356 1486.25 Q919.546 1486.25 916.468 1481.67 Q913.412 1477.06 913.412 1468.33 Q913.412 1459.58 916.468 1455 Q919.546 1450.39 925.356 1450.39 Z\" fill=\"#000000\" fill-rule=\"evenodd\" fill-opacity=\"1\" /><path clip-path=\"url(#clip150)\" d=\"M955.518 1454.1 Q951.907 1454.1 950.078 1457.66 Q948.273 1461.2 948.273 1468.33 Q948.273 1475.44 950.078 1479.01 Q951.907 1482.55 955.518 1482.55 Q959.153 1482.55 960.958 1479.01 Q962.787 1475.44 962.787 1468.33 Q962.787 1461.2 960.958 1457.66 Q959.153 1454.1 955.518 1454.1 M955.518 1450.39 Q961.328 1450.39 964.384 1455 Q967.463 1459.58 967.463 1468.33 Q967.463 1477.06 964.384 1481.67 Q961.328 1486.25 955.518 1486.25 Q949.708 1486.25 946.629 1481.67 Q943.574 1477.06 943.574 1468.33 Q943.574 1459.58 946.629 1455 Q949.708 1450.39 955.518 1450.39 Z\" fill=\"#000000\" fill-rule=\"evenodd\" fill-opacity=\"1\" /><path clip-path=\"url(#clip150)\" d=\"M1586.38 1481.64 L1602.7 1481.64 L1602.7 1485.58 L1580.76 1485.58 L1580.76 1481.64 Q1583.42 1478.89 1588 1474.26 Q1592.61 1469.61 1593.79 1468.27 Q1596.04 1465.74 1596.92 1464.01 Q1597.82 1462.25 1597.82 1460.56 Q1597.82 1457.8 1595.87 1456.07 Q1593.95 1454.33 1590.85 1454.33 Q1588.65 1454.33 1586.2 1455.09 Q1583.77 1455.86 1580.99 1457.41 L1580.99 1452.69 Q1583.81 1451.55 1586.27 1450.97 Q1588.72 1450.39 1590.76 1450.39 Q1596.13 1450.39 1599.32 1453.08 Q1602.52 1455.77 1602.52 1460.26 Q1602.52 1462.39 1601.71 1464.31 Q1600.92 1466.2 1598.81 1468.8 Q1598.24 1469.47 1595.13 1472.69 Q1592.03 1475.88 1586.38 1481.64 Z\" fill=\"#000000\" fill-rule=\"evenodd\" fill-opacity=\"1\" /><path clip-path=\"url(#clip150)\" d=\"M1622.52 1454.1 Q1618.91 1454.1 1617.08 1457.66 Q1615.27 1461.2 1615.27 1468.33 Q1615.27 1475.44 1617.08 1479.01 Q1618.91 1482.55 1622.52 1482.55 Q1626.15 1482.55 1627.96 1479.01 Q1629.79 1475.44 1629.79 1468.33 Q1629.79 1461.2 1627.96 1457.66 Q1626.15 1454.1 1622.52 1454.1 M1622.52 1450.39 Q1628.33 1450.39 1631.38 1455 Q1634.46 1459.58 1634.46 1468.33 Q1634.46 1477.06 1631.38 1481.67 Q1628.33 1486.25 1622.52 1486.25 Q1616.71 1486.25 1613.63 1481.67 Q1610.57 1477.06 1610.57 1468.33 Q1610.57 1459.58 1613.63 1455 Q1616.71 1450.39 1622.52 1450.39 Z\" fill=\"#000000\" fill-rule=\"evenodd\" fill-opacity=\"1\" /><path clip-path=\"url(#clip150)\" d=\"M1652.68 1454.1 Q1649.07 1454.1 1647.24 1457.66 Q1645.43 1461.2 1645.43 1468.33 Q1645.43 1475.44 1647.24 1479.01 Q1649.07 1482.55 1652.68 1482.55 Q1656.31 1482.55 1658.12 1479.01 Q1659.95 1475.44 1659.95 1468.33 Q1659.95 1461.2 1658.12 1457.66 Q1656.31 1454.1 1652.68 1454.1 M1652.68 1450.39 Q1658.49 1450.39 1661.55 1455 Q1664.62 1459.58 1664.62 1468.33 Q1664.62 1477.06 1661.55 1481.67 Q1658.49 1486.25 1652.68 1486.25 Q1646.87 1486.25 1643.79 1481.67 Q1640.74 1477.06 1640.74 1468.33 Q1640.74 1459.58 1643.79 1455 Q1646.87 1450.39 1652.68 1450.39 Z\" fill=\"#000000\" fill-rule=\"evenodd\" fill-opacity=\"1\" /><path clip-path=\"url(#clip150)\" d=\"M2292.75 1466.95 Q2296.1 1467.66 2297.98 1469.93 Q2299.88 1472.2 2299.88 1475.53 Q2299.88 1480.65 2296.36 1483.45 Q2292.84 1486.25 2286.36 1486.25 Q2284.18 1486.25 2281.87 1485.81 Q2279.58 1485.39 2277.12 1484.54 L2277.12 1480.02 Q2279.07 1481.16 2281.38 1481.74 Q2283.7 1482.32 2286.22 1482.32 Q2290.62 1482.32 2292.91 1480.58 Q2295.22 1478.84 2295.22 1475.53 Q2295.22 1472.48 2293.07 1470.77 Q2290.94 1469.03 2287.12 1469.03 L2283.09 1469.03 L2283.09 1465.19 L2287.31 1465.19 Q2290.76 1465.19 2292.59 1463.82 Q2294.41 1462.43 2294.41 1459.84 Q2294.41 1457.18 2292.52 1455.77 Q2290.64 1454.33 2287.12 1454.33 Q2285.2 1454.33 2283 1454.75 Q2280.8 1455.16 2278.16 1456.04 L2278.16 1451.88 Q2280.83 1451.14 2283.14 1450.77 Q2285.48 1450.39 2287.54 1450.39 Q2292.86 1450.39 2295.96 1452.83 Q2299.07 1455.23 2299.07 1459.35 Q2299.07 1462.22 2297.42 1464.21 Q2295.78 1466.18 2292.75 1466.95 Z\" fill=\"#000000\" fill-rule=\"evenodd\" fill-opacity=\"1\" /><path clip-path=\"url(#clip150)\" d=\"M2318.74 1454.1 Q2315.13 1454.1 2313.3 1457.66 Q2311.5 1461.2 2311.5 1468.33 Q2311.5 1475.44 2313.3 1479.01 Q2315.13 1482.55 2318.74 1482.55 Q2322.38 1482.55 2324.18 1479.01 Q2326.01 1475.44 2326.01 1468.33 Q2326.01 1461.2 2324.18 1457.66 Q2322.38 1454.1 2318.74 1454.1 M2318.74 1450.39 Q2324.55 1450.39 2327.61 1455 Q2330.69 1459.58 2330.69 1468.33 Q2330.69 1477.06 2327.61 1481.67 Q2324.55 1486.25 2318.74 1486.25 Q2312.93 1486.25 2309.85 1481.67 Q2306.8 1477.06 2306.8 1468.33 Q2306.8 1459.58 2309.85 1455 Q2312.93 1450.39 2318.74 1450.39 Z\" fill=\"#000000\" fill-rule=\"evenodd\" fill-opacity=\"1\" /><path clip-path=\"url(#clip150)\" d=\"M2348.9 1454.1 Q2345.29 1454.1 2343.46 1457.66 Q2341.66 1461.2 2341.66 1468.33 Q2341.66 1475.44 2343.46 1479.01 Q2345.29 1482.55 2348.9 1482.55 Q2352.54 1482.55 2354.34 1479.01 Q2356.17 1475.44 2356.17 1468.33 Q2356.17 1461.2 2354.34 1457.66 Q2352.54 1454.1 2348.9 1454.1 M2348.9 1450.39 Q2354.71 1450.39 2357.77 1455 Q2360.85 1459.58 2360.85 1468.33 Q2360.85 1477.06 2357.77 1481.67 Q2354.71 1486.25 2348.9 1486.25 Q2343.09 1486.25 2340.02 1481.67 Q2336.96 1477.06 2336.96 1468.33 Q2336.96 1459.58 2340.02 1455 Q2343.09 1450.39 2348.9 1450.39 Z\" fill=\"#000000\" fill-rule=\"evenodd\" fill-opacity=\"1\" /><path clip-path=\"url(#clip150)\" d=\"M999.494 1545.76 Q1001.56 1546.46 1003.5 1548.76 Q1005.48 1551.05 1007.45 1555.06 L1013.98 1568.04 L1007.07 1568.04 L1000.99 1555.85 Q998.635 1551.08 996.407 1549.52 Q994.211 1547.96 990.391 1547.96 L983.389 1547.96 L983.389 1568.04 L976.959 1568.04 L976.959 1520.52 L991.473 1520.52 Q999.621 1520.52 1003.63 1523.93 Q1007.64 1527.34 1007.64 1534.21 Q1007.64 1538.7 1005.54 1541.66 Q1003.47 1544.62 999.494 1545.76 M983.389 1525.81 L983.389 1542.68 L991.473 1542.68 Q996.12 1542.68 998.476 1540.54 Q1000.86 1538.38 1000.86 1534.21 Q1000.86 1530.04 998.476 1527.94 Q996.12 1525.81 991.473 1525.81 L983.389 1525.81 Z\" fill=\"#000000\" fill-rule=\"evenodd\" fill-opacity=\"1\" /><path clip-path=\"url(#clip150)\" d=\"M1032.88 1536.5 Q1028.17 1536.5 1025.43 1540.19 Q1022.7 1543.85 1022.7 1550.25 Q1022.7 1556.65 1025.4 1560.34 Q1028.14 1564 1032.88 1564 Q1037.56 1564 1040.3 1560.31 Q1043.04 1556.62 1043.04 1550.25 Q1043.04 1543.92 1040.3 1540.23 Q1037.56 1536.5 1032.88 1536.5 M1032.88 1531.54 Q1040.52 1531.54 1044.88 1536.5 Q1049.24 1541.47 1049.24 1550.25 Q1049.24 1559 1044.88 1564 Q1040.52 1568.97 1032.88 1568.97 Q1025.21 1568.97 1020.85 1564 Q1016.52 1559 1016.52 1550.25 Q1016.52 1541.47 1020.85 1536.5 Q1025.21 1531.54 1032.88 1531.54 Z\" fill=\"#000000\" fill-rule=\"evenodd\" fill-opacity=\"1\" /><path clip-path=\"url(#clip150)\" d=\"M1056.4 1532.4 L1084.22 1532.4 L1084.22 1537.74 L1062.2 1563.37 L1084.22 1563.37 L1084.22 1568.04 L1055.61 1568.04 L1055.61 1562.7 L1077.63 1537.07 L1056.4 1537.07 L1056.4 1532.4 Z\" fill=\"#000000\" fill-rule=\"evenodd\" fill-opacity=\"1\" /><path clip-path=\"url(#clip150)\" d=\"M1120.92 1539.24 Q1123.12 1535.29 1126.17 1533.41 Q1129.23 1531.54 1133.36 1531.54 Q1138.93 1531.54 1141.96 1535.45 Q1144.98 1539.33 1144.98 1546.53 L1144.98 1568.04 L1139.09 1568.04 L1139.09 1546.72 Q1139.09 1541.59 1137.28 1539.11 Q1135.47 1536.63 1131.74 1536.63 Q1127.19 1536.63 1124.55 1539.65 Q1121.91 1542.68 1121.91 1547.9 L1121.91 1568.04 L1116.02 1568.04 L1116.02 1546.72 Q1116.02 1541.56 1114.2 1539.11 Q1112.39 1536.63 1108.6 1536.63 Q1104.11 1536.63 1101.47 1539.68 Q1098.83 1542.71 1098.83 1547.9 L1098.83 1568.04 L1092.94 1568.04 L1092.94 1532.4 L1098.83 1532.4 L1098.83 1537.93 Q1100.84 1534.66 1103.64 1533.1 Q1106.44 1531.54 1110.29 1531.54 Q1114.17 1531.54 1116.88 1533.51 Q1119.61 1535.48 1120.92 1539.24 Z\" fill=\"#000000\" fill-rule=\"evenodd\" fill-opacity=\"1\" /><path clip-path=\"url(#clip150)\" d=\"M1156.66 1532.4 L1162.52 1532.4 L1162.52 1568.04 L1156.66 1568.04 L1156.66 1532.4 M1156.66 1518.52 L1162.52 1518.52 L1162.52 1525.93 L1156.66 1525.93 L1156.66 1518.52 Z\" fill=\"#000000\" fill-rule=\"evenodd\" fill-opacity=\"1\" /><path clip-path=\"url(#clip150)\" d=\"M1190.97 1550.12 Q1183.88 1550.12 1181.14 1551.75 Q1178.4 1553.37 1178.4 1557.29 Q1178.4 1560.4 1180.44 1562.25 Q1182.51 1564.07 1186.04 1564.07 Q1190.91 1564.07 1193.84 1560.63 Q1196.8 1557.16 1196.8 1551.43 L1196.8 1550.12 L1190.97 1550.12 M1202.66 1547.71 L1202.66 1568.04 L1196.8 1568.04 L1196.8 1562.63 Q1194.79 1565.88 1191.8 1567.44 Q1188.81 1568.97 1184.48 1568.97 Q1179.01 1568.97 1175.76 1565.91 Q1172.55 1562.82 1172.55 1557.67 Q1172.55 1551.65 1176.56 1548.6 Q1180.6 1545.54 1188.59 1545.54 L1196.8 1545.54 L1196.8 1544.97 Q1196.8 1540.93 1194.13 1538.73 Q1191.48 1536.5 1186.68 1536.5 Q1183.62 1536.5 1180.73 1537.23 Q1177.83 1537.97 1175.16 1539.43 L1175.16 1534.02 Q1178.37 1532.78 1181.39 1532.17 Q1184.42 1531.54 1187.28 1531.54 Q1195.02 1531.54 1198.84 1535.55 Q1202.66 1539.56 1202.66 1547.71 Z\" fill=\"#000000\" fill-rule=\"evenodd\" fill-opacity=\"1\" /><path clip-path=\"url(#clip150)\" d=\"M1235.38 1537.87 Q1234.39 1537.3 1233.21 1537.04 Q1232.07 1536.76 1230.66 1536.76 Q1225.7 1536.76 1223.03 1540 Q1220.38 1543.22 1220.38 1549.27 L1220.38 1568.04 L1214.5 1568.04 L1214.5 1532.4 L1220.38 1532.4 L1220.38 1537.93 Q1222.23 1534.69 1225.19 1533.13 Q1228.15 1531.54 1232.38 1531.54 Q1232.99 1531.54 1233.72 1531.63 Q1234.45 1531.7 1235.34 1531.85 L1235.38 1537.87 Z\" fill=\"#000000\" fill-rule=\"evenodd\" fill-opacity=\"1\" /><path clip-path=\"url(#clip150)\" d=\"M1289.99 1539.24 Q1292.19 1535.29 1295.24 1533.41 Q1298.3 1531.54 1302.44 1531.54 Q1308.01 1531.54 1311.03 1535.45 Q1314.06 1539.33 1314.06 1546.53 L1314.06 1568.04 L1308.17 1568.04 L1308.17 1546.72 Q1308.17 1541.59 1306.35 1539.11 Q1304.54 1536.63 1300.81 1536.63 Q1296.26 1536.63 1293.62 1539.65 Q1290.98 1542.68 1290.98 1547.9 L1290.98 1568.04 L1285.09 1568.04 L1285.09 1546.72 Q1285.09 1541.56 1283.28 1539.11 Q1281.46 1536.63 1277.68 1536.63 Q1273.19 1536.63 1270.55 1539.68 Q1267.9 1542.71 1267.9 1547.9 L1267.9 1568.04 L1262.02 1568.04 L1262.02 1532.4 L1267.9 1532.4 L1267.9 1537.93 Q1269.91 1534.66 1272.71 1533.1 Q1275.51 1531.54 1279.36 1531.54 Q1283.25 1531.54 1285.95 1533.51 Q1288.69 1535.48 1289.99 1539.24 Z\" fill=\"#000000\" fill-rule=\"evenodd\" fill-opacity=\"1\" /><path clip-path=\"url(#clip150)\" d=\"M1341.94 1550.12 Q1334.84 1550.12 1332.1 1551.75 Q1329.36 1553.37 1329.36 1557.29 Q1329.36 1560.4 1331.4 1562.25 Q1333.47 1564.07 1337 1564.07 Q1341.87 1564.07 1344.8 1560.63 Q1347.76 1557.16 1347.76 1551.43 L1347.76 1550.12 L1341.94 1550.12 M1353.62 1547.71 L1353.62 1568.04 L1347.76 1568.04 L1347.76 1562.63 Q1345.76 1565.88 1342.76 1567.44 Q1339.77 1568.97 1335.44 1568.97 Q1329.97 1568.97 1326.72 1565.91 Q1323.51 1562.82 1323.51 1557.67 Q1323.51 1551.65 1327.52 1548.6 Q1331.56 1545.54 1339.55 1545.54 L1347.76 1545.54 L1347.76 1544.97 Q1347.76 1540.93 1345.09 1538.73 Q1342.45 1536.5 1337.64 1536.5 Q1334.58 1536.5 1331.69 1537.23 Q1328.79 1537.97 1326.12 1539.43 L1326.12 1534.02 Q1329.33 1532.78 1332.36 1532.17 Q1335.38 1531.54 1338.25 1531.54 Q1345.98 1531.54 1349.8 1535.55 Q1353.62 1539.56 1353.62 1547.71 Z\" fill=\"#000000\" fill-rule=\"evenodd\" fill-opacity=\"1\" /><path clip-path=\"url(#clip150)\" d=\"M1391.34 1533.76 L1391.34 1539.24 Q1388.85 1537.87 1386.34 1537.2 Q1383.86 1536.5 1381.31 1536.5 Q1375.61 1536.5 1372.46 1540.13 Q1369.31 1543.73 1369.31 1550.25 Q1369.31 1556.78 1372.46 1560.4 Q1375.61 1564 1381.31 1564 Q1383.86 1564 1386.34 1563.33 Q1388.85 1562.63 1391.34 1561.26 L1391.34 1566.68 Q1388.88 1567.82 1386.24 1568.39 Q1383.63 1568.97 1380.67 1568.97 Q1372.62 1568.97 1367.88 1563.91 Q1363.14 1558.85 1363.14 1550.25 Q1363.14 1541.53 1367.91 1536.53 Q1372.72 1531.54 1381.05 1531.54 Q1383.76 1531.54 1386.34 1532.11 Q1388.92 1532.65 1391.34 1533.76 Z\" fill=\"#000000\" fill-rule=\"evenodd\" fill-opacity=\"1\" /><path clip-path=\"url(#clip150)\" d=\"M1401.52 1532.4 L1407.38 1532.4 L1407.38 1568.04 L1401.52 1568.04 L1401.52 1532.4 M1401.52 1518.52 L1407.38 1518.52 L1407.38 1525.93 L1401.52 1525.93 L1401.52 1518.52 Z\" fill=\"#000000\" fill-rule=\"evenodd\" fill-opacity=\"1\" /><path clip-path=\"url(#clip150)\" d=\"M1450.12 1548.76 L1450.12 1551.62 L1423.2 1551.62 Q1423.58 1557.67 1426.82 1560.85 Q1430.1 1564 1435.93 1564 Q1439.3 1564 1442.45 1563.17 Q1445.63 1562.35 1448.75 1560.69 L1448.75 1566.23 Q1445.6 1567.57 1442.29 1568.27 Q1438.98 1568.97 1435.58 1568.97 Q1427.05 1568.97 1422.05 1564 Q1417.08 1559.04 1417.08 1550.57 Q1417.08 1541.82 1421.8 1536.69 Q1426.54 1531.54 1434.56 1531.54 Q1441.75 1531.54 1445.92 1536.18 Q1450.12 1540.8 1450.12 1548.76 M1444.27 1547.04 Q1444.2 1542.23 1441.56 1539.37 Q1438.95 1536.5 1434.62 1536.5 Q1429.72 1536.5 1426.76 1539.27 Q1423.83 1542.04 1423.39 1547.07 L1444.27 1547.04 Z\" fill=\"#000000\" fill-rule=\"evenodd\" fill-opacity=\"1\" /><path clip-path=\"url(#clip150)\" d=\"M1480.39 1537.87 Q1479.4 1537.3 1478.23 1537.04 Q1477.08 1536.76 1475.68 1536.76 Q1470.72 1536.76 1468.04 1540 Q1465.4 1543.22 1465.4 1549.27 L1465.4 1568.04 L1459.51 1568.04 L1459.51 1532.4 L1465.4 1532.4 L1465.4 1537.93 Q1467.25 1534.69 1470.21 1533.13 Q1473.17 1531.54 1477.4 1531.54 Q1478 1531.54 1478.74 1531.63 Q1479.47 1531.7 1480.36 1531.85 L1480.39 1537.87 Z\" fill=\"#000000\" fill-rule=\"evenodd\" fill-opacity=\"1\" /><path clip-path=\"url(#clip150)\" d=\"M1483.99 1532.4 L1511.81 1532.4 L1511.81 1537.74 L1489.78 1563.37 L1511.81 1563.37 L1511.81 1568.04 L1483.19 1568.04 L1483.19 1562.7 L1505.22 1537.07 L1483.99 1537.07 L1483.99 1532.4 Z\" fill=\"#000000\" fill-rule=\"evenodd\" fill-opacity=\"1\" /><path clip-path=\"url(#clip150)\" d=\"M1535.58 1571.35 Q1533.1 1577.72 1530.74 1579.66 Q1528.39 1581.6 1524.44 1581.6 L1519.76 1581.6 L1519.76 1576.7 L1523.2 1576.7 Q1525.62 1576.7 1526.96 1575.56 Q1528.29 1574.41 1529.92 1570.14 L1530.97 1567.47 L1516.55 1532.4 L1522.76 1532.4 L1533.9 1560.28 L1545.04 1532.4 L1551.24 1532.4 L1535.58 1571.35 Z\" fill=\"#000000\" fill-rule=\"evenodd\" fill-opacity=\"1\" /><polyline clip-path=\"url(#clip152)\" style=\"stroke:#000000; stroke-linecap:round; stroke-linejoin:round; stroke-width:2; stroke-opacity:0.1; fill:none\" points=\"175.445,1386.4 2352.76,1386.4 \"/>\n",
       "<polyline clip-path=\"url(#clip152)\" style=\"stroke:#000000; stroke-linecap:round; stroke-linejoin:round; stroke-width:2; stroke-opacity:0.1; fill:none\" points=\"175.445,1045.61 2352.76,1045.61 \"/>\n",
       "<polyline clip-path=\"url(#clip152)\" style=\"stroke:#000000; stroke-linecap:round; stroke-linejoin:round; stroke-width:2; stroke-opacity:0.1; fill:none\" points=\"175.445,704.822 2352.76,704.822 \"/>\n",
       "<polyline clip-path=\"url(#clip152)\" style=\"stroke:#000000; stroke-linecap:round; stroke-linejoin:round; stroke-width:2; stroke-opacity:0.1; fill:none\" points=\"175.445,364.035 2352.76,364.035 \"/>\n",
       "<polyline clip-path=\"url(#clip150)\" style=\"stroke:#000000; stroke-linecap:round; stroke-linejoin:round; stroke-width:4; stroke-opacity:1; fill:none\" points=\"175.445,1423.18 175.445,123.472 \"/>\n",
       "<polyline clip-path=\"url(#clip150)\" style=\"stroke:#000000; stroke-linecap:round; stroke-linejoin:round; stroke-width:4; stroke-opacity:1; fill:none\" points=\"175.445,1386.4 194.343,1386.4 \"/>\n",
       "<polyline clip-path=\"url(#clip150)\" style=\"stroke:#000000; stroke-linecap:round; stroke-linejoin:round; stroke-width:4; stroke-opacity:1; fill:none\" points=\"175.445,1045.61 194.343,1045.61 \"/>\n",
       "<polyline clip-path=\"url(#clip150)\" style=\"stroke:#000000; stroke-linecap:round; stroke-linejoin:round; stroke-width:4; stroke-opacity:1; fill:none\" points=\"175.445,704.822 194.343,704.822 \"/>\n",
       "<polyline clip-path=\"url(#clip150)\" style=\"stroke:#000000; stroke-linecap:round; stroke-linejoin:round; stroke-width:4; stroke-opacity:1; fill:none\" points=\"175.445,364.035 194.343,364.035 \"/>\n",
       "<path clip-path=\"url(#clip150)\" d=\"M127.501 1372.19 Q123.89 1372.19 122.061 1375.76 Q120.255 1379.3 120.255 1386.43 Q120.255 1393.54 122.061 1397.1 Q123.89 1400.64 127.501 1400.64 Q131.135 1400.64 132.941 1397.1 Q134.769 1393.54 134.769 1386.43 Q134.769 1379.3 132.941 1375.76 Q131.135 1372.19 127.501 1372.19 M127.501 1368.49 Q133.311 1368.49 136.367 1373.1 Q139.445 1377.68 139.445 1386.43 Q139.445 1395.16 136.367 1399.76 Q133.311 1404.35 127.501 1404.35 Q121.691 1404.35 118.612 1399.76 Q115.556 1395.16 115.556 1386.43 Q115.556 1377.68 118.612 1373.1 Q121.691 1368.49 127.501 1368.49 Z\" fill=\"#000000\" fill-rule=\"evenodd\" fill-opacity=\"1\" /><path clip-path=\"url(#clip150)\" d=\"M123.126 1058.95 L139.445 1058.95 L139.445 1062.89 L117.501 1062.89 L117.501 1058.95 Q120.163 1056.2 124.746 1051.57 Q129.353 1046.92 130.533 1045.57 Q132.779 1043.05 133.658 1041.32 Q134.561 1039.56 134.561 1037.87 Q134.561 1035.11 132.617 1033.38 Q130.695 1031.64 127.593 1031.64 Q125.394 1031.64 122.941 1032.4 Q120.51 1033.17 117.732 1034.72 L117.732 1030 Q120.556 1028.86 123.01 1028.28 Q125.464 1027.7 127.501 1027.7 Q132.871 1027.7 136.066 1030.39 Q139.26 1033.07 139.26 1037.57 Q139.26 1039.69 138.45 1041.62 Q137.663 1043.51 135.556 1046.11 Q134.978 1046.78 131.876 1050 Q128.774 1053.19 123.126 1058.95 Z\" fill=\"#000000\" fill-rule=\"evenodd\" fill-opacity=\"1\" /><path clip-path=\"url(#clip150)\" d=\"M129.862 691.616 L118.056 710.065 L129.862 710.065 L129.862 691.616 M128.635 687.542 L134.515 687.542 L134.515 710.065 L139.445 710.065 L139.445 713.954 L134.515 713.954 L134.515 722.102 L129.862 722.102 L129.862 713.954 L114.26 713.954 L114.26 709.44 L128.635 687.542 Z\" fill=\"#000000\" fill-rule=\"evenodd\" fill-opacity=\"1\" /><path clip-path=\"url(#clip150)\" d=\"M127.917 362.171 Q124.769 362.171 122.918 364.324 Q121.089 366.477 121.089 370.227 Q121.089 373.954 122.918 376.13 Q124.769 378.282 127.917 378.282 Q131.066 378.282 132.894 376.13 Q134.746 373.954 134.746 370.227 Q134.746 366.477 132.894 364.324 Q131.066 362.171 127.917 362.171 M137.2 347.519 L137.2 351.778 Q135.441 350.944 133.635 350.505 Q131.853 350.065 130.093 350.065 Q125.464 350.065 123.01 353.19 Q120.58 356.315 120.232 362.634 Q121.598 360.62 123.658 359.556 Q125.718 358.468 128.195 358.468 Q133.404 358.468 136.413 361.639 Q139.445 364.787 139.445 370.227 Q139.445 375.551 136.297 378.768 Q133.149 381.986 127.917 381.986 Q121.922 381.986 118.751 377.403 Q115.58 372.796 115.58 364.069 Q115.58 355.875 119.468 351.014 Q123.357 346.13 129.908 346.13 Q131.667 346.13 133.45 346.477 Q135.255 346.824 137.2 347.519 Z\" fill=\"#000000\" fill-rule=\"evenodd\" fill-opacity=\"1\" /><path clip-path=\"url(#clip150)\" d=\"M20.1444 859.963 L26.9239 859.963 Q23.9002 863.21 22.4043 866.902 Q20.9083 870.562 20.9083 874.7 Q20.9083 882.848 25.9054 887.177 Q30.8707 891.505 40.2919 891.505 Q49.6813 891.505 54.6784 887.177 Q59.6436 882.848 59.6436 874.7 Q59.6436 870.562 58.1477 866.902 Q56.6518 863.21 53.6281 859.963 L60.3439 859.963 Q62.6355 863.337 63.7814 867.125 Q64.9272 870.88 64.9272 875.082 Q64.9272 885.872 58.3387 892.078 Q51.7183 898.285 40.2919 898.285 Q28.8336 898.285 22.2451 892.078 Q15.6248 885.872 15.6248 875.082 Q15.6248 870.817 16.7706 867.061 Q17.8846 863.273 20.1444 859.963 Z\" fill=\"#000000\" fill-rule=\"evenodd\" fill-opacity=\"1\" /><path clip-path=\"url(#clip150)\" d=\"M28.3562 852.834 L28.3562 825.016 L33.7034 825.016 L59.3254 847.041 L59.3254 825.016 L64.0042 825.016 L64.0042 853.629 L58.657 853.629 L33.035 831.604 L33.035 852.834 L28.3562 852.834 Z\" fill=\"#000000\" fill-rule=\"evenodd\" fill-opacity=\"1\" /><path clip-path=\"url(#clip150)\" d=\"M46.0847 799.871 Q46.0847 806.969 47.7079 809.706 Q49.3312 812.443 53.2461 812.443 Q56.3653 812.443 58.2114 810.406 Q60.0256 808.337 60.0256 804.804 Q60.0256 799.935 56.5881 797.006 Q53.1188 794.046 47.3897 794.046 L46.0847 794.046 L46.0847 799.871 M43.6657 788.19 L64.0042 788.19 L64.0042 794.046 L58.5933 794.046 Q61.8398 796.052 63.3994 799.043 Q64.9272 802.035 64.9272 806.364 Q64.9272 811.839 61.8716 815.085 Q58.7843 818.3 53.6281 818.3 Q47.6125 818.3 44.5569 814.289 Q41.5014 810.247 41.5014 802.258 L41.5014 794.046 L40.9285 794.046 Q36.8862 794.046 34.6901 796.72 Q32.4621 799.362 32.4621 804.168 Q32.4621 807.223 33.1941 810.12 Q33.9262 813.016 35.3903 815.69 L29.9795 815.69 Q28.7381 812.475 28.1334 809.451 Q27.4968 806.428 27.4968 803.563 Q27.4968 795.829 31.5072 792.009 Q35.5176 788.19 43.6657 788.19 Z\" fill=\"#000000\" fill-rule=\"evenodd\" fill-opacity=\"1\" /><path clip-path=\"url(#clip150)\" d=\"M29.4065 753.401 L34.9447 753.401 Q33.6716 755.884 33.035 758.558 Q32.3984 761.231 32.3984 764.096 Q32.3984 768.456 33.7352 770.652 Q35.072 772.817 37.7456 772.817 Q39.7826 772.817 40.9603 771.257 Q42.1061 769.698 43.1565 764.987 L43.6021 762.982 Q44.9389 756.743 47.3897 754.133 Q49.8086 751.492 54.1691 751.492 Q59.1344 751.492 62.0308 755.438 Q64.9272 759.353 64.9272 766.228 Q64.9272 769.093 64.3543 772.212 Q63.8132 775.299 62.6992 778.737 L56.6518 778.737 Q58.3387 775.49 59.198 772.339 Q60.0256 769.188 60.0256 766.101 Q60.0256 761.963 58.6251 759.735 Q57.1929 757.507 54.6147 757.507 Q52.2276 757.507 50.9545 759.13 Q49.6813 760.722 48.5037 766.165 L48.0262 768.202 Q46.8804 773.644 44.5251 776.063 Q42.138 778.482 38.0002 778.482 Q32.9713 778.482 30.2341 774.917 Q27.4968 771.353 27.4968 764.796 Q27.4968 761.549 27.9743 758.685 Q28.4517 755.82 29.4065 753.401 Z\" fill=\"#000000\" fill-rule=\"evenodd\" fill-opacity=\"1\" /><path clip-path=\"url(#clip150)\" d=\"M14.479 721.987 L14.479 708.491 L19.0304 708.491 L19.0304 716.13 L68.0464 716.13 L68.0464 708.491 L72.5979 708.491 L72.5979 721.987 L14.479 721.987 Z\" fill=\"#000000\" fill-rule=\"evenodd\" fill-opacity=\"1\" /><path clip-path=\"url(#clip150)\" d=\"M29.4065 673.289 L34.9447 673.289 Q33.6716 675.772 33.035 678.445 Q32.3984 681.119 32.3984 683.983 Q32.3984 688.344 33.7352 690.54 Q35.072 692.704 37.7456 692.704 Q39.7826 692.704 40.9603 691.145 Q42.1061 689.585 43.1565 684.874 L43.6021 682.869 Q44.9389 676.631 47.3897 674.021 Q49.8086 671.379 54.1691 671.379 Q59.1344 671.379 62.0308 675.326 Q64.9272 679.241 64.9272 686.116 Q64.9272 688.98 64.3543 692.1 Q63.8132 695.187 62.6992 698.624 L56.6518 698.624 Q58.3387 695.378 59.198 692.227 Q60.0256 689.076 60.0256 685.988 Q60.0256 681.851 58.6251 679.623 Q57.1929 677.395 54.6147 677.395 Q52.2276 677.395 50.9545 679.018 Q49.6813 680.609 48.5037 686.052 L48.0262 688.089 Q46.8804 693.532 44.5251 695.951 Q42.138 698.37 38.0002 698.37 Q32.9713 698.37 30.2341 694.805 Q27.4968 691.24 27.4968 684.684 Q27.4968 681.437 27.9743 678.572 Q28.4517 675.708 29.4065 673.289 Z\" fill=\"#000000\" fill-rule=\"evenodd\" fill-opacity=\"1\" /><path clip-path=\"url(#clip150)\" d=\"M14.479 648.367 L72.5979 648.367 L72.5979 661.862 L68.0464 661.862 L68.0464 654.255 L19.0304 654.255 L19.0304 661.862 L14.479 661.862 L14.479 648.367 Z\" fill=\"#000000\" fill-rule=\"evenodd\" fill-opacity=\"1\" /><path clip-path=\"url(#clip150)\" d=\"M869.077 12.096 L881.27 12.096 L896.704 53.2532 L912.219 12.096 L924.412 12.096 L924.412 72.576 L916.432 72.576 L916.432 19.4686 L900.836 60.9499 L892.612 60.9499 L877.016 19.4686 L877.016 72.576 L869.077 72.576 L869.077 12.096 Z\" fill=\"#000000\" fill-rule=\"evenodd\" fill-opacity=\"1\" /><path clip-path=\"url(#clip150)\" d=\"M978.046 45.1919 L978.046 72.576 L970.592 72.576 L970.592 45.4349 Q970.592 38.994 968.081 35.7938 Q965.569 32.5936 960.546 32.5936 Q954.51 32.5936 951.026 36.4419 Q947.543 40.2903 947.543 46.9338 L947.543 72.576 L940.048 72.576 L940.048 27.2059 L947.543 27.2059 L947.543 34.2544 Q950.216 30.163 953.822 28.1376 Q957.467 26.1121 962.207 26.1121 Q970.025 26.1121 974.036 30.9732 Q978.046 35.7938 978.046 45.1919 Z\" fill=\"#000000\" fill-rule=\"evenodd\" fill-opacity=\"1\" /><path clip-path=\"url(#clip150)\" d=\"M1010.49 32.4315 Q1004.5 32.4315 1001.01 37.1306 Q997.531 41.7891 997.531 49.9314 Q997.531 58.0738 1000.97 62.7728 Q1004.46 67.4314 1010.49 67.4314 Q1016.45 67.4314 1019.93 62.7323 Q1023.42 58.0333 1023.42 49.9314 Q1023.42 41.8701 1019.93 37.1711 Q1016.45 32.4315 1010.49 32.4315 M1010.49 26.1121 Q1020.22 26.1121 1025.77 32.4315 Q1031.32 38.7509 1031.32 49.9314 Q1031.32 61.0714 1025.77 67.4314 Q1020.22 73.7508 1010.49 73.7508 Q1000.73 73.7508 995.181 67.4314 Q989.672 61.0714 989.672 49.9314 Q989.672 38.7509 995.181 32.4315 Q1000.73 26.1121 1010.49 26.1121 Z\" fill=\"#000000\" fill-rule=\"evenodd\" fill-opacity=\"1\" /><path clip-path=\"url(#clip150)\" d=\"M1053.72 9.54393 L1061.17 9.54393 L1061.17 18.9825 L1053.72 18.9825 L1053.72 9.54393 M1057.52 26.1121 L1057.52 26.1121 M1040.43 27.2059 L1075.83 27.2059 L1075.83 34.0114 L1047.8 66.6212 L1075.83 66.6212 L1075.83 72.576 L1039.42 72.576 L1039.42 65.7705 L1067.45 33.1607 L1040.43 33.1607 L1040.43 27.2059 Z\" fill=\"#000000\" fill-rule=\"evenodd\" fill-opacity=\"1\" /><path clip-path=\"url(#clip150)\" d=\"M1126.03 48.0275 L1126.03 51.6733 L1091.75 51.6733 Q1092.24 59.3701 1096.37 63.421 Q1100.55 67.4314 1107.96 67.4314 Q1112.25 67.4314 1116.26 66.3781 Q1120.31 65.3249 1124.28 63.2184 L1124.28 70.267 Q1120.27 71.9684 1116.06 72.8596 Q1111.85 73.7508 1107.51 73.7508 Q1096.66 73.7508 1090.3 67.4314 Q1083.98 61.1119 1083.98 50.3365 Q1083.98 39.1965 1089.97 32.6746 Q1096.01 26.1121 1106.22 26.1121 Q1115.37 26.1121 1120.68 32.0264 Q1126.03 37.9003 1126.03 48.0275 M1118.57 45.84 Q1118.49 39.7232 1115.13 36.0774 Q1111.81 32.4315 1106.3 32.4315 Q1100.06 32.4315 1096.29 35.9558 Q1092.57 39.4801 1092 45.8805 L1118.57 45.84 Z\" fill=\"#000000\" fill-rule=\"evenodd\" fill-opacity=\"1\" /><path clip-path=\"url(#clip150)\" d=\"M1175.97 45.1919 L1175.97 72.576 L1168.52 72.576 L1168.52 45.4349 Q1168.52 38.994 1166.01 35.7938 Q1163.5 32.5936 1158.47 32.5936 Q1152.44 32.5936 1148.95 36.4419 Q1145.47 40.2903 1145.47 46.9338 L1145.47 72.576 L1137.98 72.576 L1137.98 27.2059 L1145.47 27.2059 L1145.47 34.2544 Q1148.14 30.163 1151.75 28.1376 Q1155.39 26.1121 1160.13 26.1121 Q1167.95 26.1121 1171.96 30.9732 Q1175.97 35.7938 1175.97 45.1919 Z\" fill=\"#000000\" fill-rule=\"evenodd\" fill-opacity=\"1\" /><path clip-path=\"url(#clip150)\" d=\"M1190.84 27.2059 L1198.29 27.2059 L1198.29 72.576 L1190.84 72.576 L1190.84 27.2059 M1190.84 9.54393 L1198.29 9.54393 L1198.29 18.9825 L1190.84 18.9825 L1190.84 9.54393 Z\" fill=\"#000000\" fill-rule=\"evenodd\" fill-opacity=\"1\" /><path clip-path=\"url(#clip150)\" d=\"M1252.7 48.0275 L1252.7 51.6733 L1218.43 51.6733 Q1218.91 59.3701 1223.04 63.421 Q1227.22 67.4314 1234.63 67.4314 Q1238.92 67.4314 1242.93 66.3781 Q1246.99 65.3249 1250.96 63.2184 L1250.96 70.267 Q1246.94 71.9684 1242.73 72.8596 Q1238.52 73.7508 1234.18 73.7508 Q1223.33 73.7508 1216.97 67.4314 Q1210.65 61.1119 1210.65 50.3365 Q1210.65 39.1965 1216.64 32.6746 Q1222.68 26.1121 1232.89 26.1121 Q1242.04 26.1121 1247.35 32.0264 Q1252.7 37.9003 1252.7 48.0275 M1245.24 45.84 Q1245.16 39.7232 1241.8 36.0774 Q1238.48 32.4315 1232.97 32.4315 Q1226.73 32.4315 1222.96 35.9558 Q1219.24 39.4801 1218.67 45.8805 L1245.24 45.84 Z\" fill=\"#000000\" fill-rule=\"evenodd\" fill-opacity=\"1\" /><path clip-path=\"url(#clip150)\" d=\"M1326.63 35.9153 Q1329.42 30.8922 1333.31 28.5022 Q1337.2 26.1121 1342.47 26.1121 Q1349.55 26.1121 1353.4 31.0947 Q1357.25 36.0368 1357.25 45.1919 L1357.25 72.576 L1349.76 72.576 L1349.76 45.4349 Q1349.76 38.913 1347.45 35.7533 Q1345.14 32.5936 1340.4 32.5936 Q1334.61 32.5936 1331.24 36.4419 Q1327.88 40.2903 1327.88 46.9338 L1327.88 72.576 L1320.39 72.576 L1320.39 45.4349 Q1320.39 38.8725 1318.08 35.7533 Q1315.77 32.5936 1310.95 32.5936 Q1305.24 32.5936 1301.88 36.4824 Q1298.51 40.3308 1298.51 46.9338 L1298.51 72.576 L1291.02 72.576 L1291.02 27.2059 L1298.51 27.2059 L1298.51 34.2544 Q1301.07 30.082 1304.63 28.0971 Q1308.19 26.1121 1313.1 26.1121 Q1318.04 26.1121 1321.48 28.6237 Q1324.97 31.1352 1326.63 35.9153 Z\" fill=\"#000000\" fill-rule=\"evenodd\" fill-opacity=\"1\" /><path clip-path=\"url(#clip150)\" d=\"M1392.74 49.7694 Q1383.7 49.7694 1380.22 51.8354 Q1376.74 53.9013 1376.74 58.8839 Q1376.74 62.8538 1379.33 65.2034 Q1381.96 67.5124 1386.46 67.5124 Q1392.66 67.5124 1396.38 63.1374 Q1400.15 58.7219 1400.15 51.4303 L1400.15 49.7694 L1392.74 49.7694 M1407.6 46.6907 L1407.6 72.576 L1400.15 72.576 L1400.15 65.6895 Q1397.6 69.8214 1393.79 71.8063 Q1389.98 73.7508 1384.47 73.7508 Q1377.51 73.7508 1373.37 69.8619 Q1369.28 65.9325 1369.28 59.3701 Q1369.28 51.7138 1374.39 47.825 Q1379.53 43.9361 1389.7 43.9361 L1400.15 43.9361 L1400.15 43.2069 Q1400.15 38.0623 1396.75 35.2672 Q1393.39 32.4315 1387.27 32.4315 Q1383.38 32.4315 1379.69 33.3632 Q1376.01 34.295 1372.6 36.1584 L1372.6 29.2718 Q1376.7 27.692 1380.54 26.9223 Q1384.39 26.1121 1388.04 26.1121 Q1397.88 26.1121 1402.74 31.2163 Q1407.6 36.3204 1407.6 46.6907 Z\" fill=\"#000000\" fill-rule=\"evenodd\" fill-opacity=\"1\" /><path clip-path=\"url(#clip150)\" d=\"M1455.61 28.9478 L1455.61 35.9153 Q1452.45 34.1734 1449.25 33.3227 Q1446.09 32.4315 1442.85 32.4315 Q1435.6 32.4315 1431.59 37.0496 Q1427.57 41.6271 1427.57 49.9314 Q1427.57 58.2358 1431.59 62.8538 Q1435.6 67.4314 1442.85 67.4314 Q1446.09 67.4314 1449.25 66.5807 Q1452.45 65.6895 1455.61 63.9476 L1455.61 70.8341 Q1452.49 72.2924 1449.13 73.0216 Q1445.8 73.7508 1442.04 73.7508 Q1431.79 73.7508 1425.75 67.3098 Q1419.72 60.8689 1419.72 49.9314 Q1419.72 38.832 1425.79 32.472 Q1431.91 26.1121 1442.52 26.1121 Q1445.97 26.1121 1449.25 26.8413 Q1452.53 27.5299 1455.61 28.9478 Z\" fill=\"#000000\" fill-rule=\"evenodd\" fill-opacity=\"1\" /><path clip-path=\"url(#clip150)\" d=\"M1468.57 27.2059 L1476.02 27.2059 L1476.02 72.576 L1468.57 72.576 L1468.57 27.2059 M1468.57 9.54393 L1476.02 9.54393 L1476.02 18.9825 L1468.57 18.9825 L1468.57 9.54393 Z\" fill=\"#000000\" fill-rule=\"evenodd\" fill-opacity=\"1\" /><path clip-path=\"url(#clip150)\" d=\"M1530.43 48.0275 L1530.43 51.6733 L1496.16 51.6733 Q1496.64 59.3701 1500.77 63.421 Q1504.95 67.4314 1512.36 67.4314 Q1516.65 67.4314 1520.66 66.3781 Q1524.72 65.3249 1528.69 63.2184 L1528.69 70.267 Q1524.67 71.9684 1520.46 72.8596 Q1516.25 73.7508 1511.91 73.7508 Q1501.06 73.7508 1494.7 67.4314 Q1488.38 61.1119 1488.38 50.3365 Q1488.38 39.1965 1494.37 32.6746 Q1500.41 26.1121 1510.62 26.1121 Q1519.77 26.1121 1525.08 32.0264 Q1530.43 37.9003 1530.43 48.0275 M1522.97 45.84 Q1522.89 39.7232 1519.53 36.0774 Q1516.21 32.4315 1510.7 32.4315 Q1504.46 32.4315 1500.69 35.9558 Q1496.97 39.4801 1496.4 45.8805 L1522.97 45.84 Z\" fill=\"#000000\" fill-rule=\"evenodd\" fill-opacity=\"1\" /><path clip-path=\"url(#clip150)\" d=\"M1568.95 34.1734 Q1567.7 33.4443 1566.2 33.1202 Q1564.74 32.7556 1562.96 32.7556 Q1556.64 32.7556 1553.23 36.8875 Q1549.87 40.9789 1549.87 48.6757 L1549.87 72.576 L1542.38 72.576 L1542.38 27.2059 L1549.87 27.2059 L1549.87 34.2544 Q1552.22 30.1225 1555.99 28.1376 Q1559.76 26.1121 1565.14 26.1121 Q1565.91 26.1121 1566.84 26.2337 Q1567.78 26.3147 1568.91 26.5172 L1568.95 34.1734 Z\" fill=\"#000000\" fill-rule=\"evenodd\" fill-opacity=\"1\" /><path clip-path=\"url(#clip150)\" d=\"M1573.53 27.2059 L1608.93 27.2059 L1608.93 34.0114 L1580.9 66.6212 L1608.93 66.6212 L1608.93 72.576 L1572.52 72.576 L1572.52 65.7705 L1600.55 33.1607 L1573.53 33.1607 L1573.53 27.2059 Z\" fill=\"#000000\" fill-rule=\"evenodd\" fill-opacity=\"1\" /><path clip-path=\"url(#clip150)\" d=\"M1639.19 76.7889 Q1636.03 84.8907 1633.04 87.3618 Q1630.04 89.8329 1625.02 89.8329 L1619.06 89.8329 L1619.06 83.5945 L1623.44 83.5945 Q1626.51 83.5945 1628.22 82.1361 Q1629.92 80.6778 1631.98 75.2496 L1633.32 71.8468 L1614.97 27.2059 L1622.87 27.2059 L1637.05 62.6918 L1651.23 27.2059 L1659.12 27.2059 L1639.19 76.7889 Z\" fill=\"#000000\" fill-rule=\"evenodd\" fill-opacity=\"1\" /><circle clip-path=\"url(#clip152)\" cx=\"237.067\" cy=\"1386.4\" r=\"14.4\" fill=\"#009af9\" fill-rule=\"evenodd\" fill-opacity=\"1\" stroke=\"#000000\" stroke-opacity=\"1\" stroke-width=\"3.2\"/>\n",
       "<circle clip-path=\"url(#clip152)\" cx=\"271.882\" cy=\"1386.39\" r=\"14.4\" fill=\"#009af9\" fill-rule=\"evenodd\" fill-opacity=\"1\" stroke=\"#000000\" stroke-opacity=\"1\" stroke-width=\"3.2\"/>\n",
       "<circle clip-path=\"url(#clip152)\" cx=\"306.697\" cy=\"1386.35\" r=\"14.4\" fill=\"#009af9\" fill-rule=\"evenodd\" fill-opacity=\"1\" stroke=\"#000000\" stroke-opacity=\"1\" stroke-width=\"3.2\"/>\n",
       "<circle clip-path=\"url(#clip152)\" cx=\"341.511\" cy=\"1386.27\" r=\"14.4\" fill=\"#009af9\" fill-rule=\"evenodd\" fill-opacity=\"1\" stroke=\"#000000\" stroke-opacity=\"1\" stroke-width=\"3.2\"/>\n",
       "<circle clip-path=\"url(#clip152)\" cx=\"376.326\" cy=\"1386.12\" r=\"14.4\" fill=\"#009af9\" fill-rule=\"evenodd\" fill-opacity=\"1\" stroke=\"#000000\" stroke-opacity=\"1\" stroke-width=\"3.2\"/>\n",
       "<circle clip-path=\"url(#clip152)\" cx=\"411.141\" cy=\"1386.03\" r=\"14.4\" fill=\"#009af9\" fill-rule=\"evenodd\" fill-opacity=\"1\" stroke=\"#000000\" stroke-opacity=\"1\" stroke-width=\"3.2\"/>\n",
       "<circle clip-path=\"url(#clip152)\" cx=\"445.955\" cy=\"1385.78\" r=\"14.4\" fill=\"#009af9\" fill-rule=\"evenodd\" fill-opacity=\"1\" stroke=\"#000000\" stroke-opacity=\"1\" stroke-width=\"3.2\"/>\n",
       "<circle clip-path=\"url(#clip152)\" cx=\"480.77\" cy=\"1385.41\" r=\"14.4\" fill=\"#009af9\" fill-rule=\"evenodd\" fill-opacity=\"1\" stroke=\"#000000\" stroke-opacity=\"1\" stroke-width=\"3.2\"/>\n",
       "<circle clip-path=\"url(#clip152)\" cx=\"515.585\" cy=\"1384.9\" r=\"14.4\" fill=\"#009af9\" fill-rule=\"evenodd\" fill-opacity=\"1\" stroke=\"#000000\" stroke-opacity=\"1\" stroke-width=\"3.2\"/>\n",
       "<circle clip-path=\"url(#clip152)\" cx=\"550.399\" cy=\"1384.22\" r=\"14.4\" fill=\"#009af9\" fill-rule=\"evenodd\" fill-opacity=\"1\" stroke=\"#000000\" stroke-opacity=\"1\" stroke-width=\"3.2\"/>\n",
       "<circle clip-path=\"url(#clip152)\" cx=\"585.214\" cy=\"1383.15\" r=\"14.4\" fill=\"#009af9\" fill-rule=\"evenodd\" fill-opacity=\"1\" stroke=\"#000000\" stroke-opacity=\"1\" stroke-width=\"3.2\"/>\n",
       "<circle clip-path=\"url(#clip152)\" cx=\"620.029\" cy=\"1382.4\" r=\"14.4\" fill=\"#009af9\" fill-rule=\"evenodd\" fill-opacity=\"1\" stroke=\"#000000\" stroke-opacity=\"1\" stroke-width=\"3.2\"/>\n",
       "<circle clip-path=\"url(#clip152)\" cx=\"654.843\" cy=\"1380.72\" r=\"14.4\" fill=\"#009af9\" fill-rule=\"evenodd\" fill-opacity=\"1\" stroke=\"#000000\" stroke-opacity=\"1\" stroke-width=\"3.2\"/>\n",
       "<circle clip-path=\"url(#clip152)\" cx=\"689.658\" cy=\"1379.18\" r=\"14.4\" fill=\"#009af9\" fill-rule=\"evenodd\" fill-opacity=\"1\" stroke=\"#000000\" stroke-opacity=\"1\" stroke-width=\"3.2\"/>\n",
       "<circle clip-path=\"url(#clip152)\" cx=\"724.473\" cy=\"1374.22\" r=\"14.4\" fill=\"#009af9\" fill-rule=\"evenodd\" fill-opacity=\"1\" stroke=\"#000000\" stroke-opacity=\"1\" stroke-width=\"3.2\"/>\n",
       "<circle clip-path=\"url(#clip152)\" cx=\"759.288\" cy=\"1371.33\" r=\"14.4\" fill=\"#009af9\" fill-rule=\"evenodd\" fill-opacity=\"1\" stroke=\"#000000\" stroke-opacity=\"1\" stroke-width=\"3.2\"/>\n",
       "<circle clip-path=\"url(#clip152)\" cx=\"794.102\" cy=\"1372.57\" r=\"14.4\" fill=\"#009af9\" fill-rule=\"evenodd\" fill-opacity=\"1\" stroke=\"#000000\" stroke-opacity=\"1\" stroke-width=\"3.2\"/>\n",
       "<circle clip-path=\"url(#clip152)\" cx=\"828.917\" cy=\"1370.86\" r=\"14.4\" fill=\"#009af9\" fill-rule=\"evenodd\" fill-opacity=\"1\" stroke=\"#000000\" stroke-opacity=\"1\" stroke-width=\"3.2\"/>\n",
       "<circle clip-path=\"url(#clip152)\" cx=\"863.732\" cy=\"1366.82\" r=\"14.4\" fill=\"#009af9\" fill-rule=\"evenodd\" fill-opacity=\"1\" stroke=\"#000000\" stroke-opacity=\"1\" stroke-width=\"3.2\"/>\n",
       "<circle clip-path=\"url(#clip152)\" cx=\"898.546\" cy=\"1359.85\" r=\"14.4\" fill=\"#009af9\" fill-rule=\"evenodd\" fill-opacity=\"1\" stroke=\"#000000\" stroke-opacity=\"1\" stroke-width=\"3.2\"/>\n",
       "<circle clip-path=\"url(#clip152)\" cx=\"933.361\" cy=\"1351.7\" r=\"14.4\" fill=\"#009af9\" fill-rule=\"evenodd\" fill-opacity=\"1\" stroke=\"#000000\" stroke-opacity=\"1\" stroke-width=\"3.2\"/>\n",
       "<circle clip-path=\"url(#clip152)\" cx=\"968.176\" cy=\"1354.07\" r=\"14.4\" fill=\"#009af9\" fill-rule=\"evenodd\" fill-opacity=\"1\" stroke=\"#000000\" stroke-opacity=\"1\" stroke-width=\"3.2\"/>\n",
       "<circle clip-path=\"url(#clip152)\" cx=\"1002.99\" cy=\"1349.8\" r=\"14.4\" fill=\"#009af9\" fill-rule=\"evenodd\" fill-opacity=\"1\" stroke=\"#000000\" stroke-opacity=\"1\" stroke-width=\"3.2\"/>\n",
       "<circle clip-path=\"url(#clip152)\" cx=\"1037.81\" cy=\"1339.63\" r=\"14.4\" fill=\"#009af9\" fill-rule=\"evenodd\" fill-opacity=\"1\" stroke=\"#000000\" stroke-opacity=\"1\" stroke-width=\"3.2\"/>\n",
       "<circle clip-path=\"url(#clip152)\" cx=\"1072.62\" cy=\"1334.63\" r=\"14.4\" fill=\"#009af9\" fill-rule=\"evenodd\" fill-opacity=\"1\" stroke=\"#000000\" stroke-opacity=\"1\" stroke-width=\"3.2\"/>\n",
       "<circle clip-path=\"url(#clip152)\" cx=\"1107.43\" cy=\"1321.47\" r=\"14.4\" fill=\"#009af9\" fill-rule=\"evenodd\" fill-opacity=\"1\" stroke=\"#000000\" stroke-opacity=\"1\" stroke-width=\"3.2\"/>\n",
       "<circle clip-path=\"url(#clip152)\" cx=\"1142.25\" cy=\"1309.6\" r=\"14.4\" fill=\"#009af9\" fill-rule=\"evenodd\" fill-opacity=\"1\" stroke=\"#000000\" stroke-opacity=\"1\" stroke-width=\"3.2\"/>\n",
       "<circle clip-path=\"url(#clip152)\" cx=\"1177.06\" cy=\"1306.59\" r=\"14.4\" fill=\"#009af9\" fill-rule=\"evenodd\" fill-opacity=\"1\" stroke=\"#000000\" stroke-opacity=\"1\" stroke-width=\"3.2\"/>\n",
       "<circle clip-path=\"url(#clip152)\" cx=\"1211.88\" cy=\"1296\" r=\"14.4\" fill=\"#009af9\" fill-rule=\"evenodd\" fill-opacity=\"1\" stroke=\"#000000\" stroke-opacity=\"1\" stroke-width=\"3.2\"/>\n",
       "<circle clip-path=\"url(#clip152)\" cx=\"1246.69\" cy=\"1283.67\" r=\"14.4\" fill=\"#009af9\" fill-rule=\"evenodd\" fill-opacity=\"1\" stroke=\"#000000\" stroke-opacity=\"1\" stroke-width=\"3.2\"/>\n",
       "<circle clip-path=\"url(#clip152)\" cx=\"1281.51\" cy=\"1266.63\" r=\"14.4\" fill=\"#009af9\" fill-rule=\"evenodd\" fill-opacity=\"1\" stroke=\"#000000\" stroke-opacity=\"1\" stroke-width=\"3.2\"/>\n",
       "<circle clip-path=\"url(#clip152)\" cx=\"1316.32\" cy=\"1265.66\" r=\"14.4\" fill=\"#009af9\" fill-rule=\"evenodd\" fill-opacity=\"1\" stroke=\"#000000\" stroke-opacity=\"1\" stroke-width=\"3.2\"/>\n",
       "<circle clip-path=\"url(#clip152)\" cx=\"1351.14\" cy=\"1243.99\" r=\"14.4\" fill=\"#009af9\" fill-rule=\"evenodd\" fill-opacity=\"1\" stroke=\"#000000\" stroke-opacity=\"1\" stroke-width=\"3.2\"/>\n",
       "<circle clip-path=\"url(#clip152)\" cx=\"1385.95\" cy=\"1224.08\" r=\"14.4\" fill=\"#009af9\" fill-rule=\"evenodd\" fill-opacity=\"1\" stroke=\"#000000\" stroke-opacity=\"1\" stroke-width=\"3.2\"/>\n",
       "<circle clip-path=\"url(#clip152)\" cx=\"1420.77\" cy=\"1196.21\" r=\"14.4\" fill=\"#009af9\" fill-rule=\"evenodd\" fill-opacity=\"1\" stroke=\"#000000\" stroke-opacity=\"1\" stroke-width=\"3.2\"/>\n",
       "<circle clip-path=\"url(#clip152)\" cx=\"1455.58\" cy=\"1178.45\" r=\"14.4\" fill=\"#009af9\" fill-rule=\"evenodd\" fill-opacity=\"1\" stroke=\"#000000\" stroke-opacity=\"1\" stroke-width=\"3.2\"/>\n",
       "<circle clip-path=\"url(#clip152)\" cx=\"1490.4\" cy=\"1180.42\" r=\"14.4\" fill=\"#009af9\" fill-rule=\"evenodd\" fill-opacity=\"1\" stroke=\"#000000\" stroke-opacity=\"1\" stroke-width=\"3.2\"/>\n",
       "<circle clip-path=\"url(#clip152)\" cx=\"1525.21\" cy=\"1156.37\" r=\"14.4\" fill=\"#009af9\" fill-rule=\"evenodd\" fill-opacity=\"1\" stroke=\"#000000\" stroke-opacity=\"1\" stroke-width=\"3.2\"/>\n",
       "<circle clip-path=\"url(#clip152)\" cx=\"1560.03\" cy=\"1138.32\" r=\"14.4\" fill=\"#009af9\" fill-rule=\"evenodd\" fill-opacity=\"1\" stroke=\"#000000\" stroke-opacity=\"1\" stroke-width=\"3.2\"/>\n",
       "<circle clip-path=\"url(#clip152)\" cx=\"1594.84\" cy=\"1117.35\" r=\"14.4\" fill=\"#009af9\" fill-rule=\"evenodd\" fill-opacity=\"1\" stroke=\"#000000\" stroke-opacity=\"1\" stroke-width=\"3.2\"/>\n",
       "<circle clip-path=\"url(#clip152)\" cx=\"1629.65\" cy=\"1073.72\" r=\"14.4\" fill=\"#009af9\" fill-rule=\"evenodd\" fill-opacity=\"1\" stroke=\"#000000\" stroke-opacity=\"1\" stroke-width=\"3.2\"/>\n",
       "<circle clip-path=\"url(#clip152)\" cx=\"1664.47\" cy=\"1046.38\" r=\"14.4\" fill=\"#009af9\" fill-rule=\"evenodd\" fill-opacity=\"1\" stroke=\"#000000\" stroke-opacity=\"1\" stroke-width=\"3.2\"/>\n",
       "<circle clip-path=\"url(#clip152)\" cx=\"1699.28\" cy=\"1010.07\" r=\"14.4\" fill=\"#009af9\" fill-rule=\"evenodd\" fill-opacity=\"1\" stroke=\"#000000\" stroke-opacity=\"1\" stroke-width=\"3.2\"/>\n",
       "<circle clip-path=\"url(#clip152)\" cx=\"1734.1\" cy=\"986.632\" r=\"14.4\" fill=\"#009af9\" fill-rule=\"evenodd\" fill-opacity=\"1\" stroke=\"#000000\" stroke-opacity=\"1\" stroke-width=\"3.2\"/>\n",
       "<circle clip-path=\"url(#clip152)\" cx=\"1768.91\" cy=\"948.9\" r=\"14.4\" fill=\"#009af9\" fill-rule=\"evenodd\" fill-opacity=\"1\" stroke=\"#000000\" stroke-opacity=\"1\" stroke-width=\"3.2\"/>\n",
       "<circle clip-path=\"url(#clip152)\" cx=\"1803.73\" cy=\"901.052\" r=\"14.4\" fill=\"#009af9\" fill-rule=\"evenodd\" fill-opacity=\"1\" stroke=\"#000000\" stroke-opacity=\"1\" stroke-width=\"3.2\"/>\n",
       "<circle clip-path=\"url(#clip152)\" cx=\"1838.54\" cy=\"897.283\" r=\"14.4\" fill=\"#009af9\" fill-rule=\"evenodd\" fill-opacity=\"1\" stroke=\"#000000\" stroke-opacity=\"1\" stroke-width=\"3.2\"/>\n",
       "<circle clip-path=\"url(#clip152)\" cx=\"1873.36\" cy=\"819.126\" r=\"14.4\" fill=\"#009af9\" fill-rule=\"evenodd\" fill-opacity=\"1\" stroke=\"#000000\" stroke-opacity=\"1\" stroke-width=\"3.2\"/>\n",
       "<circle clip-path=\"url(#clip152)\" cx=\"1908.17\" cy=\"756.152\" r=\"14.4\" fill=\"#009af9\" fill-rule=\"evenodd\" fill-opacity=\"1\" stroke=\"#000000\" stroke-opacity=\"1\" stroke-width=\"3.2\"/>\n",
       "<circle clip-path=\"url(#clip152)\" cx=\"1942.99\" cy=\"752.414\" r=\"14.4\" fill=\"#009af9\" fill-rule=\"evenodd\" fill-opacity=\"1\" stroke=\"#000000\" stroke-opacity=\"1\" stroke-width=\"3.2\"/>\n",
       "<circle clip-path=\"url(#clip152)\" cx=\"1977.8\" cy=\"685.636\" r=\"14.4\" fill=\"#009af9\" fill-rule=\"evenodd\" fill-opacity=\"1\" stroke=\"#000000\" stroke-opacity=\"1\" stroke-width=\"3.2\"/>\n",
       "<circle clip-path=\"url(#clip152)\" cx=\"2012.62\" cy=\"317.067\" r=\"14.4\" fill=\"#009af9\" fill-rule=\"evenodd\" fill-opacity=\"1\" stroke=\"#000000\" stroke-opacity=\"1\" stroke-width=\"3.2\"/>\n",
       "<circle clip-path=\"url(#clip152)\" cx=\"2047.43\" cy=\"603.714\" r=\"14.4\" fill=\"#009af9\" fill-rule=\"evenodd\" fill-opacity=\"1\" stroke=\"#000000\" stroke-opacity=\"1\" stroke-width=\"3.2\"/>\n",
       "<circle clip-path=\"url(#clip152)\" cx=\"2082.25\" cy=\"551.345\" r=\"14.4\" fill=\"#009af9\" fill-rule=\"evenodd\" fill-opacity=\"1\" stroke=\"#000000\" stroke-opacity=\"1\" stroke-width=\"3.2\"/>\n",
       "<circle clip-path=\"url(#clip152)\" cx=\"2117.06\" cy=\"498.882\" r=\"14.4\" fill=\"#009af9\" fill-rule=\"evenodd\" fill-opacity=\"1\" stroke=\"#000000\" stroke-opacity=\"1\" stroke-width=\"3.2\"/>\n",
       "<circle clip-path=\"url(#clip152)\" cx=\"2151.88\" cy=\"464.871\" r=\"14.4\" fill=\"#009af9\" fill-rule=\"evenodd\" fill-opacity=\"1\" stroke=\"#000000\" stroke-opacity=\"1\" stroke-width=\"3.2\"/>\n",
       "<circle clip-path=\"url(#clip152)\" cx=\"2186.69\" cy=\"413.239\" r=\"14.4\" fill=\"#009af9\" fill-rule=\"evenodd\" fill-opacity=\"1\" stroke=\"#000000\" stroke-opacity=\"1\" stroke-width=\"3.2\"/>\n",
       "<circle clip-path=\"url(#clip152)\" cx=\"2221.5\" cy=\"310.802\" r=\"14.4\" fill=\"#009af9\" fill-rule=\"evenodd\" fill-opacity=\"1\" stroke=\"#000000\" stroke-opacity=\"1\" stroke-width=\"3.2\"/>\n",
       "<circle clip-path=\"url(#clip152)\" cx=\"2256.32\" cy=\"266.993\" r=\"14.4\" fill=\"#009af9\" fill-rule=\"evenodd\" fill-opacity=\"1\" stroke=\"#000000\" stroke-opacity=\"1\" stroke-width=\"3.2\"/>\n",
       "<circle clip-path=\"url(#clip152)\" cx=\"2291.13\" cy=\"160.256\" r=\"14.4\" fill=\"#009af9\" fill-rule=\"evenodd\" fill-opacity=\"1\" stroke=\"#000000\" stroke-opacity=\"1\" stroke-width=\"3.2\"/>\n",
       "<path clip-path=\"url(#clip150)\" d=\"M248.022 270.476 L518.184 270.476 L518.184 166.796 L248.022 166.796  Z\" fill=\"#ffffff\" fill-rule=\"evenodd\" fill-opacity=\"1\"/>\n",
       "<polyline clip-path=\"url(#clip150)\" style=\"stroke:#000000; stroke-linecap:round; stroke-linejoin:round; stroke-width:4; stroke-opacity:1; fill:none\" points=\"248.022,270.476 518.184,270.476 518.184,166.796 248.022,166.796 248.022,270.476 \"/>\n",
       "<circle clip-path=\"url(#clip150)\" cx=\"344.792\" cy=\"218.636\" r=\"23.04\" fill=\"#009af9\" fill-rule=\"evenodd\" fill-opacity=\"1\" stroke=\"#000000\" stroke-opacity=\"1\" stroke-width=\"5.12\"/>\n",
       "<path clip-path=\"url(#clip150)\" d=\"M455.403 238.323 Q453.598 242.953 451.885 244.365 Q450.172 245.777 447.302 245.777 L443.899 245.777 L443.899 242.212 L446.399 242.212 Q448.158 242.212 449.13 241.379 Q450.103 240.545 451.283 237.443 L452.047 235.499 L441.561 209.99 L446.075 209.99 L454.177 230.268 L462.278 209.99 L466.792 209.99 L455.403 238.323 Z\" fill=\"#000000\" fill-rule=\"evenodd\" fill-opacity=\"1\" /><path clip-path=\"url(#clip150)\" d=\"M474.084 231.981 L481.723 231.981 L481.723 205.615 L473.413 207.282 L473.413 203.022 L481.676 201.356 L486.352 201.356 L486.352 231.981 L493.991 231.981 L493.991 235.916 L474.084 235.916 L474.084 231.981 Z\" fill=\"#000000\" fill-rule=\"evenodd\" fill-opacity=\"1\" /></svg>\n"
      ]
     },
     "metadata": {},
     "output_type": "display_data"
    }
   ],
   "source": [
    "using DataFrames\n",
    "using Statistics\n",
    "using Plots\n",
    "using CSV\n",
    "using Polynomials\n",
    "\n",
    "# Wczytujemy dane z pliku CSV\n",
    "results = CSV.read(\"../Lab5/results.csv\", DataFrame)\n",
    "\n",
    "# Korzystając z mechanizmów DataFrame, grupujemy dane po rozmiarze macierzy i nazwie funkcji\n",
    "results_grouped = groupby(results, [:matrix_size, :function_name])\n",
    "\n",
    "# Obliczamy średną i odchylenie standardowe\n",
    "results_combined = combine(results_grouped, \"time\" => mean, \"time\" => var)\n",
    "\n",
    "naive_results = filter(row -> row.function_name == \"naive_multiplication\", results_combined)\n",
    "\n",
    "# Rysujemy wykres ze słupkami błędów, podpisanymi osiami i tytułami\n",
    "scatter(\n",
    "    naive_results.matrix_size,\n",
    "    naive_results.time_mean,\n",
    "    xlabel=\"Rozmiar macierzy\",\n",
    "    ylabel=\"Czas [s]\",\n",
    "    title=\"Mnożenie macierzy\")"
   ]
  },
  {
   "cell_type": "code",
   "execution_count": 6,
   "metadata": {},
   "outputs": [
    {
     "name": "stdout",
     "output_type": "stream",
     "text": [
      "Policzone współczynniki: [3.7735764753691986e-7, -3.30873976075646e-5, 0.0008492623737581339, 0.00895521027387744]\n",
      "Wielomian uzyskany poprzez fit(): 0.00895521 + 0.000849262*x - 3.30874e-5*x^2 + 3.77358e-7*x^3\n"
     ]
    }
   ],
   "source": [
    "using(LinearAlgebra)\n",
    "\n",
    "n = length(naive_results.matrix_size)\n",
    "\n",
    "A = zeros(n,4)\n",
    "A[:,1] = naive_results.matrix_size.^3\n",
    "A[:,2] = naive_results.matrix_size.^2\n",
    "A[:,3] = naive_results.matrix_size\n",
    "A[:,4] = ones(n)\n",
    "\n",
    "AF = factorize(A)\n",
    "println(\"Policzone współczynniki: \", AF.R\\((Transpose(AF.Q)*naive_results.time_mean)[1:4]))\n",
    "\n",
    "println(\"Wielomian uzyskany poprzez fit(): \", fit(naive_results.matrix_size, naive_results.time_mean, 3))"
   ]
  },
  {
   "attachments": {},
   "cell_type": "markdown",
   "metadata": {},
   "source": [
    "#### Zadanie 3 (4 pkt)\n",
    "\n",
    "Znajdź i zaprezentuj działanie innego zastosowania wybranej faktoryzacji. Przykładowe (ale nie jedyne!) tematy:\n",
    "\n",
    "-    tworzenie pseudoinversji macierzy (http://buzzard.ups.edu/courses/2014spring/420projects/math420-UPS-spring-2014-macausland-pseudo-inverse-present.pdf).\n",
    "\n",
    "-   uzycie faktoryzacji QR do znajdowania wartości własnych (https://en.wikipedia.org/wiki/QR_algorithm)\n",
    "\n",
    "-  zastosowanie faktoryzacji SVD - np. zastosowania w uczeniu maszynowym "
   ]
  },
  {
   "cell_type": "code",
   "execution_count": 13,
   "metadata": {},
   "outputs": [
    {
     "name": "stdout",
     "output_type": "stream",
     "text": [
      "Wartości własne poprzez faktoryzację QR: [16.705972325154963, -0.9051889217021699, 0.19921659654722154]\n",
      "Wartości własne poprzez wbudowaną funkcję: [-0.9057401795217589, 0.1982468633970087, 16.707493316124744]\n"
     ]
    }
   ],
   "source": [
    "# uzycie faktoryzacji QR do znajdowania wartości własnych\n",
    "\n",
    "using LinearAlgebra\n",
    "\n",
    "function qr_eigenvalues(A)\n",
    "    n = size(A, 1)\n",
    "    Q, R = qr(A)\n",
    "\n",
    "    for i in 1:n\n",
    "        # Przesunięcie QR\n",
    "        A = R * Q\n",
    "        Q, R = qr(A)\n",
    "    end\n",
    "\n",
    "    return diag(A)\n",
    "end\n",
    "\n",
    "# Przykładowa macierz\n",
    "A = [1 2 3; 4 5 6; 7 8 10]\n",
    "\n",
    "# Wyświetlenie wartości własnych\n",
    "println(\"Wartości własne poprzez faktoryzację QR: \", qr_eigenvalues(A))\n",
    "println(\"Wartości własne poprzez wbudowaną funkcję: \", eigvals(A))\n"
   ]
  }
 ],
 "metadata": {
  "kernelspec": {
   "display_name": "Julia 1.8.5",
   "language": "julia",
   "name": "julia-1.8"
  },
  "language_info": {
   "file_extension": ".jl",
   "mimetype": "application/julia",
   "name": "julia",
   "version": "1.8.5"
  }
 },
 "nbformat": 4,
 "nbformat_minor": 4
}
